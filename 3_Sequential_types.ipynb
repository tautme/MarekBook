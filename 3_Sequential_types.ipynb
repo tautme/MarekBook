{
 "cells": [
  {
   "cell_type": "code",
   "execution_count": 1,
   "id": "7e7f4ce3-26ea-4e54-8243-80b2e4144fde",
   "metadata": {},
   "outputs": [
    {
     "name": "stdout",
     "output_type": "stream",
     "text": [
      "[True, 'two', 3, [4j, 5, 'six'], None]\n"
     ]
    }
   ],
   "source": [
    "x = [True, \"two\", 3, [4j, 5, \"six\"], None]\n",
    "print(x)"
   ]
  },
  {
   "cell_type": "code",
   "execution_count": 2,
   "id": "6069cb53-2312-45cb-8114-f56d2d70eb3a",
   "metadata": {},
   "outputs": [
    {
     "name": "stdout",
     "output_type": "stream",
     "text": [
      "[True, 'two', 3, [4j, 5, 'six'], None, 'spam']\n"
     ]
    }
   ],
   "source": [
    "x.append(\"spam\")\n",
    "print(x)"
   ]
  },
  {
   "cell_type": "code",
   "execution_count": 6,
   "id": "d82701d8-fc45-4922-9d9a-56178d3baae6",
   "metadata": {},
   "outputs": [
    {
     "data": {
      "text/plain": [
       "list"
      ]
     },
     "execution_count": 6,
     "metadata": {},
     "output_type": "execute_result"
    }
   ],
   "source": [
    "type(x)"
   ]
  },
  {
   "cell_type": "code",
   "execution_count": 8,
   "id": "9dfce4b9-f77c-4257-8825-3d262505c850",
   "metadata": {},
   "outputs": [
    {
     "data": {
      "text/plain": [
       "tuple"
      ]
     },
     "execution_count": 8,
     "metadata": {},
     "output_type": "execute_result"
    }
   ],
   "source": [
    "xx = (\"one\", [], (3j, 4))\n",
    "type(xx)"
   ]
  },
  {
   "cell_type": "code",
   "execution_count": 9,
   "id": "38637170-fb0c-4cca-8d16-55ba5943796d",
   "metadata": {},
   "outputs": [
    {
     "data": {
      "text/plain": [
       "tuple"
      ]
     },
     "execution_count": 9,
     "metadata": {},
     "output_type": "execute_result"
    }
   ],
   "source": [
    "type((42,))"
   ]
  },
  {
   "cell_type": "code",
   "execution_count": 13,
   "id": "4a7978dc-de2d-4cbc-9d86-616d66a0e25e",
   "metadata": {},
   "outputs": [
    {
     "data": {
      "text/plain": [
       "[0, 1, 2, 3, 4]"
      ]
     },
     "execution_count": 13,
     "metadata": {},
     "output_type": "execute_result"
    }
   ],
   "source": [
    "list(range(0, 5))"
   ]
  },
  {
   "cell_type": "code",
   "execution_count": 11,
   "id": "269eaeda-a782-4b83-a41b-2ffeade20efa",
   "metadata": {},
   "outputs": [
    {
     "data": {
      "text/plain": [
       "[10, 9, 8, 7, 6, 5, 4, 3, 2, 1]"
      ]
     },
     "execution_count": 11,
     "metadata": {},
     "output_type": "execute_result"
    }
   ],
   "source": [
    "list(range(10, 0, -1))"
   ]
  },
  {
   "cell_type": "code",
   "execution_count": 14,
   "id": "a776bd3f-7b60-4e3b-b6d6-95b5c54b4c2b",
   "metadata": {},
   "outputs": [
    {
     "name": "stdout",
     "output_type": "stream",
     "text": [
      "lovely\n",
      "spam\n"
     ]
    }
   ],
   "source": [
    "print(\"lovely\\nspam\")"
   ]
  },
  {
   "cell_type": "code",
   "execution_count": 15,
   "id": "cd939a1f-155d-4c94-b5a0-f14f2f42f9d2",
   "metadata": {},
   "outputs": [
    {
     "data": {
      "text/plain": [
       "'one'"
      ]
     },
     "execution_count": 15,
     "metadata": {},
     "output_type": "execute_result"
    }
   ],
   "source": [
    "x = [\"one\", \"two\", \"three\", \"four\", \"five\"]\n",
    "x[0]"
   ]
  },
  {
   "cell_type": "code",
   "execution_count": 16,
   "id": "ba36faf0-be43-4ae1-863b-108b07649dc3",
   "metadata": {},
   "outputs": [
    {
     "data": {
      "text/plain": [
       "'two'"
      ]
     },
     "execution_count": 16,
     "metadata": {},
     "output_type": "execute_result"
    }
   ],
   "source": [
    "x[1]"
   ]
  },
  {
   "cell_type": "code",
   "execution_count": 17,
   "id": "a155f2c8-3a0d-47d6-8921-568495237c1e",
   "metadata": {},
   "outputs": [
    {
     "data": {
      "text/plain": [
       "'five'"
      ]
     },
     "execution_count": 17,
     "metadata": {},
     "output_type": "execute_result"
    }
   ],
   "source": [
    "x[len(x)-1]"
   ]
  },
  {
   "cell_type": "code",
   "execution_count": 18,
   "id": "8ed27372-de0f-450d-b798-53a5c4b362f3",
   "metadata": {},
   "outputs": [
    {
     "data": {
      "text/plain": [
       "'five'"
      ]
     },
     "execution_count": 18,
     "metadata": {},
     "output_type": "execute_result"
    }
   ],
   "source": [
    "x[-1]"
   ]
  },
  {
   "cell_type": "code",
   "execution_count": 19,
   "id": "48300f81-8b7c-4c31-8e9a-227bda17be45",
   "metadata": {},
   "outputs": [
    {
     "data": {
      "text/plain": [
       "'i'"
      ]
     },
     "execution_count": 19,
     "metadata": {},
     "output_type": "execute_result"
    }
   ],
   "source": [
    "\"string\"[3]"
   ]
  },
  {
   "cell_type": "code",
   "execution_count": 20,
   "id": "d483d6c6-ca00-4996-ba2c-f1932d9a457e",
   "metadata": {},
   "outputs": [
    {
     "data": {
      "text/plain": [
       "['two', 'three', 'four']"
      ]
     },
     "execution_count": 20,
     "metadata": {},
     "output_type": "execute_result"
    }
   ],
   "source": [
    "x[1:4]"
   ]
  },
  {
   "cell_type": "code",
   "execution_count": 21,
   "id": "6213f611-bd79-486a-8307-b3e07301425c",
   "metadata": {},
   "outputs": [
    {
     "data": {
      "text/plain": [
       "['five', 'three']"
      ]
     },
     "execution_count": 21,
     "metadata": {},
     "output_type": "execute_result"
    }
   ],
   "source": [
    "x[-1:0:-2]"
   ]
  },
  {
   "cell_type": "code",
   "execution_count": 22,
   "id": "71fcaf1e-b3b9-42a9-b92d-be8238e8958e",
   "metadata": {},
   "outputs": [
    {
     "data": {
      "text/plain": [
       "['four', 'five']"
      ]
     },
     "execution_count": 22,
     "metadata": {},
     "output_type": "execute_result"
    }
   ],
   "source": [
    "x[3:]"
   ]
  },
  {
   "cell_type": "code",
   "execution_count": 23,
   "id": "2f21c26b-b9ed-4c60-8379-90ef701e1a13",
   "metadata": {},
   "outputs": [
    {
     "data": {
      "text/plain": [
       "['one', 'two']"
      ]
     },
     "execution_count": 23,
     "metadata": {},
     "output_type": "execute_result"
    }
   ],
   "source": [
    "x[:2]"
   ]
  },
  {
   "cell_type": "code",
   "execution_count": 24,
   "id": "b8f194b1-b43d-48d1-a506-b2bf56610a8b",
   "metadata": {},
   "outputs": [
    {
     "data": {
      "text/plain": [
       "[]"
      ]
     },
     "execution_count": 24,
     "metadata": {},
     "output_type": "execute_result"
    }
   ],
   "source": [
    "x[:0]"
   ]
  },
  {
   "cell_type": "code",
   "execution_count": 25,
   "id": "54ba732d-8aa2-4d38-bca2-b15f524b9b37",
   "metadata": {},
   "outputs": [
    {
     "data": {
      "text/plain": [
       "['one', 'three', 'five']"
      ]
     },
     "execution_count": 25,
     "metadata": {},
     "output_type": "execute_result"
    }
   ],
   "source": [
    "x[::2]"
   ]
  },
  {
   "cell_type": "code",
   "execution_count": 26,
   "id": "54a1855f-21bb-4ea7-9d0f-8952d3f9f44b",
   "metadata": {},
   "outputs": [
    {
     "data": {
      "text/plain": [
       "['five', 'four', 'three', 'two', 'one']"
      ]
     },
     "execution_count": 26,
     "metadata": {},
     "output_type": "execute_result"
    }
   ],
   "source": [
    "x[::-1]"
   ]
  },
  {
   "cell_type": "code",
   "execution_count": 27,
   "id": "ac11b87d-445f-4260-a36b-a2acb01784ea",
   "metadata": {},
   "outputs": [
    {
     "name": "stdout",
     "output_type": "stream",
     "text": [
      "['one', 'two', 'three', 'four', 'five']\n"
     ]
    }
   ],
   "source": [
    "print(x)"
   ]
  },
  {
   "cell_type": "code",
   "execution_count": 29,
   "id": "cd0b7ddc-b0e0-4b6e-82d1-b308d8a735ab",
   "metadata": {},
   "outputs": [],
   "source": [
    "x[0] = \"spam\""
   ]
  },
  {
   "cell_type": "code",
   "execution_count": 30,
   "id": "9c85151b-3a6a-4f80-a736-6547da1b346d",
   "metadata": {},
   "outputs": [],
   "source": [
    "x[-3:] = [\"bacon\", \"eggs\"]"
   ]
  },
  {
   "cell_type": "code",
   "execution_count": 31,
   "id": "f953d466-72eb-4356-ae17-6f30c5052c6b",
   "metadata": {},
   "outputs": [
    {
     "name": "stdout",
     "output_type": "stream",
     "text": [
      "['spam', 'two', 'bacon', 'eggs']\n"
     ]
    }
   ],
   "source": [
    "print(x)"
   ]
  },
  {
   "cell_type": "code",
   "execution_count": 32,
   "id": "e1716aef-3e40-4680-97a0-a97197a882c9",
   "metadata": {
    "collapsed": true,
    "jupyter": {
     "outputs_hidden": true
    },
    "tags": []
   },
   "outputs": [
    {
     "name": "stdout",
     "output_type": "stream",
     "text": [
      "Help on class list in module builtins:\n",
      "\n",
      "class list(object)\n",
      " |  list(iterable=(), /)\n",
      " |  \n",
      " |  Built-in mutable sequence.\n",
      " |  \n",
      " |  If no argument is given, the constructor creates a new empty list.\n",
      " |  The argument must be an iterable if specified.\n",
      " |  \n",
      " |  Methods defined here:\n",
      " |  \n",
      " |  __add__(self, value, /)\n",
      " |      Return self+value.\n",
      " |  \n",
      " |  __contains__(self, key, /)\n",
      " |      Return key in self.\n",
      " |  \n",
      " |  __delitem__(self, key, /)\n",
      " |      Delete self[key].\n",
      " |  \n",
      " |  __eq__(self, value, /)\n",
      " |      Return self==value.\n",
      " |  \n",
      " |  __ge__(self, value, /)\n",
      " |      Return self>=value.\n",
      " |  \n",
      " |  __getattribute__(self, name, /)\n",
      " |      Return getattr(self, name).\n",
      " |  \n",
      " |  __getitem__(...)\n",
      " |      x.__getitem__(y) <==> x[y]\n",
      " |  \n",
      " |  __gt__(self, value, /)\n",
      " |      Return self>value.\n",
      " |  \n",
      " |  __iadd__(self, value, /)\n",
      " |      Implement self+=value.\n",
      " |  \n",
      " |  __imul__(self, value, /)\n",
      " |      Implement self*=value.\n",
      " |  \n",
      " |  __init__(self, /, *args, **kwargs)\n",
      " |      Initialize self.  See help(type(self)) for accurate signature.\n",
      " |  \n",
      " |  __iter__(self, /)\n",
      " |      Implement iter(self).\n",
      " |  \n",
      " |  __le__(self, value, /)\n",
      " |      Return self<=value.\n",
      " |  \n",
      " |  __len__(self, /)\n",
      " |      Return len(self).\n",
      " |  \n",
      " |  __lt__(self, value, /)\n",
      " |      Return self<value.\n",
      " |  \n",
      " |  __mul__(self, value, /)\n",
      " |      Return self*value.\n",
      " |  \n",
      " |  __ne__(self, value, /)\n",
      " |      Return self!=value.\n",
      " |  \n",
      " |  __repr__(self, /)\n",
      " |      Return repr(self).\n",
      " |  \n",
      " |  __reversed__(self, /)\n",
      " |      Return a reverse iterator over the list.\n",
      " |  \n",
      " |  __rmul__(self, value, /)\n",
      " |      Return value*self.\n",
      " |  \n",
      " |  __setitem__(self, key, value, /)\n",
      " |      Set self[key] to value.\n",
      " |  \n",
      " |  __sizeof__(self, /)\n",
      " |      Return the size of the list in memory, in bytes.\n",
      " |  \n",
      " |  append(self, object, /)\n",
      " |      Append object to the end of the list.\n",
      " |  \n",
      " |  clear(self, /)\n",
      " |      Remove all items from list.\n",
      " |  \n",
      " |  copy(self, /)\n",
      " |      Return a shallow copy of the list.\n",
      " |  \n",
      " |  count(self, value, /)\n",
      " |      Return number of occurrences of value.\n",
      " |  \n",
      " |  extend(self, iterable, /)\n",
      " |      Extend list by appending elements from the iterable.\n",
      " |  \n",
      " |  index(self, value, start=0, stop=9223372036854775807, /)\n",
      " |      Return first index of value.\n",
      " |      \n",
      " |      Raises ValueError if the value is not present.\n",
      " |  \n",
      " |  insert(self, index, object, /)\n",
      " |      Insert object before index.\n",
      " |  \n",
      " |  pop(self, index=-1, /)\n",
      " |      Remove and return item at index (default last).\n",
      " |      \n",
      " |      Raises IndexError if list is empty or index is out of range.\n",
      " |  \n",
      " |  remove(self, value, /)\n",
      " |      Remove first occurrence of value.\n",
      " |      \n",
      " |      Raises ValueError if the value is not present.\n",
      " |  \n",
      " |  reverse(self, /)\n",
      " |      Reverse *IN PLACE*.\n",
      " |  \n",
      " |  sort(self, /, *, key=None, reverse=False)\n",
      " |      Sort the list in ascending order and return None.\n",
      " |      \n",
      " |      The sort is in-place (i.e. the list itself is modified) and stable (i.e. the\n",
      " |      order of two equal elements is maintained).\n",
      " |      \n",
      " |      If a key function is given, apply it once to each list item and sort them,\n",
      " |      ascending or descending, according to their function values.\n",
      " |      \n",
      " |      The reverse flag can be set to sort in descending order.\n",
      " |  \n",
      " |  ----------------------------------------------------------------------\n",
      " |  Class methods defined here:\n",
      " |  \n",
      " |  __class_getitem__(...) from builtins.type\n",
      " |      See PEP 585\n",
      " |  \n",
      " |  ----------------------------------------------------------------------\n",
      " |  Static methods defined here:\n",
      " |  \n",
      " |  __new__(*args, **kwargs) from builtins.type\n",
      " |      Create and return a new object.  See help(type) for accurate signature.\n",
      " |  \n",
      " |  ----------------------------------------------------------------------\n",
      " |  Data and other attributes defined here:\n",
      " |  \n",
      " |  __hash__ = None\n",
      "\n"
     ]
    }
   ],
   "source": [
    "help(\"list\")"
   ]
  },
  {
   "cell_type": "code",
   "execution_count": 34,
   "id": "af7e17ed-418e-44d4-8c57-34df9f0b9a4e",
   "metadata": {},
   "outputs": [],
   "source": [
    "x.insert(1, \"bisk\")"
   ]
  },
  {
   "cell_type": "code",
   "execution_count": 35,
   "id": "e1773adf-a63f-48b1-8640-c50492913e98",
   "metadata": {},
   "outputs": [
    {
     "name": "stdout",
     "output_type": "stream",
     "text": [
      "['spam', 'bisk', 'two', 'bacon', 'eggs']\n"
     ]
    }
   ],
   "source": [
    "print(x)"
   ]
  },
  {
   "cell_type": "code",
   "execution_count": 37,
   "id": "28200c1a-e5fd-4ea8-9857-3c677881986c",
   "metadata": {},
   "outputs": [
    {
     "data": {
      "text/plain": [
       "list"
      ]
     },
     "execution_count": 37,
     "metadata": {},
     "output_type": "execute_result"
    }
   ],
   "source": [
    "type(x)"
   ]
  },
  {
   "cell_type": "code",
   "execution_count": 39,
   "id": "4e4f4621-d70d-4599-bd66-7a49e7eaa0af",
   "metadata": {},
   "outputs": [
    {
     "name": "stdout",
     "output_type": "stream",
     "text": [
      "['spam', 'two', 'bacon', 'eggs']\n"
     ]
    }
   ],
   "source": [
    "x.remove(\"bisk\")\n",
    "print(x)"
   ]
  },
  {
   "cell_type": "code",
   "execution_count": 42,
   "id": "28f99f2c-d797-412e-8f27-790bcd119cda",
   "metadata": {},
   "outputs": [
    {
     "name": "stdout",
     "output_type": "stream",
     "text": [
      "['eggs']\n",
      "bacon\n"
     ]
    }
   ],
   "source": [
    "p = x.pop(0)\n",
    "print(x)\n",
    "print(p)"
   ]
  },
  {
   "cell_type": "code",
   "execution_count": 43,
   "id": "e83adb14-9678-4bbc-9683-20ec2504dea1",
   "metadata": {},
   "outputs": [],
   "source": [
    "s = \"string\""
   ]
  },
  {
   "cell_type": "code",
   "execution_count": 44,
   "id": "2b88c7ef-cedf-4e1a-ae61-c38f5f6e3629",
   "metadata": {},
   "outputs": [
    {
     "name": "stdout",
     "output_type": "stream",
     "text": [
      "string\n"
     ]
    }
   ],
   "source": [
    "print(s)"
   ]
  },
  {
   "cell_type": "code",
   "execution_count": 45,
   "id": "ab218f53-f19c-40bd-8707-65f841231aeb",
   "metadata": {},
   "outputs": [
    {
     "ename": "AttributeError",
     "evalue": "'str' object has no attribute 'remove'",
     "output_type": "error",
     "traceback": [
      "\u001b[1;31m---------------------------------------------------------------------------\u001b[0m",
      "\u001b[1;31mAttributeError\u001b[0m                            Traceback (most recent call last)",
      "\u001b[1;32m~\\AppData\\Local\\Temp/ipykernel_13108/3476093608.py\u001b[0m in \u001b[0;36m<module>\u001b[1;34m\u001b[0m\n\u001b[1;32m----> 1\u001b[1;33m \u001b[0ms\u001b[0m\u001b[1;33m.\u001b[0m\u001b[0mremove\u001b[0m\u001b[1;33m(\u001b[0m\u001b[1;36m1\u001b[0m\u001b[1;33m)\u001b[0m\u001b[1;33m\u001b[0m\u001b[1;33m\u001b[0m\u001b[0m\n\u001b[0m\u001b[0;32m      2\u001b[0m \u001b[0mprint\u001b[0m\u001b[1;33m(\u001b[0m\u001b[0ms\u001b[0m\u001b[1;33m)\u001b[0m\u001b[1;33m\u001b[0m\u001b[1;33m\u001b[0m\u001b[0m\n",
      "\u001b[1;31mAttributeError\u001b[0m: 'str' object has no attribute 'remove'"
     ]
    }
   ],
   "source": [
    "s.remove(1)\n",
    "print(s)"
   ]
  },
  {
   "cell_type": "code",
   "execution_count": 46,
   "id": "0cf16eae-ad40-4f05-8b6d-34db2b7be7c6",
   "metadata": {},
   "outputs": [
    {
     "ename": "SyntaxError",
     "evalue": "invalid syntax (Temp/ipykernel_13108/4175706575.py, line 1)",
     "output_type": "error",
     "traceback": [
      "\u001b[1;36m  File \u001b[1;32m\"C:\\Users\\jahughes\\AppData\\Local\\Temp/ipykernel_13108/4175706575.py\"\u001b[1;36m, line \u001b[1;32m1\u001b[0m\n\u001b[1;33m    7 count range(0, 10)\u001b[0m\n\u001b[1;37m      ^\u001b[0m\n\u001b[1;31mSyntaxError\u001b[0m\u001b[1;31m:\u001b[0m invalid syntax\n"
     ]
    }
   ],
   "source": [
    "7 in range(0, 10)"
   ]
  },
  {
   "cell_type": "code",
   "execution_count": 47,
   "id": "9a6b8c56-4dc2-48bc-9fe0-0996071e10d5",
   "metadata": {},
   "outputs": [
    {
     "data": {
      "text/plain": [
       "True"
      ]
     },
     "execution_count": 47,
     "metadata": {},
     "output_type": "execute_result"
    }
   ],
   "source": [
    "[2, 3] in [ 1, [2, 3], [4, 5, 6] ]"
   ]
  },
  {
   "cell_type": "code",
   "execution_count": 50,
   "id": "dacbe9e6-85ac-4699-99bd-9f89eaa70f38",
   "metadata": {
    "collapsed": true,
    "jupyter": {
     "outputs_hidden": true
    },
    "tags": []
   },
   "outputs": [
    {
     "name": "stdout",
     "output_type": "stream",
     "text": [
      "Help on class list in module builtins:\n",
      "\n",
      "class list(object)\n",
      " |  list(iterable=(), /)\n",
      " |  \n",
      " |  Built-in mutable sequence.\n",
      " |  \n",
      " |  If no argument is given, the constructor creates a new empty list.\n",
      " |  The argument must be an iterable if specified.\n",
      " |  \n",
      " |  Methods defined here:\n",
      " |  \n",
      " |  __add__(self, value, /)\n",
      " |      Return self+value.\n",
      " |  \n",
      " |  __contains__(self, key, /)\n",
      " |      Return key in self.\n",
      " |  \n",
      " |  __delitem__(self, key, /)\n",
      " |      Delete self[key].\n",
      " |  \n",
      " |  __eq__(self, value, /)\n",
      " |      Return self==value.\n",
      " |  \n",
      " |  __ge__(self, value, /)\n",
      " |      Return self>=value.\n",
      " |  \n",
      " |  __getattribute__(self, name, /)\n",
      " |      Return getattr(self, name).\n",
      " |  \n",
      " |  __getitem__(...)\n",
      " |      x.__getitem__(y) <==> x[y]\n",
      " |  \n",
      " |  __gt__(self, value, /)\n",
      " |      Return self>value.\n",
      " |  \n",
      " |  __iadd__(self, value, /)\n",
      " |      Implement self+=value.\n",
      " |  \n",
      " |  __imul__(self, value, /)\n",
      " |      Implement self*=value.\n",
      " |  \n",
      " |  __init__(self, /, *args, **kwargs)\n",
      " |      Initialize self.  See help(type(self)) for accurate signature.\n",
      " |  \n",
      " |  __iter__(self, /)\n",
      " |      Implement iter(self).\n",
      " |  \n",
      " |  __le__(self, value, /)\n",
      " |      Return self<=value.\n",
      " |  \n",
      " |  __len__(self, /)\n",
      " |      Return len(self).\n",
      " |  \n",
      " |  __lt__(self, value, /)\n",
      " |      Return self<value.\n",
      " |  \n",
      " |  __mul__(self, value, /)\n",
      " |      Return self*value.\n",
      " |  \n",
      " |  __ne__(self, value, /)\n",
      " |      Return self!=value.\n",
      " |  \n",
      " |  __repr__(self, /)\n",
      " |      Return repr(self).\n",
      " |  \n",
      " |  __reversed__(self, /)\n",
      " |      Return a reverse iterator over the list.\n",
      " |  \n",
      " |  __rmul__(self, value, /)\n",
      " |      Return value*self.\n",
      " |  \n",
      " |  __setitem__(self, key, value, /)\n",
      " |      Set self[key] to value.\n",
      " |  \n",
      " |  __sizeof__(self, /)\n",
      " |      Return the size of the list in memory, in bytes.\n",
      " |  \n",
      " |  append(self, object, /)\n",
      " |      Append object to the end of the list.\n",
      " |  \n",
      " |  clear(self, /)\n",
      " |      Remove all items from list.\n",
      " |  \n",
      " |  copy(self, /)\n",
      " |      Return a shallow copy of the list.\n",
      " |  \n",
      " |  count(self, value, /)\n",
      " |      Return number of occurrences of value.\n",
      " |  \n",
      " |  extend(self, iterable, /)\n",
      " |      Extend list by appending elements from the iterable.\n",
      " |  \n",
      " |  index(self, value, start=0, stop=9223372036854775807, /)\n",
      " |      Return first index of value.\n",
      " |      \n",
      " |      Raises ValueError if the value is not present.\n",
      " |  \n",
      " |  insert(self, index, object, /)\n",
      " |      Insert object before index.\n",
      " |  \n",
      " |  pop(self, index=-1, /)\n",
      " |      Remove and return item at index (default last).\n",
      " |      \n",
      " |      Raises IndexError if list is empty or index is out of range.\n",
      " |  \n",
      " |  remove(self, value, /)\n",
      " |      Remove first occurrence of value.\n",
      " |      \n",
      " |      Raises ValueError if the value is not present.\n",
      " |  \n",
      " |  reverse(self, /)\n",
      " |      Reverse *IN PLACE*.\n",
      " |  \n",
      " |  sort(self, /, *, key=None, reverse=False)\n",
      " |      Sort the list in ascending order and return None.\n",
      " |      \n",
      " |      The sort is in-place (i.e. the list itself is modified) and stable (i.e. the\n",
      " |      order of two equal elements is maintained).\n",
      " |      \n",
      " |      If a key function is given, apply it once to each list item and sort them,\n",
      " |      ascending or descending, according to their function values.\n",
      " |      \n",
      " |      The reverse flag can be set to sort in descending order.\n",
      " |  \n",
      " |  ----------------------------------------------------------------------\n",
      " |  Class methods defined here:\n",
      " |  \n",
      " |  __class_getitem__(...) from builtins.type\n",
      " |      See PEP 585\n",
      " |  \n",
      " |  ----------------------------------------------------------------------\n",
      " |  Static methods defined here:\n",
      " |  \n",
      " |  __new__(*args, **kwargs) from builtins.type\n",
      " |      Create and return a new object.  See help(type) for accurate signature.\n",
      " |  \n",
      " |  ----------------------------------------------------------------------\n",
      " |  Data and other attributes defined here:\n",
      " |  \n",
      " |  __hash__ = None\n",
      "\n"
     ]
    }
   ],
   "source": [
    "help(\"list\")"
   ]
  },
  {
   "cell_type": "code",
   "execution_count": 51,
   "id": "03fcde38-6d93-452f-99b0-fad0420a096e",
   "metadata": {},
   "outputs": [
    {
     "data": {
      "text/plain": [
       "list"
      ]
     },
     "execution_count": 51,
     "metadata": {},
     "output_type": "execute_result"
    }
   ],
   "source": [
    "type(x)"
   ]
  },
  {
   "cell_type": "code",
   "execution_count": 52,
   "id": "2b9cbe2d-a4fd-40ce-b38c-f681ca8c1b6c",
   "metadata": {},
   "outputs": [
    {
     "name": "stdout",
     "output_type": "stream",
     "text": [
      "['eggs']\n"
     ]
    }
   ],
   "source": [
    "print(x)"
   ]
  },
  {
   "cell_type": "code",
   "execution_count": 55,
   "id": "a3fae79f-a5f5-47f4-9853-b8d0ae68b3eb",
   "metadata": {},
   "outputs": [
    {
     "data": {
      "text/plain": [
       "1"
      ]
     },
     "execution_count": 55,
     "metadata": {},
     "output_type": "execute_result"
    }
   ],
   "source": [
    "x.count(\"eggs\")"
   ]
  },
  {
   "cell_type": "code",
   "execution_count": 56,
   "id": "a7ad9dff-b576-4784-86d8-affe44dbe60e",
   "metadata": {},
   "outputs": [
    {
     "data": {
      "text/plain": [
       "0"
      ]
     },
     "execution_count": 56,
     "metadata": {},
     "output_type": "execute_result"
    }
   ],
   "source": [
    "x.index(\"eggs\")"
   ]
  },
  {
   "cell_type": "code",
   "execution_count": 57,
   "id": "ffd27477-e9c9-478c-94ae-0d4509979ade",
   "metadata": {},
   "outputs": [],
   "source": [
    "x = [\"one\", \"two\", \"three\", \"four\", \"five\"]"
   ]
  },
  {
   "cell_type": "code",
   "execution_count": 58,
   "id": "e42d69ae-152d-4617-b37f-0433b640c836",
   "metadata": {},
   "outputs": [
    {
     "data": {
      "text/plain": [
       "2"
      ]
     },
     "execution_count": 58,
     "metadata": {},
     "output_type": "execute_result"
    }
   ],
   "source": [
    "x.index(\"three\")"
   ]
  },
  {
   "cell_type": "code",
   "execution_count": 59,
   "id": "a7251d2c-07f8-49a1-aa76-ecf8e446fd3d",
   "metadata": {},
   "outputs": [
    {
     "data": {
      "text/plain": [
       "'spam bacon'"
      ]
     },
     "execution_count": 59,
     "metadata": {},
     "output_type": "execute_result"
    }
   ],
   "source": [
    "\"spam\" + \" \" + \"bacon\""
   ]
  },
  {
   "cell_type": "code",
   "execution_count": 60,
   "id": "33e6d393-71a1-4c99-803f-f22eb2b19090",
   "metadata": {},
   "outputs": [
    {
     "data": {
      "text/plain": [
       "[1, 2, 3, 4]"
      ]
     },
     "execution_count": 60,
     "metadata": {},
     "output_type": "execute_result"
    }
   ],
   "source": [
    "[1, 2, 3] + [4]"
   ]
  },
  {
   "cell_type": "code",
   "execution_count": 61,
   "id": "b66d4b9a-b598-47ba-883f-1d301bd5cbdf",
   "metadata": {},
   "outputs": [
    {
     "data": {
      "text/plain": [
       "'spamspamspam'"
      ]
     },
     "execution_count": 61,
     "metadata": {},
     "output_type": "execute_result"
    }
   ],
   "source": [
    "\"spam\" * 3"
   ]
  },
  {
   "cell_type": "code",
   "execution_count": 62,
   "id": "efd65f51-f0d9-4995-9e75-e95f25893e43",
   "metadata": {},
   "outputs": [
    {
     "data": {
      "text/plain": [
       "(1, 2, 3, 4)"
      ]
     },
     "execution_count": 62,
     "metadata": {},
     "output_type": "execute_result"
    }
   ],
   "source": [
    "(1, 2) + (3, 4)"
   ]
  },
  {
   "cell_type": "code",
   "execution_count": 63,
   "id": "a1797b9a-67d8-4f0e-b184-1503d2038cc7",
   "metadata": {},
   "outputs": [
    {
     "data": {
      "text/plain": [
       "(1, 3, 1, 3, 1, 3)"
      ]
     },
     "execution_count": 63,
     "metadata": {},
     "output_type": "execute_result"
    }
   ],
   "source": [
    "(1, 3) * 3"
   ]
  },
  {
   "cell_type": "code",
   "execution_count": 64,
   "id": "14d61469-5266-4ff0-a16a-2dea1c04b8f3",
   "metadata": {},
   "outputs": [
    {
     "name": "stdout",
     "output_type": "stream",
     "text": [
      "{'a': [1, 2, 3], 'b': 7, 'z': 'spam!'}\n"
     ]
    }
   ],
   "source": [
    "x = {\n",
    "    \"a\": [1, 2, 3],\n",
    "    \"b\": 7,\n",
    "    \"z\": \"spam!\"\n",
    "}\n",
    "print(x)"
   ]
  },
  {
   "cell_type": "code",
   "execution_count": 65,
   "id": "cd5ae5ec-67a0-45c2-b6b0-3beb8b696c69",
   "metadata": {},
   "outputs": [
    {
     "data": {
      "text/plain": [
       "{'a': [1, 2, 3], 'b': 7, 'z': 'spam!'}"
      ]
     },
     "execution_count": 65,
     "metadata": {},
     "output_type": "execute_result"
    }
   ],
   "source": [
    "dict(a=[1, 2, 3], b=7, z=\"spam!\")"
   ]
  },
  {
   "cell_type": "code",
   "execution_count": 66,
   "id": "066268aa-2c1b-4e22-8bfe-22b499c01be6",
   "metadata": {},
   "outputs": [
    {
     "data": {
      "text/plain": [
       "dict"
      ]
     },
     "execution_count": 66,
     "metadata": {},
     "output_type": "execute_result"
    }
   ],
   "source": [
    "type(x)"
   ]
  },
  {
   "cell_type": "code",
   "execution_count": 67,
   "id": "60be384e-9abd-4093-bada-a83198b4fbdb",
   "metadata": {},
   "outputs": [
    {
     "data": {
      "text/plain": [
       "[1, 2, 3]"
      ]
     },
     "execution_count": 67,
     "metadata": {},
     "output_type": "execute_result"
    }
   ],
   "source": [
    "x[\"a\"]"
   ]
  },
  {
   "cell_type": "code",
   "execution_count": 68,
   "id": "407e8316-3cb6-4868-b961-c06cd90571d9",
   "metadata": {},
   "outputs": [
    {
     "data": {
      "text/plain": [
       "(True, True, True, False)"
      ]
     },
     "execution_count": 68,
     "metadata": {},
     "output_type": "execute_result"
    }
   ],
   "source": [
    "\"a\" in x, 0 not in x, \"z\" in x, \"w\" in x"
   ]
  },
  {
   "cell_type": "code",
   "execution_count": 69,
   "id": "e08430ce-b2ac-453d-9347-a5cef113934d",
   "metadata": {},
   "outputs": [],
   "source": [
    "x[\"f\"] = \"more spam!\""
   ]
  },
  {
   "cell_type": "code",
   "execution_count": 70,
   "id": "d25dac79-f544-4209-9562-504ebc98f52b",
   "metadata": {},
   "outputs": [
    {
     "name": "stdout",
     "output_type": "stream",
     "text": [
      "{'a': [1, 2, 3], 'b': 7, 'z': 'spam!', 'f': 'more spam!'}\n"
     ]
    }
   ],
   "source": [
    "print(x)"
   ]
  },
  {
   "cell_type": "code",
   "execution_count": 71,
   "id": "56e81345-8a55-4366-970a-cf1cae560648",
   "metadata": {},
   "outputs": [],
   "source": [
    "import requests"
   ]
  },
  {
   "cell_type": "code",
   "execution_count": 72,
   "id": "18a1c50c-e722-47c5-b7c7-0f8370474fef",
   "metadata": {},
   "outputs": [],
   "source": [
    "x = requests.get(\"https://api.github.com/users/gagolews/starred\").json()"
   ]
  },
  {
   "cell_type": "code",
   "execution_count": 73,
   "id": "b567bed4-6259-4e24-8379-75999b3c9402",
   "metadata": {},
   "outputs": [
    {
     "data": {
      "text/plain": [
       "list"
      ]
     },
     "execution_count": 73,
     "metadata": {},
     "output_type": "execute_result"
    }
   ],
   "source": [
    "type(x)"
   ]
  },
  {
   "cell_type": "code",
   "execution_count": 74,
   "id": "c9baadd7-1b71-4ae9-a0d0-b0f14b766924",
   "metadata": {
    "collapsed": true,
    "jupyter": {
     "outputs_hidden": true
    },
    "tags": []
   },
   "outputs": [
    {
     "data": {
      "text/plain": [
       "{'id': 176080416,\n",
       " 'node_id': 'MDEwOlJlcG9zaXRvcnkxNzYwODA0MTY=',\n",
       " 'name': 'Clustering-via-Nonsmooth-Optimization',\n",
       " 'full_name': 'SnTa2019/Clustering-via-Nonsmooth-Optimization',\n",
       " 'private': False,\n",
       " 'owner': {'login': 'SnTa2019',\n",
       "  'id': 47778511,\n",
       "  'node_id': 'MDQ6VXNlcjQ3Nzc4NTEx',\n",
       "  'avatar_url': 'https://avatars.githubusercontent.com/u/47778511?v=4',\n",
       "  'gravatar_id': '',\n",
       "  'url': 'https://api.github.com/users/SnTa2019',\n",
       "  'html_url': 'https://github.com/SnTa2019',\n",
       "  'followers_url': 'https://api.github.com/users/SnTa2019/followers',\n",
       "  'following_url': 'https://api.github.com/users/SnTa2019/following{/other_user}',\n",
       "  'gists_url': 'https://api.github.com/users/SnTa2019/gists{/gist_id}',\n",
       "  'starred_url': 'https://api.github.com/users/SnTa2019/starred{/owner}{/repo}',\n",
       "  'subscriptions_url': 'https://api.github.com/users/SnTa2019/subscriptions',\n",
       "  'organizations_url': 'https://api.github.com/users/SnTa2019/orgs',\n",
       "  'repos_url': 'https://api.github.com/users/SnTa2019/repos',\n",
       "  'events_url': 'https://api.github.com/users/SnTa2019/events{/privacy}',\n",
       "  'received_events_url': 'https://api.github.com/users/SnTa2019/received_events',\n",
       "  'type': 'User',\n",
       "  'site_admin': False},\n",
       " 'html_url': 'https://github.com/SnTa2019/Clustering-via-Nonsmooth-Optimization',\n",
       " 'description': 'The source codes of optimization based clustering algorithms described in the book \"Partitional Clustering via Nonsmooth Optimization\" written by \"Adil M. Bagirov, Napsu Karmitsa and Sona Taheri\", [Springer, 2020]. ',\n",
       " 'fork': False,\n",
       " 'url': 'https://api.github.com/repos/SnTa2019/Clustering-via-Nonsmooth-Optimization',\n",
       " 'forks_url': 'https://api.github.com/repos/SnTa2019/Clustering-via-Nonsmooth-Optimization/forks',\n",
       " 'keys_url': 'https://api.github.com/repos/SnTa2019/Clustering-via-Nonsmooth-Optimization/keys{/key_id}',\n",
       " 'collaborators_url': 'https://api.github.com/repos/SnTa2019/Clustering-via-Nonsmooth-Optimization/collaborators{/collaborator}',\n",
       " 'teams_url': 'https://api.github.com/repos/SnTa2019/Clustering-via-Nonsmooth-Optimization/teams',\n",
       " 'hooks_url': 'https://api.github.com/repos/SnTa2019/Clustering-via-Nonsmooth-Optimization/hooks',\n",
       " 'issue_events_url': 'https://api.github.com/repos/SnTa2019/Clustering-via-Nonsmooth-Optimization/issues/events{/number}',\n",
       " 'events_url': 'https://api.github.com/repos/SnTa2019/Clustering-via-Nonsmooth-Optimization/events',\n",
       " 'assignees_url': 'https://api.github.com/repos/SnTa2019/Clustering-via-Nonsmooth-Optimization/assignees{/user}',\n",
       " 'branches_url': 'https://api.github.com/repos/SnTa2019/Clustering-via-Nonsmooth-Optimization/branches{/branch}',\n",
       " 'tags_url': 'https://api.github.com/repos/SnTa2019/Clustering-via-Nonsmooth-Optimization/tags',\n",
       " 'blobs_url': 'https://api.github.com/repos/SnTa2019/Clustering-via-Nonsmooth-Optimization/git/blobs{/sha}',\n",
       " 'git_tags_url': 'https://api.github.com/repos/SnTa2019/Clustering-via-Nonsmooth-Optimization/git/tags{/sha}',\n",
       " 'git_refs_url': 'https://api.github.com/repos/SnTa2019/Clustering-via-Nonsmooth-Optimization/git/refs{/sha}',\n",
       " 'trees_url': 'https://api.github.com/repos/SnTa2019/Clustering-via-Nonsmooth-Optimization/git/trees{/sha}',\n",
       " 'statuses_url': 'https://api.github.com/repos/SnTa2019/Clustering-via-Nonsmooth-Optimization/statuses/{sha}',\n",
       " 'languages_url': 'https://api.github.com/repos/SnTa2019/Clustering-via-Nonsmooth-Optimization/languages',\n",
       " 'stargazers_url': 'https://api.github.com/repos/SnTa2019/Clustering-via-Nonsmooth-Optimization/stargazers',\n",
       " 'contributors_url': 'https://api.github.com/repos/SnTa2019/Clustering-via-Nonsmooth-Optimization/contributors',\n",
       " 'subscribers_url': 'https://api.github.com/repos/SnTa2019/Clustering-via-Nonsmooth-Optimization/subscribers',\n",
       " 'subscription_url': 'https://api.github.com/repos/SnTa2019/Clustering-via-Nonsmooth-Optimization/subscription',\n",
       " 'commits_url': 'https://api.github.com/repos/SnTa2019/Clustering-via-Nonsmooth-Optimization/commits{/sha}',\n",
       " 'git_commits_url': 'https://api.github.com/repos/SnTa2019/Clustering-via-Nonsmooth-Optimization/git/commits{/sha}',\n",
       " 'comments_url': 'https://api.github.com/repos/SnTa2019/Clustering-via-Nonsmooth-Optimization/comments{/number}',\n",
       " 'issue_comment_url': 'https://api.github.com/repos/SnTa2019/Clustering-via-Nonsmooth-Optimization/issues/comments{/number}',\n",
       " 'contents_url': 'https://api.github.com/repos/SnTa2019/Clustering-via-Nonsmooth-Optimization/contents/{+path}',\n",
       " 'compare_url': 'https://api.github.com/repos/SnTa2019/Clustering-via-Nonsmooth-Optimization/compare/{base}...{head}',\n",
       " 'merges_url': 'https://api.github.com/repos/SnTa2019/Clustering-via-Nonsmooth-Optimization/merges',\n",
       " 'archive_url': 'https://api.github.com/repos/SnTa2019/Clustering-via-Nonsmooth-Optimization/{archive_format}{/ref}',\n",
       " 'downloads_url': 'https://api.github.com/repos/SnTa2019/Clustering-via-Nonsmooth-Optimization/downloads',\n",
       " 'issues_url': 'https://api.github.com/repos/SnTa2019/Clustering-via-Nonsmooth-Optimization/issues{/number}',\n",
       " 'pulls_url': 'https://api.github.com/repos/SnTa2019/Clustering-via-Nonsmooth-Optimization/pulls{/number}',\n",
       " 'milestones_url': 'https://api.github.com/repos/SnTa2019/Clustering-via-Nonsmooth-Optimization/milestones{/number}',\n",
       " 'notifications_url': 'https://api.github.com/repos/SnTa2019/Clustering-via-Nonsmooth-Optimization/notifications{?since,all,participating}',\n",
       " 'labels_url': 'https://api.github.com/repos/SnTa2019/Clustering-via-Nonsmooth-Optimization/labels{/name}',\n",
       " 'releases_url': 'https://api.github.com/repos/SnTa2019/Clustering-via-Nonsmooth-Optimization/releases{/id}',\n",
       " 'deployments_url': 'https://api.github.com/repos/SnTa2019/Clustering-via-Nonsmooth-Optimization/deployments',\n",
       " 'created_at': '2019-03-17T09:28:06Z',\n",
       " 'updated_at': '2022-07-10T07:50:06Z',\n",
       " 'pushed_at': '2021-11-10T06:02:52Z',\n",
       " 'git_url': 'git://github.com/SnTa2019/Clustering-via-Nonsmooth-Optimization.git',\n",
       " 'ssh_url': 'git@github.com:SnTa2019/Clustering-via-Nonsmooth-Optimization.git',\n",
       " 'clone_url': 'https://github.com/SnTa2019/Clustering-via-Nonsmooth-Optimization.git',\n",
       " 'svn_url': 'https://github.com/SnTa2019/Clustering-via-Nonsmooth-Optimization',\n",
       " 'homepage': '',\n",
       " 'size': 221,\n",
       " 'stargazers_count': 4,\n",
       " 'watchers_count': 4,\n",
       " 'language': 'Fortran',\n",
       " 'has_issues': True,\n",
       " 'has_projects': True,\n",
       " 'has_downloads': True,\n",
       " 'has_wiki': False,\n",
       " 'has_pages': False,\n",
       " 'forks_count': 1,\n",
       " 'mirror_url': None,\n",
       " 'archived': False,\n",
       " 'disabled': False,\n",
       " 'open_issues_count': 0,\n",
       " 'license': None,\n",
       " 'allow_forking': True,\n",
       " 'is_template': True,\n",
       " 'web_commit_signoff_required': False,\n",
       " 'topics': [],\n",
       " 'visibility': 'public',\n",
       " 'forks': 1,\n",
       " 'open_issues': 0,\n",
       " 'watchers': 4,\n",
       " 'default_branch': 'master'}"
      ]
     },
     "execution_count": 74,
     "metadata": {},
     "output_type": "execute_result"
    }
   ],
   "source": [
    "x[3]"
   ]
  },
  {
   "cell_type": "code",
   "execution_count": 75,
   "id": "0c92dbfe-26d0-42c7-a0dc-82c866c198dd",
   "metadata": {},
   "outputs": [
    {
     "data": {
      "text/plain": [
       "dict"
      ]
     },
     "execution_count": 75,
     "metadata": {},
     "output_type": "execute_result"
    }
   ],
   "source": [
    "type(x[3])"
   ]
  },
  {
   "cell_type": "code",
   "execution_count": 76,
   "id": "9187fa40-b977-4585-ba46-408c75ea8986",
   "metadata": {},
   "outputs": [
    {
     "data": {
      "text/plain": [
       "'Clustering-via-Nonsmooth-Optimization'"
      ]
     },
     "execution_count": 76,
     "metadata": {},
     "output_type": "execute_result"
    }
   ],
   "source": [
    "x[3][\"name\"]"
   ]
  },
  {
   "cell_type": "code",
   "execution_count": 82,
   "id": "cbc65782-12cd-4a37-8a73-cc7c089303fc",
   "metadata": {},
   "outputs": [
    {
     "data": {
      "text/plain": [
       "'nlopt'"
      ]
     },
     "execution_count": 82,
     "metadata": {},
     "output_type": "execute_result"
    }
   ],
   "source": [
    "x[20][\"name\"]"
   ]
  },
  {
   "cell_type": "code",
   "execution_count": 90,
   "id": "4580fd63-7573-4b97-aab2-b200fc3ba840",
   "metadata": {},
   "outputs": [
    {
     "data": {
      "text/plain": [
       "'Alegreya-Sans'"
      ]
     },
     "execution_count": 90,
     "metadata": {},
     "output_type": "execute_result"
    }
   ],
   "source": [
    "x[7][\"name\"]"
   ]
  },
  {
   "cell_type": "code",
   "execution_count": 102,
   "id": "b8e33180-7af6-490c-9225-8e5a1c89aaeb",
   "metadata": {},
   "outputs": [],
   "source": [
    "yy = list(\"spam\")"
   ]
  },
  {
   "cell_type": "code",
   "execution_count": 91,
   "id": "b6cf37f4-be98-40c7-aec8-e0f125a2492d",
   "metadata": {},
   "outputs": [
    {
     "data": {
      "text/plain": [
       "(0, 2, 4, 6, 8)"
      ]
     },
     "execution_count": 91,
     "metadata": {},
     "output_type": "execute_result"
    }
   ],
   "source": [
    "tuple(range(0,10,2))"
   ]
  },
  {
   "cell_type": "code",
   "execution_count": 92,
   "id": "d8f761a1-e1e9-41a5-9c07-b6a802bdb9ee",
   "metadata": {
    "collapsed": true,
    "jupyter": {
     "outputs_hidden": true
    },
    "tags": []
   },
   "outputs": [
    {
     "name": "stdout",
     "output_type": "stream",
     "text": [
      "Help on class list in module builtins:\n",
      "\n",
      "class list(object)\n",
      " |  list(iterable=(), /)\n",
      " |  \n",
      " |  Built-in mutable sequence.\n",
      " |  \n",
      " |  If no argument is given, the constructor creates a new empty list.\n",
      " |  The argument must be an iterable if specified.\n",
      " |  \n",
      " |  Methods defined here:\n",
      " |  \n",
      " |  __add__(self, value, /)\n",
      " |      Return self+value.\n",
      " |  \n",
      " |  __contains__(self, key, /)\n",
      " |      Return key in self.\n",
      " |  \n",
      " |  __delitem__(self, key, /)\n",
      " |      Delete self[key].\n",
      " |  \n",
      " |  __eq__(self, value, /)\n",
      " |      Return self==value.\n",
      " |  \n",
      " |  __ge__(self, value, /)\n",
      " |      Return self>=value.\n",
      " |  \n",
      " |  __getattribute__(self, name, /)\n",
      " |      Return getattr(self, name).\n",
      " |  \n",
      " |  __getitem__(...)\n",
      " |      x.__getitem__(y) <==> x[y]\n",
      " |  \n",
      " |  __gt__(self, value, /)\n",
      " |      Return self>value.\n",
      " |  \n",
      " |  __iadd__(self, value, /)\n",
      " |      Implement self+=value.\n",
      " |  \n",
      " |  __imul__(self, value, /)\n",
      " |      Implement self*=value.\n",
      " |  \n",
      " |  __init__(self, /, *args, **kwargs)\n",
      " |      Initialize self.  See help(type(self)) for accurate signature.\n",
      " |  \n",
      " |  __iter__(self, /)\n",
      " |      Implement iter(self).\n",
      " |  \n",
      " |  __le__(self, value, /)\n",
      " |      Return self<=value.\n",
      " |  \n",
      " |  __len__(self, /)\n",
      " |      Return len(self).\n",
      " |  \n",
      " |  __lt__(self, value, /)\n",
      " |      Return self<value.\n",
      " |  \n",
      " |  __mul__(self, value, /)\n",
      " |      Return self*value.\n",
      " |  \n",
      " |  __ne__(self, value, /)\n",
      " |      Return self!=value.\n",
      " |  \n",
      " |  __repr__(self, /)\n",
      " |      Return repr(self).\n",
      " |  \n",
      " |  __reversed__(self, /)\n",
      " |      Return a reverse iterator over the list.\n",
      " |  \n",
      " |  __rmul__(self, value, /)\n",
      " |      Return value*self.\n",
      " |  \n",
      " |  __setitem__(self, key, value, /)\n",
      " |      Set self[key] to value.\n",
      " |  \n",
      " |  __sizeof__(self, /)\n",
      " |      Return the size of the list in memory, in bytes.\n",
      " |  \n",
      " |  append(self, object, /)\n",
      " |      Append object to the end of the list.\n",
      " |  \n",
      " |  clear(self, /)\n",
      " |      Remove all items from list.\n",
      " |  \n",
      " |  copy(self, /)\n",
      " |      Return a shallow copy of the list.\n",
      " |  \n",
      " |  count(self, value, /)\n",
      " |      Return number of occurrences of value.\n",
      " |  \n",
      " |  extend(self, iterable, /)\n",
      " |      Extend list by appending elements from the iterable.\n",
      " |  \n",
      " |  index(self, value, start=0, stop=9223372036854775807, /)\n",
      " |      Return first index of value.\n",
      " |      \n",
      " |      Raises ValueError if the value is not present.\n",
      " |  \n",
      " |  insert(self, index, object, /)\n",
      " |      Insert object before index.\n",
      " |  \n",
      " |  pop(self, index=-1, /)\n",
      " |      Remove and return item at index (default last).\n",
      " |      \n",
      " |      Raises IndexError if list is empty or index is out of range.\n",
      " |  \n",
      " |  remove(self, value, /)\n",
      " |      Remove first occurrence of value.\n",
      " |      \n",
      " |      Raises ValueError if the value is not present.\n",
      " |  \n",
      " |  reverse(self, /)\n",
      " |      Reverse *IN PLACE*.\n",
      " |  \n",
      " |  sort(self, /, *, key=None, reverse=False)\n",
      " |      Sort the list in ascending order and return None.\n",
      " |      \n",
      " |      The sort is in-place (i.e. the list itself is modified) and stable (i.e. the\n",
      " |      order of two equal elements is maintained).\n",
      " |      \n",
      " |      If a key function is given, apply it once to each list item and sort them,\n",
      " |      ascending or descending, according to their function values.\n",
      " |      \n",
      " |      The reverse flag can be set to sort in descending order.\n",
      " |  \n",
      " |  ----------------------------------------------------------------------\n",
      " |  Class methods defined here:\n",
      " |  \n",
      " |  __class_getitem__(...) from builtins.type\n",
      " |      See PEP 585\n",
      " |  \n",
      " |  ----------------------------------------------------------------------\n",
      " |  Static methods defined here:\n",
      " |  \n",
      " |  __new__(*args, **kwargs) from builtins.type\n",
      " |      Create and return a new object.  See help(type) for accurate signature.\n",
      " |  \n",
      " |  ----------------------------------------------------------------------\n",
      " |  Data and other attributes defined here:\n",
      " |  \n",
      " |  __hash__ = None\n",
      "\n"
     ]
    }
   ],
   "source": [
    "help(\"list\")"
   ]
  },
  {
   "cell_type": "code",
   "execution_count": 112,
   "id": "c6babc6a-2b19-4e72-89a4-f3df02e9380b",
   "metadata": {},
   "outputs": [
    {
     "name": "stdout",
     "output_type": "stream",
     "text": [
      "[1, 2, 3, 4]\n",
      "('one', [], (3j, 4))\n"
     ]
    }
   ],
   "source": [
    "y = [1,2,3,4]\n",
    "print(y)\n",
    "print(xx)"
   ]
  },
  {
   "cell_type": "code",
   "execution_count": 116,
   "id": "e0b8c3cc-2b38-4a30-86b0-11b79785025d",
   "metadata": {},
   "outputs": [
    {
     "name": "stdout",
     "output_type": "stream",
     "text": [
      "None\n",
      "(4, 5, 67, 7)\n"
     ]
    }
   ],
   "source": [
    "e = yy.extend(xx)\n",
    "print(e)\n",
    "t = (4,5,67,7)\n",
    "print(t)"
   ]
  },
  {
   "cell_type": "code",
   "execution_count": 118,
   "id": "c1f4d3bf-279e-4abf-9315-257be7644931",
   "metadata": {},
   "outputs": [
    {
     "name": "stdout",
     "output_type": "stream",
     "text": [
      "None\n"
     ]
    }
   ],
   "source": [
    "e = yy.extend(t)\n",
    "print(e)"
   ]
  },
  {
   "cell_type": "code",
   "execution_count": 108,
   "id": "5b226288-c787-4af1-b181-7124bb869cc1",
   "metadata": {},
   "outputs": [
    {
     "data": {
      "text/plain": [
       "range(0, 5)"
      ]
     },
     "execution_count": 108,
     "metadata": {},
     "output_type": "execute_result"
    }
   ],
   "source": [
    "range(0, 5)"
   ]
  },
  {
   "cell_type": "code",
   "execution_count": 122,
   "id": "fbe126bc-91fe-4635-ba6f-ea54d80facd2",
   "metadata": {},
   "outputs": [
    {
     "data": {
      "text/plain": [
       "<zip at 0x1f6d1d56900>"
      ]
     },
     "execution_count": 122,
     "metadata": {},
     "output_type": "execute_result"
    }
   ],
   "source": [
    "zip(xx)"
   ]
  },
  {
   "cell_type": "code",
   "execution_count": 123,
   "id": "4daab436-9d3b-4f59-a55c-c70dd7f2c547",
   "metadata": {},
   "outputs": [
    {
     "data": {
      "text/plain": [
       "<enumerate at 0x1f6d1d56140>"
      ]
     },
     "execution_count": 123,
     "metadata": {},
     "output_type": "execute_result"
    }
   ],
   "source": [
    "enumerate(xx)"
   ]
  },
  {
   "cell_type": "code",
   "execution_count": 124,
   "id": "c3be32c2-55ba-4074-83e0-f89096c79ed6",
   "metadata": {},
   "outputs": [
    {
     "data": {
      "text/plain": [
       "<reversed at 0x1f6d1d71100>"
      ]
     },
     "execution_count": 124,
     "metadata": {},
     "output_type": "execute_result"
    }
   ],
   "source": [
    "reversed(xx)"
   ]
  },
  {
   "cell_type": "code",
   "execution_count": 125,
   "id": "693dd65e-cd44-4097-ae07-cf09486393bd",
   "metadata": {},
   "outputs": [
    {
     "name": "stdout",
     "output_type": "stream",
     "text": [
      "1\n",
      "two\n",
      "['three', 3j, 3]\n",
      "False\n"
     ]
    }
   ],
   "source": [
    "x = [1, \"two\", [\"three\", 3j, 3], False] \n",
    "for el in x:\n",
    "    print(el)"
   ]
  },
  {
   "cell_type": "code",
   "execution_count": 126,
   "id": "640bc9cb-2392-4145-b281-41e2a29ac954",
   "metadata": {},
   "outputs": [
    {
     "name": "stdout",
     "output_type": "stream",
     "text": [
      "0: 1\n",
      "1: two\n",
      "2: ['three', 3j, 3]\n",
      "3: False\n"
     ]
    }
   ],
   "source": [
    "for i in range(len(x)):\n",
    "    print(i, x[i], sep=\": \")"
   ]
  },
  {
   "cell_type": "code",
   "execution_count": 127,
   "id": "62705df1-59c3-431a-bedf-f5af10445d2e",
   "metadata": {},
   "outputs": [
    {
     "name": "stdout",
     "output_type": "stream",
     "text": [
      "[1, 20, 300, 4000, 50000]\n"
     ]
    }
   ],
   "source": [
    "x = [1,  2,   3,    4,     5]  # for testing\n",
    "y = [1, 10, 100, 1000, 10000]  # just a test\n",
    "z = []  # result list – start with an empty one\n",
    "for i in range(len(x)):\n",
    "    z.append(x[i] * y[i])\n",
    "print(z)"
   ]
  },
  {
   "cell_type": "code",
   "execution_count": 128,
   "id": "982bd257-b779-4265-87df-b98c3148157a",
   "metadata": {},
   "outputs": [],
   "source": [
    "import math\n",
    "def mymin(x):\n",
    "    \"\"\"\n",
    "    The smallest element in an iterable object x.\n",
    "    We assume that x consists of numbers only.\n",
    "    \"\"\"\n",
    "    curmin = math.inf  # infinity is greater than any other number\n",
    "    for e in x:\n",
    "        if e < curmin:\n",
    "            curmin = e  # a better candidate for the minimum\n",
    "    return curmin"
   ]
  },
  {
   "cell_type": "code",
   "execution_count": 132,
   "id": "b551cde0-f115-4d77-a3a4-8d4e71d2fff7",
   "metadata": {},
   "outputs": [
    {
     "data": {
      "text/plain": [
       "1"
      ]
     },
     "execution_count": 132,
     "metadata": {},
     "output_type": "execute_result"
    }
   ],
   "source": [
    "mymin(y)"
   ]
  },
  {
   "cell_type": "code",
   "execution_count": 133,
   "id": "de780329-0ec0-4d3e-ad16-cd910d9c6676",
   "metadata": {},
   "outputs": [
    {
     "name": "stdout",
     "output_type": "stream",
     "text": [
      "(array([1, 2, 3]), array([5, 3, 1], dtype=int64))\n"
     ]
    }
   ],
   "source": [
    "import numpy as np\n",
    "result = np.unique([1, 2, 1, 2, 1, 1, 3, 2, 1], return_counts=True)\n",
    "print(result)"
   ]
  },
  {
   "cell_type": "code",
   "execution_count": 134,
   "id": "83218c6b-49fa-454f-a03c-ddd0918de322",
   "metadata": {},
   "outputs": [
    {
     "data": {
      "text/plain": [
       "(tuple, 2)"
      ]
     },
     "execution_count": 134,
     "metadata": {},
     "output_type": "execute_result"
    }
   ],
   "source": [
    "type(result), len(result)"
   ]
  },
  {
   "cell_type": "code",
   "execution_count": 135,
   "id": "4617ef94-a62c-4b45-8bdf-019af357976f",
   "metadata": {},
   "outputs": [
    {
     "data": {
      "text/plain": [
       "array([1, 2, 3])"
      ]
     },
     "execution_count": 135,
     "metadata": {},
     "output_type": "execute_result"
    }
   ],
   "source": [
    "result[0]"
   ]
  },
  {
   "cell_type": "code",
   "execution_count": 3,
   "id": "98d763d5-c974-4924-b016-f231911b825d",
   "metadata": {},
   "outputs": [
    {
     "name": "stdout",
     "output_type": "stream",
     "text": [
      "[1 2 3] [5 3 1]\n"
     ]
    }
   ],
   "source": [
    "import numpy as np\n",
    "values, counts = np.unique([1, 2, 1, 2, 1, 1, 3, 2, 1], return_counts=True)\n",
    "print(values, counts)"
   ]
  },
  {
   "cell_type": "code",
   "execution_count": 9,
   "id": "80696cf4-9d5c-424e-8516-7473d395d019",
   "metadata": {},
   "outputs": [
    {
     "name": "stdout",
     "output_type": "stream",
     "text": [
      "0\n",
      "[1, 2, 3, 4, 5, 6, 7]\n",
      "8\n",
      "9\n"
     ]
    }
   ],
   "source": [
    "a, *b, c, d = range(10)\n",
    "print(a, b, c, d, sep=\"\\n\")"
   ]
  },
  {
   "cell_type": "code",
   "execution_count": 11,
   "id": "8b8fff78-aa12-4ccf-b87c-30a323774f53",
   "metadata": {},
   "outputs": [],
   "source": [
    "def test(a, b, c, d):\n",
    "    \"It is just a test – simply prints the arguments passed\"\n",
    "    print(\"a = \", a, \", b = \", b, \", c = \", c, \", d = \", d, sep=\"\")"
   ]
  },
  {
   "cell_type": "code",
   "execution_count": 17,
   "id": "2c597e11-96e8-44f7-a479-d0ab9f20ddda",
   "metadata": {},
   "outputs": [
    {
     "name": "stdout",
     "output_type": "stream",
     "text": [
      "a = 1, b = 2, c = 3, d = 4\n",
      "a = 3, b = 4, c = 5, d = 6\n"
     ]
    }
   ],
   "source": [
    "args = [1, 2, 3, 4]\n",
    "type(args)\n",
    "test(*args)\n",
    "test(3,4,5,6)"
   ]
  },
  {
   "cell_type": "code",
   "execution_count": 13,
   "id": "b5d496b4-aae1-4b7b-aaa5-ef3c0071b600",
   "metadata": {},
   "outputs": [
    {
     "name": "stdout",
     "output_type": "stream",
     "text": [
      "a = 1, b = 2, c = 3, d = 4\n"
     ]
    }
   ],
   "source": [
    "kwargs = dict(a=1, c=3, d=4, b=2)\n",
    "test(**kwargs)"
   ]
  },
  {
   "cell_type": "code",
   "execution_count": 15,
   "id": "1ebafd69-6f0f-4b4f-bc32-56e80b693d5c",
   "metadata": {},
   "outputs": [
    {
     "name": "stdout",
     "output_type": "stream",
     "text": [
      "a = 1, b = 2, c = 3, d = 4\n",
      "a = 1, b = 2, c = 3, d = 4\n",
      "a = 1, b = 2, c = 3, d = 4\n"
     ]
    }
   ],
   "source": [
    "test(1, *range(2,4), 4)\n",
    "test(1, **dict(d=4, c=3, b=2))\n",
    "test(*range(1,3), **dict(d=4, c=3))"
   ]
  },
  {
   "cell_type": "code",
   "execution_count": 18,
   "id": "02bd71ff-1464-4ead-9343-45a4ee7f6f87",
   "metadata": {},
   "outputs": [
    {
     "data": {
      "text/plain": [
       "list"
      ]
     },
     "execution_count": 18,
     "metadata": {},
     "output_type": "execute_result"
    }
   ],
   "source": [
    "type(args)"
   ]
  },
  {
   "cell_type": "code",
   "execution_count": 20,
   "id": "805fba3f-2e6b-4e4b-a629-317969753ac2",
   "metadata": {},
   "outputs": [],
   "source": [
    "def test(a, b, *args, **kwargs):\n",
    "    \"simply prints the arguments passed\"\n",
    "    print(\n",
    "        \"a = \", a, \", b = \", b,\n",
    "        \", args = \", args, \", kwargs = \", kwargs, sep=\"\"\n",
    "    )"
   ]
  },
  {
   "cell_type": "code",
   "execution_count": 21,
   "id": "77a325b1-82ac-42e0-8c74-43b9a8a0bef8",
   "metadata": {},
   "outputs": [
    {
     "name": "stdout",
     "output_type": "stream",
     "text": [
      "a = 1, b = 2, args = (3, 4, 5), kwargs = {'spam': 6, 'eggs': 7}\n"
     ]
    }
   ],
   "source": [
    "test(1, 2, 3, 4, 5, spam=6, eggs=7)"
   ]
  },
  {
   "cell_type": "code",
   "execution_count": 22,
   "id": "3a5d7ccc-6c52-46f1-99fd-c33a7ebcdbf0",
   "metadata": {},
   "outputs": [],
   "source": [
    "x = [1, 2, 3]\n",
    "y = x"
   ]
  },
  {
   "cell_type": "code",
   "execution_count": 25,
   "id": "5d50be80-24d2-4f0f-b5c4-c56304d7785c",
   "metadata": {},
   "outputs": [
    {
     "name": "stdout",
     "output_type": "stream",
     "text": [
      "[1, 2, 4]\n",
      "[1, 2, 4]\n"
     ]
    }
   ],
   "source": [
    "print(x)\n",
    "print(y)"
   ]
  },
  {
   "cell_type": "code",
   "execution_count": 24,
   "id": "1cdca23f-f1d2-43ba-a09f-23fc685839bc",
   "metadata": {},
   "outputs": [],
   "source": [
    "x[2] = 4"
   ]
  },
  {
   "cell_type": "code",
   "execution_count": 26,
   "id": "8e39eb5e-660f-4314-b582-a7e459b15bee",
   "metadata": {},
   "outputs": [
    {
     "name": "stdout",
     "output_type": "stream",
     "text": [
      "[1, 2, 4, 4]\n"
     ]
    }
   ],
   "source": [
    "x.append(4)\n",
    "print(y)"
   ]
  },
  {
   "cell_type": "code",
   "execution_count": 27,
   "id": "e04555fa-07b1-41f6-956b-5c121f53a55e",
   "metadata": {},
   "outputs": [],
   "source": [
    "def myadd(z, i):\n",
    "    z.append(i)"
   ]
  },
  {
   "cell_type": "code",
   "execution_count": 30,
   "id": "2a69bd7d-49d7-434e-815a-9b42709cf248",
   "metadata": {},
   "outputs": [
    {
     "name": "stdout",
     "output_type": "stream",
     "text": [
      "[1, 2, 4, 4, 5, 6, 5, 6, 5, 6]\n",
      "[1, 2, 4, 4, 5, 6, 5, 6, 5, 6]\n"
     ]
    }
   ],
   "source": [
    "myadd(x, 5)\n",
    "myadd(y, 6)\n",
    "print(x)\n",
    "print(y)"
   ]
  },
  {
   "cell_type": "code",
   "execution_count": 32,
   "id": "caa27dbc-ecae-4b70-8a71-db40c38533bb",
   "metadata": {},
   "outputs": [
    {
     "name": "stdout",
     "output_type": "stream",
     "text": [
      "[1, 2, 3]\n",
      "[1, 2, 3, 4]\n"
     ]
    }
   ],
   "source": [
    "x = [1, 2, 3]\n",
    "y = x.copy()\n",
    "x.append(4)\n",
    "print(y)\n",
    "print(x)"
   ]
  },
  {
   "cell_type": "code",
   "execution_count": 33,
   "id": "c595a075-6050-40ea-ba03-25e2d3bd1b32",
   "metadata": {},
   "outputs": [
    {
     "name": "stdout",
     "output_type": "stream",
     "text": [
      "[1, 2, 3, 4, 5]\n",
      "[5, 3, 2, 4, 1]\n"
     ]
    }
   ],
   "source": [
    "x = [5, 3, 2, 4, 1]\n",
    "print(sorted(x))\n",
    "print(x)"
   ]
  },
  {
   "cell_type": "code",
   "execution_count": 34,
   "id": "3c79c582-25a7-40b2-80a8-c3e90ce7a1e7",
   "metadata": {},
   "outputs": [
    {
     "name": "stdout",
     "output_type": "stream",
     "text": [
      "[1, 2, 3, 4, 5]\n"
     ]
    }
   ],
   "source": [
    "x.sort()\n",
    "print(x)"
   ]
  },
  {
   "cell_type": "code",
   "execution_count": 35,
   "id": "e3259213-392c-4e89-95c8-dfd028b3a005",
   "metadata": {},
   "outputs": [
    {
     "name": "stdout",
     "output_type": "stream",
     "text": [
      "[2, 1, 5, 4, 3]\n"
     ]
    }
   ],
   "source": [
    "import random\n",
    "random.shuffle(x)\n",
    "print(x)"
   ]
  },
  {
   "cell_type": "code",
   "execution_count": 36,
   "id": "3bb69c9f-0850-4443-bbcb-f8e777e4c04d",
   "metadata": {},
   "outputs": [
    {
     "name": "stdout",
     "output_type": "stream",
     "text": [
      "[1, 2, 3, 4, 5]\n",
      "[5, 3, 2, 4, 1]\n"
     ]
    }
   ],
   "source": [
    "import pandas as pd\n",
    "x = pd.Series([5, 3, 2, 4, 1])\n",
    "print(list(x.sort_values()))\n",
    "print(list(x))"
   ]
  },
  {
   "cell_type": "code",
   "execution_count": 37,
   "id": "be87a523-2c5b-4f4f-9720-f63a877066bb",
   "metadata": {},
   "outputs": [
    {
     "name": "stdout",
     "output_type": "stream",
     "text": [
      "0    5\n",
      "1    3\n",
      "2    2\n",
      "3    4\n",
      "4    1\n",
      "dtype: int64\n"
     ]
    }
   ],
   "source": [
    "print(x)"
   ]
  },
  {
   "cell_type": "code",
   "execution_count": 40,
   "id": "af1dca2e-8da6-49eb-ad3c-62682d28bc89",
   "metadata": {},
   "outputs": [
    {
     "name": "stdout",
     "output_type": "stream",
     "text": [
      "[1, 2, 3, 4, 5]\n",
      "4    1\n",
      "2    2\n",
      "1    3\n",
      "3    4\n",
      "0    5\n",
      "dtype: int64\n"
     ]
    }
   ],
   "source": [
    "x.sort_values(inplace = True)\n",
    "print(list(x))\n",
    "print(x)"
   ]
  },
  {
   "cell_type": "code",
   "execution_count": null,
   "id": "edffbf88-e7a4-47bc-a834-95710302f02c",
   "metadata": {},
   "outputs": [],
   "source": []
  }
 ],
 "metadata": {
  "kernelspec": {
   "display_name": "Python 3 (ipykernel)",
   "language": "python",
   "name": "python3"
  },
  "language_info": {
   "codemirror_mode": {
    "name": "ipython",
    "version": 3
   },
   "file_extension": ".py",
   "mimetype": "text/x-python",
   "name": "python",
   "nbconvert_exporter": "python",
   "pygments_lexer": "ipython3",
   "version": "3.9.7"
  }
 },
 "nbformat": 4,
 "nbformat_minor": 5
}
