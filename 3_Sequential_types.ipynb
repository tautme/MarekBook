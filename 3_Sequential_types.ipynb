{
 "cells": [
  {
   "cell_type": "code",
   "execution_count": null,
   "id": "7e7f4ce3-26ea-4e54-8243-80b2e4144fde",
   "metadata": {
    "tags": []
   },
   "outputs": [],
   "source": [
    "x = [True, \"two\", 3, [4j, 5, \"six\"], None]\n",
    "print(x)"
   ]
  },
  {
   "cell_type": "code",
   "execution_count": null,
   "id": "6069cb53-2312-45cb-8114-f56d2d70eb3a",
   "metadata": {},
   "outputs": [],
   "source": [
    "x.append(\"spam\")\n",
    "print(x)"
   ]
  },
  {
   "cell_type": "code",
   "execution_count": null,
   "id": "d82701d8-fc45-4922-9d9a-56178d3baae6",
   "metadata": {},
   "outputs": [],
   "source": [
    "type(x)"
   ]
  },
  {
   "cell_type": "code",
   "execution_count": null,
   "id": "9dfce4b9-f77c-4257-8825-3d262505c850",
   "metadata": {},
   "outputs": [],
   "source": [
    "xx = (\"one\", [], (3j, 4))\n",
    "type(xx)"
   ]
  },
  {
   "cell_type": "code",
   "execution_count": null,
   "id": "38637170-fb0c-4cca-8d16-55ba5943796d",
   "metadata": {},
   "outputs": [],
   "source": [
    "type((42,))"
   ]
  },
  {
   "cell_type": "code",
   "execution_count": null,
   "id": "4a7978dc-de2d-4cbc-9d86-616d66a0e25e",
   "metadata": {},
   "outputs": [],
   "source": [
    "list(range(0, 5))"
   ]
  },
  {
   "cell_type": "code",
   "execution_count": null,
   "id": "269eaeda-a782-4b83-a41b-2ffeade20efa",
   "metadata": {},
   "outputs": [],
   "source": [
    "list(range(10, 0, -1))"
   ]
  },
  {
   "cell_type": "code",
   "execution_count": null,
   "id": "a776bd3f-7b60-4e3b-b6d6-95b5c54b4c2b",
   "metadata": {},
   "outputs": [],
   "source": [
    "print(\"lovely\\nspam\")"
   ]
  },
  {
   "cell_type": "code",
   "execution_count": null,
   "id": "cd939a1f-155d-4c94-b5a0-f14f2f42f9d2",
   "metadata": {},
   "outputs": [],
   "source": [
    "x = [\"one\", \"two\", \"three\", \"four\", \"five\"]\n",
    "x[0]"
   ]
  },
  {
   "cell_type": "code",
   "execution_count": null,
   "id": "ba36faf0-be43-4ae1-863b-108b07649dc3",
   "metadata": {},
   "outputs": [],
   "source": [
    "x[1]"
   ]
  },
  {
   "cell_type": "code",
   "execution_count": null,
   "id": "a155f2c8-3a0d-47d6-8921-568495237c1e",
   "metadata": {},
   "outputs": [],
   "source": [
    "x[len(x)-1]"
   ]
  },
  {
   "cell_type": "code",
   "execution_count": null,
   "id": "8ed27372-de0f-450d-b798-53a5c4b362f3",
   "metadata": {},
   "outputs": [],
   "source": [
    "x[-1]"
   ]
  },
  {
   "cell_type": "code",
   "execution_count": null,
   "id": "48300f81-8b7c-4c31-8e9a-227bda17be45",
   "metadata": {},
   "outputs": [],
   "source": [
    "\"string\"[3]"
   ]
  },
  {
   "cell_type": "code",
   "execution_count": null,
   "id": "d483d6c6-ca00-4996-ba2c-f1932d9a457e",
   "metadata": {},
   "outputs": [],
   "source": [
    "x[1:4]"
   ]
  },
  {
   "cell_type": "code",
   "execution_count": null,
   "id": "6213f611-bd79-486a-8307-b3e07301425c",
   "metadata": {},
   "outputs": [],
   "source": [
    "x[-1:0:-2]"
   ]
  },
  {
   "cell_type": "code",
   "execution_count": null,
   "id": "71fcaf1e-b3b9-42a9-b92d-be8238e8958e",
   "metadata": {},
   "outputs": [],
   "source": [
    "x[3:]"
   ]
  },
  {
   "cell_type": "code",
   "execution_count": null,
   "id": "2f21c26b-b9ed-4c60-8379-90ef701e1a13",
   "metadata": {},
   "outputs": [],
   "source": [
    "x[:2]"
   ]
  },
  {
   "cell_type": "code",
   "execution_count": null,
   "id": "b8f194b1-b43d-48d1-a506-b2bf56610a8b",
   "metadata": {},
   "outputs": [],
   "source": [
    "x[:0]"
   ]
  },
  {
   "cell_type": "code",
   "execution_count": null,
   "id": "54ba732d-8aa2-4d38-bca2-b15f524b9b37",
   "metadata": {},
   "outputs": [],
   "source": [
    "x[::2]"
   ]
  },
  {
   "cell_type": "code",
   "execution_count": null,
   "id": "54a1855f-21bb-4ea7-9d0f-8952d3f9f44b",
   "metadata": {},
   "outputs": [],
   "source": [
    "x[::-1]"
   ]
  },
  {
   "cell_type": "code",
   "execution_count": null,
   "id": "ac11b87d-445f-4260-a36b-a2acb01784ea",
   "metadata": {},
   "outputs": [],
   "source": [
    "print(x)"
   ]
  },
  {
   "cell_type": "code",
   "execution_count": null,
   "id": "cd0b7ddc-b0e0-4b6e-82d1-b308d8a735ab",
   "metadata": {},
   "outputs": [],
   "source": [
    "x[0] = \"spam\""
   ]
  },
  {
   "cell_type": "code",
   "execution_count": null,
   "id": "9c85151b-3a6a-4f80-a736-6547da1b346d",
   "metadata": {},
   "outputs": [],
   "source": [
    "x[-3:] = [\"bacon\", \"eggs\"]"
   ]
  },
  {
   "cell_type": "code",
   "execution_count": null,
   "id": "f953d466-72eb-4356-ae17-6f30c5052c6b",
   "metadata": {},
   "outputs": [],
   "source": [
    "print(x)"
   ]
  },
  {
   "cell_type": "code",
   "execution_count": null,
   "id": "e1716aef-3e40-4680-97a0-a97197a882c9",
   "metadata": {
    "tags": []
   },
   "outputs": [],
   "source": [
    "help(\"list\")"
   ]
  },
  {
   "cell_type": "code",
   "execution_count": null,
   "id": "af7e17ed-418e-44d4-8c57-34df9f0b9a4e",
   "metadata": {},
   "outputs": [],
   "source": [
    "x.insert(1, \"bisk\")"
   ]
  },
  {
   "cell_type": "code",
   "execution_count": null,
   "id": "e1773adf-a63f-48b1-8640-c50492913e98",
   "metadata": {},
   "outputs": [],
   "source": [
    "print(x)"
   ]
  },
  {
   "cell_type": "code",
   "execution_count": null,
   "id": "28200c1a-e5fd-4ea8-9857-3c677881986c",
   "metadata": {},
   "outputs": [],
   "source": [
    "type(x)"
   ]
  },
  {
   "cell_type": "code",
   "execution_count": null,
   "id": "4e4f4621-d70d-4599-bd66-7a49e7eaa0af",
   "metadata": {},
   "outputs": [],
   "source": [
    "x.remove(\"bisk\")\n",
    "print(x)"
   ]
  },
  {
   "cell_type": "code",
   "execution_count": null,
   "id": "28f99f2c-d797-412e-8f27-790bcd119cda",
   "metadata": {},
   "outputs": [],
   "source": [
    "p = x.pop(0)\n",
    "print(x)\n",
    "print(p)"
   ]
  },
  {
   "cell_type": "code",
   "execution_count": null,
   "id": "e83adb14-9678-4bbc-9683-20ec2504dea1",
   "metadata": {},
   "outputs": [],
   "source": [
    "s = \"string\""
   ]
  },
  {
   "cell_type": "code",
   "execution_count": null,
   "id": "2b88c7ef-cedf-4e1a-ae61-c38f5f6e3629",
   "metadata": {},
   "outputs": [],
   "source": [
    "print(s)"
   ]
  },
  {
   "cell_type": "code",
   "execution_count": null,
   "id": "ab218f53-f19c-40bd-8707-65f841231aeb",
   "metadata": {},
   "outputs": [],
   "source": [
    "s.remove(1)\n",
    "print(s)"
   ]
  },
  {
   "cell_type": "code",
   "execution_count": null,
   "id": "0cf16eae-ad40-4f05-8b6d-34db2b7be7c6",
   "metadata": {},
   "outputs": [],
   "source": [
    "7 in range(0, 10)"
   ]
  },
  {
   "cell_type": "code",
   "execution_count": null,
   "id": "9a6b8c56-4dc2-48bc-9fe0-0996071e10d5",
   "metadata": {},
   "outputs": [],
   "source": [
    "[2, 3] in [ 1, [2, 3], [4, 5, 6] ]"
   ]
  },
  {
   "cell_type": "code",
   "execution_count": null,
   "id": "dacbe9e6-85ac-4699-99bd-9f89eaa70f38",
   "metadata": {
    "tags": []
   },
   "outputs": [],
   "source": [
    "help(\"list\")"
   ]
  },
  {
   "cell_type": "code",
   "execution_count": null,
   "id": "03fcde38-6d93-452f-99b0-fad0420a096e",
   "metadata": {},
   "outputs": [],
   "source": [
    "type(x)"
   ]
  },
  {
   "cell_type": "code",
   "execution_count": null,
   "id": "2b9cbe2d-a4fd-40ce-b38c-f681ca8c1b6c",
   "metadata": {},
   "outputs": [],
   "source": [
    "print(x)"
   ]
  },
  {
   "cell_type": "code",
   "execution_count": null,
   "id": "a3fae79f-a5f5-47f4-9853-b8d0ae68b3eb",
   "metadata": {},
   "outputs": [],
   "source": [
    "x.count(\"eggs\")"
   ]
  },
  {
   "cell_type": "code",
   "execution_count": null,
   "id": "a7ad9dff-b576-4784-86d8-affe44dbe60e",
   "metadata": {},
   "outputs": [],
   "source": [
    "x.index(\"eggs\")"
   ]
  },
  {
   "cell_type": "code",
   "execution_count": null,
   "id": "ffd27477-e9c9-478c-94ae-0d4509979ade",
   "metadata": {},
   "outputs": [],
   "source": [
    "x = [\"one\", \"two\", \"three\", \"four\", \"five\"]"
   ]
  },
  {
   "cell_type": "code",
   "execution_count": null,
   "id": "e42d69ae-152d-4617-b37f-0433b640c836",
   "metadata": {},
   "outputs": [],
   "source": [
    "x.index(\"three\")"
   ]
  },
  {
   "cell_type": "code",
   "execution_count": null,
   "id": "a7251d2c-07f8-49a1-aa76-ecf8e446fd3d",
   "metadata": {},
   "outputs": [],
   "source": [
    "\"spam\" + \" \" + \"bacon\""
   ]
  },
  {
   "cell_type": "code",
   "execution_count": null,
   "id": "33e6d393-71a1-4c99-803f-f22eb2b19090",
   "metadata": {},
   "outputs": [],
   "source": [
    "[1, 2, 3] + [4]"
   ]
  },
  {
   "cell_type": "code",
   "execution_count": null,
   "id": "b66d4b9a-b598-47ba-883f-1d301bd5cbdf",
   "metadata": {},
   "outputs": [],
   "source": [
    "\"spam\" * 3"
   ]
  },
  {
   "cell_type": "code",
   "execution_count": null,
   "id": "efd65f51-f0d9-4995-9e75-e95f25893e43",
   "metadata": {},
   "outputs": [],
   "source": [
    "(1, 2) + (3, 4)"
   ]
  },
  {
   "cell_type": "code",
   "execution_count": null,
   "id": "a1797b9a-67d8-4f0e-b184-1503d2038cc7",
   "metadata": {},
   "outputs": [],
   "source": [
    "(1, 3) * 3"
   ]
  },
  {
   "cell_type": "code",
   "execution_count": null,
   "id": "14d61469-5266-4ff0-a16a-2dea1c04b8f3",
   "metadata": {},
   "outputs": [],
   "source": [
    "x = {\n",
    "    \"a\": [1, 2, 3],\n",
    "    \"b\": 7,\n",
    "    \"z\": \"spam!\"\n",
    "}\n",
    "print(x)"
   ]
  },
  {
   "cell_type": "code",
   "execution_count": null,
   "id": "cd5ae5ec-67a0-45c2-b6b0-3beb8b696c69",
   "metadata": {},
   "outputs": [],
   "source": [
    "dict(a=[1, 2, 3], b=7, z=\"spam!\")"
   ]
  },
  {
   "cell_type": "code",
   "execution_count": null,
   "id": "066268aa-2c1b-4e22-8bfe-22b499c01be6",
   "metadata": {},
   "outputs": [],
   "source": [
    "type(x)"
   ]
  },
  {
   "cell_type": "code",
   "execution_count": null,
   "id": "60be384e-9abd-4093-bada-a83198b4fbdb",
   "metadata": {},
   "outputs": [],
   "source": [
    "x[\"a\"]"
   ]
  },
  {
   "cell_type": "code",
   "execution_count": null,
   "id": "407e8316-3cb6-4868-b961-c06cd90571d9",
   "metadata": {},
   "outputs": [],
   "source": [
    "\"a\" in x, 0 not in x, \"z\" in x, \"w\" in x"
   ]
  },
  {
   "cell_type": "code",
   "execution_count": null,
   "id": "e08430ce-b2ac-453d-9347-a5cef113934d",
   "metadata": {},
   "outputs": [],
   "source": [
    "x[\"f\"] = \"more spam!\""
   ]
  },
  {
   "cell_type": "code",
   "execution_count": null,
   "id": "d25dac79-f544-4209-9562-504ebc98f52b",
   "metadata": {},
   "outputs": [],
   "source": [
    "print(x)"
   ]
  },
  {
   "cell_type": "code",
   "execution_count": null,
   "id": "56e81345-8a55-4366-970a-cf1cae560648",
   "metadata": {},
   "outputs": [],
   "source": [
    "import requests"
   ]
  },
  {
   "cell_type": "code",
   "execution_count": null,
   "id": "18a1c50c-e722-47c5-b7c7-0f8370474fef",
   "metadata": {},
   "outputs": [],
   "source": [
    "x = requests.get(\"https://api.github.com/users/gagolews/starred\").json()"
   ]
  },
  {
   "cell_type": "code",
   "execution_count": null,
   "id": "b567bed4-6259-4e24-8379-75999b3c9402",
   "metadata": {},
   "outputs": [],
   "source": [
    "type(x)"
   ]
  },
  {
   "cell_type": "code",
   "execution_count": null,
   "id": "c9baadd7-1b71-4ae9-a0d0-b0f14b766924",
   "metadata": {
    "tags": []
   },
   "outputs": [],
   "source": [
    "x[3]"
   ]
  },
  {
   "cell_type": "code",
   "execution_count": null,
   "id": "0c92dbfe-26d0-42c7-a0dc-82c866c198dd",
   "metadata": {},
   "outputs": [],
   "source": [
    "type(x[3])"
   ]
  },
  {
   "cell_type": "code",
   "execution_count": null,
   "id": "9187fa40-b977-4585-ba46-408c75ea8986",
   "metadata": {},
   "outputs": [],
   "source": [
    "x[3][\"name\"]"
   ]
  },
  {
   "cell_type": "code",
   "execution_count": null,
   "id": "cbc65782-12cd-4a37-8a73-cc7c089303fc",
   "metadata": {
    "tags": []
   },
   "outputs": [],
   "source": [
    "x[20][\"name\"]"
   ]
  },
  {
   "cell_type": "code",
   "execution_count": null,
   "id": "4580fd63-7573-4b97-aab2-b200fc3ba840",
   "metadata": {},
   "outputs": [],
   "source": [
    "x[7][\"name\"]"
   ]
  },
  {
   "cell_type": "code",
   "execution_count": null,
   "id": "b8e33180-7af6-490c-9225-8e5a1c89aaeb",
   "metadata": {},
   "outputs": [],
   "source": [
    "yy = list(\"spam\")"
   ]
  },
  {
   "cell_type": "code",
   "execution_count": null,
   "id": "b6cf37f4-be98-40c7-aec8-e0f125a2492d",
   "metadata": {},
   "outputs": [],
   "source": [
    "tuple(range(0,10,2))"
   ]
  },
  {
   "cell_type": "code",
   "execution_count": null,
   "id": "d8f761a1-e1e9-41a5-9c07-b6a802bdb9ee",
   "metadata": {
    "tags": []
   },
   "outputs": [],
   "source": [
    "help(\"list\")"
   ]
  },
  {
   "cell_type": "code",
   "execution_count": null,
   "id": "c6babc6a-2b19-4e72-89a4-f3df02e9380b",
   "metadata": {},
   "outputs": [],
   "source": [
    "y = [1,2,3,4]\n",
    "print(y)\n",
    "print(xx)"
   ]
  },
  {
   "cell_type": "code",
   "execution_count": null,
   "id": "e0b8c3cc-2b38-4a30-86b0-11b79785025d",
   "metadata": {},
   "outputs": [],
   "source": [
    "e = yy.extend(xx)\n",
    "print(e)\n",
    "t = (4,5,67,7)\n",
    "print(t)"
   ]
  },
  {
   "cell_type": "code",
   "execution_count": null,
   "id": "c1f4d3bf-279e-4abf-9315-257be7644931",
   "metadata": {},
   "outputs": [],
   "source": [
    "e = yy.extend(t)\n",
    "print(e)"
   ]
  },
  {
   "cell_type": "code",
   "execution_count": null,
   "id": "5b226288-c787-4af1-b181-7124bb869cc1",
   "metadata": {},
   "outputs": [],
   "source": [
    "range(0, 5)"
   ]
  },
  {
   "cell_type": "code",
   "execution_count": null,
   "id": "fbe126bc-91fe-4635-ba6f-ea54d80facd2",
   "metadata": {},
   "outputs": [],
   "source": [
    "zip(xx)"
   ]
  },
  {
   "cell_type": "code",
   "execution_count": null,
   "id": "4daab436-9d3b-4f59-a55c-c70dd7f2c547",
   "metadata": {},
   "outputs": [],
   "source": [
    "enumerate(xx)"
   ]
  },
  {
   "cell_type": "code",
   "execution_count": null,
   "id": "c3be32c2-55ba-4074-83e0-f89096c79ed6",
   "metadata": {},
   "outputs": [],
   "source": [
    "reversed(xx)"
   ]
  },
  {
   "cell_type": "code",
   "execution_count": null,
   "id": "693dd65e-cd44-4097-ae07-cf09486393bd",
   "metadata": {},
   "outputs": [],
   "source": [
    "x = [1, \"two\", [\"three\", 3j, 3], False] \n",
    "for el in x:\n",
    "    print(el)"
   ]
  },
  {
   "cell_type": "code",
   "execution_count": null,
   "id": "640bc9cb-2392-4145-b281-41e2a29ac954",
   "metadata": {},
   "outputs": [],
   "source": [
    "for i in range(len(x)):\n",
    "    print(i, x[i], sep=\": \")"
   ]
  },
  {
   "cell_type": "code",
   "execution_count": null,
   "id": "62705df1-59c3-431a-bedf-f5af10445d2e",
   "metadata": {},
   "outputs": [],
   "source": [
    "x = [1,  2,   3,    4,     5]  # for testing\n",
    "y = [1, 10, 100, 1000, 10000]  # just a test\n",
    "z = []  # result list – start with an empty one\n",
    "for i in range(len(x)):\n",
    "    z.append(x[i] * y[i])\n",
    "print(z)"
   ]
  },
  {
   "cell_type": "code",
   "execution_count": null,
   "id": "982bd257-b779-4265-87df-b98c3148157a",
   "metadata": {},
   "outputs": [],
   "source": [
    "import math\n",
    "def mymin(x):\n",
    "    \"\"\"\n",
    "    The smallest element in an iterable object x.\n",
    "    We assume that x consists of numbers only.\n",
    "    \"\"\"\n",
    "    curmin = math.inf  # infinity is greater than any other number\n",
    "    for e in x:\n",
    "        if e < curmin:\n",
    "            curmin = e  # a better candidate for the minimum\n",
    "    return curmin"
   ]
  },
  {
   "cell_type": "code",
   "execution_count": null,
   "id": "b551cde0-f115-4d77-a3a4-8d4e71d2fff7",
   "metadata": {},
   "outputs": [],
   "source": [
    "mymin(y)"
   ]
  },
  {
   "cell_type": "code",
   "execution_count": null,
   "id": "de780329-0ec0-4d3e-ad16-cd910d9c6676",
   "metadata": {},
   "outputs": [],
   "source": [
    "import numpy as np\n",
    "result = np.unique([1, 2, 1, 2, 1, 1, 3, 2, 1], return_counts=True)\n",
    "print(result)"
   ]
  },
  {
   "cell_type": "code",
   "execution_count": null,
   "id": "83218c6b-49fa-454f-a03c-ddd0918de322",
   "metadata": {},
   "outputs": [],
   "source": [
    "type(result), len(result)"
   ]
  },
  {
   "cell_type": "code",
   "execution_count": null,
   "id": "4617ef94-a62c-4b45-8bdf-019af357976f",
   "metadata": {},
   "outputs": [],
   "source": [
    "result[0]"
   ]
  },
  {
   "cell_type": "code",
   "execution_count": null,
   "id": "98d763d5-c974-4924-b016-f231911b825d",
   "metadata": {},
   "outputs": [],
   "source": [
    "import numpy as np\n",
    "values, counts = np.unique([1, 2, 1, 2, 1, 1, 3, 2, 1], return_counts=True)\n",
    "print(values, counts)"
   ]
  },
  {
   "cell_type": "code",
   "execution_count": null,
   "id": "80696cf4-9d5c-424e-8516-7473d395d019",
   "metadata": {},
   "outputs": [],
   "source": [
    "a, *b, c, d = range(10)\n",
    "print(a, b, c, d, sep=\"\\n\")"
   ]
  },
  {
   "cell_type": "code",
   "execution_count": null,
   "id": "8b8fff78-aa12-4ccf-b87c-30a323774f53",
   "metadata": {},
   "outputs": [],
   "source": [
    "def test(a, b, c, d):\n",
    "    \"It is just a test – simply prints the arguments passed\"\n",
    "    print(\"a = \", a, \", b = \", b, \", c = \", c, \", d = \", d, sep=\"\")"
   ]
  },
  {
   "cell_type": "code",
   "execution_count": null,
   "id": "2c597e11-96e8-44f7-a479-d0ab9f20ddda",
   "metadata": {},
   "outputs": [],
   "source": [
    "args = [1, 2, 3, 4]\n",
    "type(args)\n",
    "test(*args)\n",
    "test(3,4,5,6)"
   ]
  },
  {
   "cell_type": "code",
   "execution_count": null,
   "id": "b5d496b4-aae1-4b7b-aaa5-ef3c0071b600",
   "metadata": {},
   "outputs": [],
   "source": [
    "kwargs = dict(a=1, c=3, d=4, b=2)\n",
    "test(**kwargs)"
   ]
  },
  {
   "cell_type": "code",
   "execution_count": null,
   "id": "1ebafd69-6f0f-4b4f-bc32-56e80b693d5c",
   "metadata": {},
   "outputs": [],
   "source": [
    "test(1, *range(2,4), 4)\n",
    "test(1, **dict(d=4, c=3, b=2))\n",
    "test(*range(1,3), **dict(d=4, c=3))"
   ]
  },
  {
   "cell_type": "code",
   "execution_count": null,
   "id": "02bd71ff-1464-4ead-9343-45a4ee7f6f87",
   "metadata": {},
   "outputs": [],
   "source": [
    "type(args)"
   ]
  },
  {
   "cell_type": "code",
   "execution_count": null,
   "id": "805fba3f-2e6b-4e4b-a629-317969753ac2",
   "metadata": {},
   "outputs": [],
   "source": [
    "def test(a, b, *args, **kwargs):\n",
    "    \"simply prints the arguments passed\"\n",
    "    print(\n",
    "        \"a = \", a, \", b = \", b,\n",
    "        \", args = \", args, \", kwargs = \", kwargs, sep=\"\"\n",
    "    )"
   ]
  },
  {
   "cell_type": "code",
   "execution_count": null,
   "id": "77a325b1-82ac-42e0-8c74-43b9a8a0bef8",
   "metadata": {},
   "outputs": [],
   "source": [
    "test(1, 2, 3, 4, 5, spam=6, eggs=7)"
   ]
  },
  {
   "cell_type": "code",
   "execution_count": null,
   "id": "3a5d7ccc-6c52-46f1-99fd-c33a7ebcdbf0",
   "metadata": {},
   "outputs": [],
   "source": [
    "x = [1, 2, 3]\n",
    "y = x"
   ]
  },
  {
   "cell_type": "code",
   "execution_count": null,
   "id": "5d50be80-24d2-4f0f-b5c4-c56304d7785c",
   "metadata": {},
   "outputs": [],
   "source": [
    "print(x)\n",
    "print(y)"
   ]
  },
  {
   "cell_type": "code",
   "execution_count": null,
   "id": "1cdca23f-f1d2-43ba-a09f-23fc685839bc",
   "metadata": {},
   "outputs": [],
   "source": [
    "x[2] = 4"
   ]
  },
  {
   "cell_type": "code",
   "execution_count": null,
   "id": "8e39eb5e-660f-4314-b582-a7e459b15bee",
   "metadata": {},
   "outputs": [],
   "source": [
    "x.append(4)\n",
    "print(y)"
   ]
  },
  {
   "cell_type": "code",
   "execution_count": null,
   "id": "e04555fa-07b1-41f6-956b-5c121f53a55e",
   "metadata": {},
   "outputs": [],
   "source": [
    "def myadd(z, i):\n",
    "    z.append(i)"
   ]
  },
  {
   "cell_type": "code",
   "execution_count": null,
   "id": "2a69bd7d-49d7-434e-815a-9b42709cf248",
   "metadata": {},
   "outputs": [],
   "source": [
    "myadd(x, 5)\n",
    "myadd(y, 6)\n",
    "print(x)\n",
    "print(y)"
   ]
  },
  {
   "cell_type": "code",
   "execution_count": null,
   "id": "caa27dbc-ecae-4b70-8a71-db40c38533bb",
   "metadata": {},
   "outputs": [],
   "source": [
    "x = [1, 2, 3]\n",
    "y = x.copy()\n",
    "x.append(4)\n",
    "print(y)\n",
    "print(x)"
   ]
  },
  {
   "cell_type": "code",
   "execution_count": null,
   "id": "c595a075-6050-40ea-ba03-25e2d3bd1b32",
   "metadata": {},
   "outputs": [],
   "source": [
    "x = [5, 3, 2, 4, 1]\n",
    "print(sorted(x))\n",
    "print(x)"
   ]
  },
  {
   "cell_type": "code",
   "execution_count": null,
   "id": "3c79c582-25a7-40b2-80a8-c3e90ce7a1e7",
   "metadata": {},
   "outputs": [],
   "source": [
    "x.sort()\n",
    "print(x)"
   ]
  },
  {
   "cell_type": "code",
   "execution_count": null,
   "id": "e3259213-392c-4e89-95c8-dfd028b3a005",
   "metadata": {},
   "outputs": [],
   "source": [
    "import random\n",
    "random.shuffle(x)\n",
    "print(x)"
   ]
  },
  {
   "cell_type": "code",
   "execution_count": null,
   "id": "3bb69c9f-0850-4443-bbcb-f8e777e4c04d",
   "metadata": {},
   "outputs": [],
   "source": [
    "import pandas as pd\n",
    "x = pd.Series([5, 3, 2, 4, 1])\n",
    "print(list(x.sort_values()))\n",
    "print(list(x))"
   ]
  },
  {
   "cell_type": "code",
   "execution_count": null,
   "id": "be87a523-2c5b-4f4f-9720-f63a877066bb",
   "metadata": {},
   "outputs": [],
   "source": [
    "print(x)"
   ]
  },
  {
   "cell_type": "code",
   "execution_count": null,
   "id": "af1dca2e-8da6-49eb-ad3c-62682d28bc89",
   "metadata": {},
   "outputs": [],
   "source": [
    "x.sort_values(inplace = True)\n",
    "print(list(x))\n",
    "print(x)"
   ]
  },
  {
   "cell_type": "code",
   "execution_count": null,
   "id": "edffbf88-e7a4-47bc-a834-95710302f02c",
   "metadata": {},
   "outputs": [],
   "source": [
    "squares = [x**2 for x in range(10)]"
   ]
  },
  {
   "cell_type": "code",
   "execution_count": null,
   "id": "2c0931b8-a349-4360-9802-28aa3c00646f",
   "metadata": {},
   "outputs": [],
   "source": [
    "print(squares)"
   ]
  },
  {
   "cell_type": "code",
   "execution_count": null,
   "id": "c08884cd-8f94-4e92-8b55-3b349a3978a8",
   "metadata": {},
   "outputs": [],
   "source": []
  }
 ],
 "metadata": {
  "kernelspec": {
   "display_name": "Python 3 (ipykernel)",
   "language": "python",
   "name": "python3"
  },
  "language_info": {
   "codemirror_mode": {
    "name": "ipython",
    "version": 3
   },
   "file_extension": ".py",
   "mimetype": "text/x-python",
   "name": "python",
   "nbconvert_exporter": "python",
   "pygments_lexer": "ipython3",
   "version": "3.9.7"
  }
 },
 "nbformat": 4,
 "nbformat_minor": 5
}
