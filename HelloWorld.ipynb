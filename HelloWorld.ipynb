{
 "cells": [
  {
   "cell_type": "code",
   "execution_count": null,
   "id": "db9d672c-8aa5-4791-845a-d193bb031dc1",
   "metadata": {},
   "outputs": [],
   "source": [
    "# My first code cell (this is a comment)\n",
    "print(\"G'day!\")  # prints a message (this is a comment too)\n",
    "PRINT(2+5)  # prints a number"
   ]
  },
  {
   "cell_type": "code",
   "execution_count": null,
   "id": "f1d12211-7ac9-4880-a6a2-35fa3590d8a3",
   "metadata": {},
   "outputs": [],
   "source": [
    "print(\"this is a text string\")"
   ]
  },
  {
   "cell_type": "code",
   "execution_count": null,
   "id": "ba759e18-a8ef-4764-ba74-716911575f97",
   "metadata": {},
   "outputs": [],
   "source": [
    "import matplotlib.pyplot as plt  # basic plotting library\n",
    "plt.bar(\n",
    "    [\"Python\", \"JavaScript\", \"HTML\", \"CSS\"],  # a list of strings\n",
    "    [80, 30, 10, 15]  # a list of intergers (the corresponding bar heights)\n",
    ")\n",
    "plt.title(\"What makes you happy?\")\n",
    "plt.show()"
   ]
  },
  {
   "cell_type": "code",
   "execution_count": null,
   "id": "e08673e0-3875-440a-84d1-55896eb11c0c",
   "metadata": {},
   "outputs": [],
   "source": [
    "print(\"This is a nice learning statagy, to try out your own code ideas before you exicute the books instructions\")"
   ]
  },
  {
   "cell_type": "code",
   "execution_count": null,
   "id": "50ad6b3f-ce88-49db-a9f5-7e0ba6b9eb0f",
   "metadata": {},
   "outputs": [],
   "source": [
    "plt.bar(\n",
    "    [\"Asia\", \"America\", \"Europe\", \"Africa\"],\n",
    "    [5.4, 0.8, 1.7, 1.1]\n",
    ")\n",
    "plt.title(\"World Distribution of Hair\")\n",
    "plt.show()"
   ]
  },
  {
   "cell_type": "code",
   "execution_count": null,
   "id": "6d73f6c1-c257-4097-a79c-fe30884759da",
   "metadata": {},
   "outputs": [],
   "source": [
    "print(\"Using random statistical distributions\")"
   ]
  },
  {
   "cell_type": "markdown",
   "id": "d31306aa-878a-4738-9dbb-575b51d9713e",
   "metadata": {},
   "source": [
    "# Section\n",
    "\n",
    "## Subsection\n",
    "\n",
    "This ~~was~~ *is* **really** nice.\n",
    "\n",
    "* one\n",
    "* two\n",
    "    1. aaa\n",
    "    2. bbbb\n",
    "* three\n",
    "\n",
    "\n",
    "```python\n",
    "# some code to display (but not execute)\n",
    "2+2\n",
    "```\n",
    "\n",
    "![Python](https://www.python.org/static/img/python-logo.png)\n",
    "\n",
    "---"
   ]
  },
  {
   "cell_type": "markdown",
   "id": "a79156ec-4522-4991-a319-aa26267c3a6b",
   "metadata": {},
   "source": [
    "This is a regular paragraph.\n",
    "\n",
    "<table>\n",
    "    <tr>\n",
    "        <td>Foo</td>\n",
    "    </tr>\n",
    "</table>\n",
    "\n",
    "This is another *regular* paragraph."
   ]
  },
  {
   "cell_type": "markdown",
   "id": "33e218aa-ff02-4981-a153-3430cbb9e09b",
   "metadata": {},
   "source": [
    "Block-level HTML above\n",
    "\n",
    "---"
   ]
  },
  {
   "cell_type": "markdown",
   "id": "0c26236f-f032-4cd3-8ea8-c34ce78dfd5b",
   "metadata": {},
   "source": [
    "this is markdown. <span> this is span. </span> <cite> this is cite. </cite> <del> this is del </del>"
   ]
  },
  {
   "cell_type": "markdown",
   "id": "36f44dc2-acb9-4305-a06a-81ddb36d0f9d",
   "metadata": {
    "jp-MarkdownHeadingCollapsed": true,
    "tags": []
   },
   "source": [
    "Span-level HTML tags above\n",
    "\n",
    "---"
   ]
  },
  {
   "cell_type": "markdown",
   "id": "b6ae1b26-8412-43a1-a245-6650b547d3cd",
   "metadata": {},
   "source": [
    "https://daringfireball.net/projects/markdown/syntax"
   ]
  },
  {
   "cell_type": "markdown",
   "id": "beb9715a-56a2-438f-8f5c-e938ba1f9209",
   "metadata": {},
   "source": []
  },
  {
   "cell_type": "code",
   "execution_count": null,
   "id": "4de2cb2d-c665-4bca-a9e7-1b7639216398",
   "metadata": {},
   "outputs": [],
   "source": []
  },
  {
   "cell_type": "markdown",
   "id": "8248c9da-7656-44d7-8c60-7ca29957c34b",
   "metadata": {},
   "source": [
    "4 > 5"
   ]
  },
  {
   "cell_type": "markdown",
   "id": "4225850f-c426-470c-af4b-21d88e6fa1cb",
   "metadata": {},
   "source": [
    "<cite> is 4 > 5 </cite>"
   ]
  },
  {
   "cell_type": "markdown",
   "id": "761916bc-250b-494d-8e59-1b60982ccc27",
   "metadata": {},
   "source": [
    "EDIT - Is Exercise 1.4 supposed to have 'introduction' or 'overview' or read whole page?\n",
    "https://daringfireball.net/projects/markdown/syntax"
   ]
  },
  {
   "cell_type": "code",
   "execution_count": null,
   "id": "5432f030-bac1-40c1-9301-5bcfe24eb8f3",
   "metadata": {},
   "outputs": [],
   "source": []
  },
  {
   "cell_type": "code",
   "execution_count": null,
   "id": "1f86ee85-d4a5-445f-90ad-c65d61a60611",
   "metadata": {},
   "outputs": [],
   "source": []
  }
 ],
 "metadata": {
  "kernelspec": {
   "display_name": "Python 3 (ipykernel)",
   "language": "python",
   "name": "python3"
  },
  "language_info": {
   "codemirror_mode": {
    "name": "ipython",
    "version": 3
   },
   "file_extension": ".py",
   "mimetype": "text/x-python",
   "name": "python",
   "nbconvert_exporter": "python",
   "pygments_lexer": "ipython3",
   "version": "3.9.7"
  }
 },
 "nbformat": 4,
 "nbformat_minor": 5
}
