{
 "cells": [
  {
   "cell_type": "markdown",
   "id": "aa9f9fbd-138d-4e3e-a625-00bf8b78a9b7",
   "metadata": {},
   "source": [
    "# 5. Processing Unidimensional Data"
   ]
  },
  {
   "cell_type": "markdown",
   "id": "ddf628aa-d174-4bfd-84c1-dc06088de73a",
   "metadata": {},
   "source": [
    "## 5.1 Aggregating Numeric Data"
   ]
  },
  {
   "cell_type": "markdown",
   "id": "7c081aef-3ffc-4b23-b650-9fba55593380",
   "metadata": {},
   "source": [
    "### 5.1.1 Measures of Location"
   ]
  },
  {
   "cell_type": "markdown",
   "id": "dba64637-3d98-419d-90a6-b556f3890fbd",
   "metadata": {},
   "source": [
    "#### 5.1.1.1 Arithmetic Mean and Median"
   ]
  },
  {
   "cell_type": "code",
   "execution_count": null,
   "id": "21d94f70-8964-43a1-9704-504a1cdb9de0",
   "metadata": {},
   "outputs": [],
   "source": [
    "import numpy as np"
   ]
  },
  {
   "cell_type": "code",
   "execution_count": null,
   "id": "e857c00d-a056-4b32-abc2-e1ee67c89d38",
   "metadata": {},
   "outputs": [],
   "source": [
    "heights = np.loadtxt(\"https://raw.githubusercontent.com/gagolews/\" +\n",
    "                     \"teaching-data/master/marek/nhanes_adult_female_height_2020.txt\")"
   ]
  },
  {
   "cell_type": "code",
   "execution_count": null,
   "id": "53531a08-0e71-4987-a3d1-fbc5363a456a",
   "metadata": {},
   "outputs": [],
   "source": [
    "np.mean(heights), np.median(heights)"
   ]
  },
  {
   "cell_type": "code",
   "execution_count": null,
   "id": "3c1dd91e-d9b6-47fa-8475-457cfb8b21df",
   "metadata": {},
   "outputs": [],
   "source": [
    "income = np.loadtxt(\"https://raw.githubusercontent.com/gagolews/\" +\n",
    "                    \"teaching-data/master/marek/uk_income_simulated_2020.txt\")"
   ]
  },
  {
   "cell_type": "code",
   "execution_count": null,
   "id": "412959e9-577f-4f9c-b7de-17aafd5ce51b",
   "metadata": {},
   "outputs": [],
   "source": [
    "np.mean(income), np.median(income)"
   ]
  },
  {
   "cell_type": "code",
   "execution_count": null,
   "id": "410b9bbf-f19b-423d-aa5b-8b44d8cbaf9f",
   "metadata": {},
   "outputs": [],
   "source": [
    "marathon = np.loadtxt(\"https://raw.githubusercontent.com/gagolews/\" +\n",
    "                      \"teaching-data/master/marek/37_pzu_warsaw_marathon_mins.txt\")"
   ]
  },
  {
   "cell_type": "code",
   "execution_count": null,
   "id": "b79879bb-64d4-4f1e-8529-eeeebe2996f5",
   "metadata": {},
   "outputs": [],
   "source": [
    "np.mean(marathon), np.median(marathon)"
   ]
  },
  {
   "cell_type": "markdown",
   "id": "cc49eb20-3836-4dd7-b64b-8961383c290c",
   "metadata": {},
   "source": [
    "##### Exercise 5.2"
   ]
  },
  {
   "cell_type": "code",
   "execution_count": null,
   "id": "49b6f944-12e9-42bf-9fb4-4fa371124f09",
   "metadata": {},
   "outputs": [],
   "source": [
    "x = np.sort(marathon)"
   ]
  },
  {
   "cell_type": "code",
   "execution_count": null,
   "id": "5f959357-2bad-4a88-a458-ceec03f024e8",
   "metadata": {},
   "outputs": [],
   "source": [
    "type(x)"
   ]
  },
  {
   "cell_type": "code",
   "execution_count": null,
   "id": "765fcf7b-d247-4450-ba2d-18d1c7aae059",
   "metadata": {},
   "outputs": [],
   "source": [
    "length = len(marathon)"
   ]
  },
  {
   "cell_type": "code",
   "execution_count": null,
   "id": "874d668e-0d0c-418b-a324-f1e760e129ce",
   "metadata": {},
   "outputs": [],
   "source": [
    "type(length)"
   ]
  },
  {
   "cell_type": "code",
   "execution_count": null,
   "id": "8b2d75d8-d265-434d-90f2-2c0fb93bc87f",
   "metadata": {},
   "outputs": [],
   "source": [
    "x[2]"
   ]
  },
  {
   "cell_type": "code",
   "execution_count": null,
   "id": "c5a4c0c2-ca57-4ff4-bf42-6e609609248a",
   "metadata": {},
   "outputs": [],
   "source": [
    "med_location = length//2\n",
    "med_location"
   ]
  },
  {
   "cell_type": "code",
   "execution_count": null,
   "id": "1e2da8be-b85b-4a65-bb66-25a47712cd99",
   "metadata": {},
   "outputs": [],
   "source": [
    "type(med_location)"
   ]
  },
  {
   "cell_type": "code",
   "execution_count": null,
   "id": "f5ed1ada-950d-47b2-8275-271f8aca7950",
   "metadata": {},
   "outputs": [],
   "source": [
    "test = x[med_location]\n",
    "test"
   ]
  },
  {
   "cell_type": "code",
   "execution_count": null,
   "id": "d7e318fc-6259-48c8-93ba-541558569f0b",
   "metadata": {},
   "outputs": [],
   "source": [
    "type(test)"
   ]
  },
  {
   "cell_type": "code",
   "execution_count": null,
   "id": "070e5755-3373-410e-a1a3-02c276e99105",
   "metadata": {},
   "outputs": [],
   "source": [
    "def amedian(data):\n",
    "    \"\"\"\n",
    "    find the median adam's way\n",
    "    \"\"\"\n",
    "    x = np.sort(data)\n",
    "    length = len(data)\n",
    "    med_location = length//2\n",
    "    return x[med_location]"
   ]
  },
  {
   "cell_type": "code",
   "execution_count": null,
   "id": "1181f3e3-d73e-4bf0-a0f0-34e0eeaa0311",
   "metadata": {},
   "outputs": [],
   "source": [
    "am = amedian(marathon)"
   ]
  },
  {
   "cell_type": "code",
   "execution_count": null,
   "id": "14795e0e-1130-4124-bf68-ca244b9df8d7",
   "metadata": {},
   "outputs": [],
   "source": [
    "print(am)"
   ]
  },
  {
   "cell_type": "code",
   "execution_count": null,
   "id": "bbb5771b-af12-41ce-9994-9201061c7220",
   "metadata": {},
   "outputs": [],
   "source": [
    "print(amedian(marathon))"
   ]
  },
  {
   "cell_type": "code",
   "execution_count": null,
   "id": "ab855911-0204-43bb-aa1b-6968e0725a37",
   "metadata": {},
   "outputs": [],
   "source": [
    "amedian(marathon) == np.median(marathon)"
   ]
  },
  {
   "cell_type": "code",
   "execution_count": null,
   "id": "43ea4ab9-660a-4942-a69c-8818a5eb5cf9",
   "metadata": {},
   "outputs": [],
   "source": [
    "244 == 244"
   ]
  },
  {
   "cell_type": "code",
   "execution_count": null,
   "id": "fe115423-820c-41dc-b098-1a771bc0f907",
   "metadata": {},
   "outputs": [],
   "source": [
    "m = np.median(marathon)"
   ]
  },
  {
   "cell_type": "code",
   "execution_count": null,
   "id": "c0e39a72-fad0-4db1-8de0-78eea5ec8c8e",
   "metadata": {},
   "outputs": [],
   "source": [
    "type(m)"
   ]
  },
  {
   "cell_type": "code",
   "execution_count": null,
   "id": "0a0b4fa0-3963-41ca-8f60-f35a247a0f49",
   "metadata": {},
   "outputs": [],
   "source": [
    "print(am)"
   ]
  },
  {
   "cell_type": "code",
   "execution_count": null,
   "id": "27111596-098b-4fcb-b32a-b391dd748eb8",
   "metadata": {},
   "outputs": [],
   "source": [
    "type(am)"
   ]
  },
  {
   "cell_type": "code",
   "execution_count": null,
   "id": "9a013437-3cfe-4784-afc9-14527023cfbe",
   "metadata": {},
   "outputs": [],
   "source": [
    "print(am)"
   ]
  },
  {
   "cell_type": "code",
   "execution_count": null,
   "id": "0522e246-8931-44ac-98f5-a353b65954e1",
   "metadata": {},
   "outputs": [],
   "source": [
    "amedian(marathon)"
   ]
  },
  {
   "cell_type": "markdown",
   "id": "b68ccbc8-7658-465e-9550-49974e83c618",
   "metadata": {},
   "source": [
    "If you do not use return at the end of a function, it will return `NoneType`"
   ]
  },
  {
   "cell_type": "code",
   "execution_count": null,
   "id": "bac0d242-4fff-4222-a4ab-38905db68a8c",
   "metadata": {},
   "outputs": [],
   "source": [
    "help(\"np.mean\")"
   ]
  },
  {
   "cell_type": "code",
   "execution_count": null,
   "id": "92a19e0d-8e04-4988-9d79-3907c7e61741",
   "metadata": {},
   "outputs": [],
   "source": [
    "income.mean()"
   ]
  },
  {
   "cell_type": "code",
   "execution_count": null,
   "id": "fd55696c-c801-44d4-ae4a-2f9d1a9d3d86",
   "metadata": {},
   "outputs": [],
   "source": [
    "income.shape[0]"
   ]
  },
  {
   "cell_type": "code",
   "execution_count": null,
   "id": "c464aad8-df1c-417e-96d0-a52223982b2b",
   "metadata": {},
   "outputs": [],
   "source": [
    "income.sum()"
   ]
  },
  {
   "cell_type": "code",
   "execution_count": null,
   "id": "f1b256fd-ec40-44ba-a3cc-e93c5d212676",
   "metadata": {},
   "outputs": [],
   "source": [
    "income.size"
   ]
  },
  {
   "cell_type": "markdown",
   "id": "15352a9b-d24f-49f5-bbb8-baad10ba00c5",
   "metadata": {},
   "source": [
    "#### 5.1.1.2 Sensitive to Outliers vs Robust"
   ]
  },
  {
   "cell_type": "code",
   "execution_count": null,
   "id": "9234b470-4b77-4cfc-9cff-feff280a0cc2",
   "metadata": {},
   "outputs": [],
   "source": [
    "income2 = np.append(income, [1000000000])\n",
    "print(np.mean(income), np.mean(income2))"
   ]
  },
  {
   "cell_type": "code",
   "execution_count": null,
   "id": "56f4b128-3661-47c7-b8bd-ad8534916bc3",
   "metadata": {},
   "outputs": [],
   "source": [
    "print(np.median(income), np.median(income2))"
   ]
  },
  {
   "cell_type": "markdown",
   "id": "ff3edf58-7a20-469b-8de0-7a92e6c3fe5d",
   "metadata": {},
   "source": [
    "#### 5.1.1.3 Sample Quantiles"
   ]
  },
  {
   "cell_type": "code",
   "execution_count": null,
   "id": "9b76482f-c544-4fb8-b031-4c9385706f52",
   "metadata": {},
   "outputs": [],
   "source": [
    "np.quantile(heights, [0, 0.25, 0.5, 0.75, 1])"
   ]
  },
  {
   "cell_type": "code",
   "execution_count": null,
   "id": "dea70115-2a71-45a5-a2b0-e59001efb2bd",
   "metadata": {},
   "outputs": [],
   "source": [
    "np.quantile(income, [0, 0.25, 0.5, 0.75, 1])"
   ]
  },
  {
   "cell_type": "code",
   "execution_count": null,
   "id": "9debf231-aede-4e55-b8fa-5f763271e7f9",
   "metadata": {},
   "outputs": [],
   "source": [
    "np.quantile(income, [0.025, 0.975])"
   ]
  },
  {
   "cell_type": "markdown",
   "id": "36629ab2-e740-45a4-9249-6a6a2a3f9264",
   "metadata": {},
   "source": [
    "### 5.1.2 Measures of Dispersion"
   ]
  },
  {
   "cell_type": "code",
   "execution_count": null,
   "id": "900764f8-4388-4e82-be95-28a39587ae79",
   "metadata": {},
   "outputs": [],
   "source": [
    "np.std(heights), np.std(income)"
   ]
  },
  {
   "cell_type": "code",
   "execution_count": null,
   "id": "d44da9f0-d084-46b1-a28b-79ca6fa66ec5",
   "metadata": {},
   "outputs": [],
   "source": [
    "np.quantile(heights, 0.75) - np.quantile(heights, 0.25)"
   ]
  },
  {
   "cell_type": "code",
   "execution_count": null,
   "id": "12906c81-f827-4dd4-853d-c6bc66d836aa",
   "metadata": {},
   "outputs": [],
   "source": [
    "np.quantile(income, 0.75) - np.quantile(income, 0.25)"
   ]
  },
  {
   "cell_type": "markdown",
   "id": "eb9103e2-f339-4a05-9cad-dd2d22c567ec",
   "metadata": {},
   "source": [
    "### Measures of Shape"
   ]
  },
  {
   "cell_type": "code",
   "execution_count": null,
   "id": "fed4c57d-ddd9-4a92-8840-43bea43c2858",
   "metadata": {},
   "outputs": [],
   "source": [
    "import scipy.stats"
   ]
  },
  {
   "cell_type": "code",
   "execution_count": null,
   "id": "6de7a831-59f7-4c88-8dcc-17ee7602e3f9",
   "metadata": {},
   "outputs": [],
   "source": [
    "scipy.stats.skew(heights)"
   ]
  },
  {
   "cell_type": "code",
   "execution_count": null,
   "id": "2c23651c-b8d7-469a-8538-31437a447c69",
   "metadata": {},
   "outputs": [],
   "source": [
    "scipy.stats.skew(income)"
   ]
  },
  {
   "cell_type": "code",
   "execution_count": null,
   "id": "df3c3856-5de5-4420-ada4-9ceb1eb85a91",
   "metadata": {},
   "outputs": [],
   "source": [
    "scipy.stats.kurtosis(heights)"
   ]
  },
  {
   "cell_type": "code",
   "execution_count": null,
   "id": "d4d96d78-2bd6-4d27-8803-327b4499bcc6",
   "metadata": {},
   "outputs": [],
   "source": [
    "scipy.stats.kurtosis(income)"
   ]
  },
  {
   "cell_type": "code",
   "execution_count": null,
   "id": "467fc5a4-519b-4121-aff3-3ef82293919f",
   "metadata": {},
   "outputs": [],
   "source": [
    "import matplotlib.pyplot as plt\n",
    "import seaborn as sns"
   ]
  },
  {
   "cell_type": "code",
   "execution_count": null,
   "id": "e9cefcd2-497b-4b90-b8de-b4f143bb1886",
   "metadata": {},
   "outputs": [],
   "source": [
    "plt.subplot(4, 1, 1)  # 2 rows, 1 column, 1st subplot\n",
    "sns.boxplot(data=heights, orient=\"h\", color=\"lightgray\")\n",
    "plt.plot(np.mean(heights), 0, \"wX\")\n",
    "plt.yticks([0], [\"heights\"])\n",
    "plt.subplot(4, 1, 2)  # 2 rows, 1 column, 2nd subplot\n",
    "sns.boxplot(data=income, orient=\"h\", color=\"lightgray\")\n",
    "plt.plot(np.mean(income), 0, \"wX\")\n",
    "plt.yticks([0], [\"income\"])\n",
    "plt.subplot(4, 1, 3)  # 2 rows, 1 column, 1st subplot\n",
    "sns.violinplot(data=heights, orient=\"h\", color=\"lightgray\")\n",
    "plt.yticks([0], [\"heights\"])\n",
    "plt.subplot(4, 1, 4)  # 2 rows, 1 column, 2nd subplot\n",
    "sns.violinplot(data=income, orient=\"h\", color=\"lightgray\")\n",
    "plt.yticks([0], [\"income\"])\n",
    "plt.show()"
   ]
  },
  {
   "cell_type": "markdown",
   "id": "e6d37274-e605-4124-bea5-75569dd61d89",
   "metadata": {},
   "source": [
    "## 5.2 Vectorised Mathematical Functions"
   ]
  },
  {
   "cell_type": "code",
   "execution_count": null,
   "id": "5689bbfb-733b-48bd-82e7-a5c74d42acd0",
   "metadata": {},
   "outputs": [],
   "source": [
    "np.round([-3.249, -3.151, 2.49, 2.51, 3.49, 3.51], 1)"
   ]
  },
  {
   "cell_type": "code",
   "execution_count": null,
   "id": "ec544de5-bf99-4f3b-8176-c22297ba15de",
   "metadata": {},
   "outputs": [],
   "source": [
    "plt.subplot(1, 2, 1)\n",
    "x = np.linspace(np.exp(-2), np.exp(3), 1001)\n",
    "plt.plot(x, np.log(x), label=\"$y=\\\\log x$\")\n",
    "plt.legend()\n",
    "plt.subplot(1, 2, 2)\n",
    "x = np.linspace(-2, 3, 1001)\n",
    "plt.plot(x, np.exp(x), label=\"$y=\\\\exp(x)$\")\n",
    "plt.legend()\n",
    "plt.show()"
   ]
  },
  {
   "cell_type": "code",
   "execution_count": null,
   "id": "09fdec20-5c19-4137-be3c-dcb67b881f39",
   "metadata": {},
   "outputs": [],
   "source": [
    "10.0**np.array([-1, 0, 1, 2]) "
   ]
  },
  {
   "cell_type": "code",
   "execution_count": null,
   "id": "b1d7f1c1-e30f-4ef5-b6b5-74339e8ab8a8",
   "metadata": {},
   "outputs": [],
   "source": [
    "np.log10([-1, 0.01, 0.1, 1, 2, 5, 10, 100, 1000, 10000])"
   ]
  },
  {
   "cell_type": "code",
   "execution_count": null,
   "id": "90140e52-d170-47bd-bf3a-415c6aacf20a",
   "metadata": {},
   "outputs": [],
   "source": [
    "x = np.linspace(-2*np.pi, 4*np.pi, 1001)\n",
    "plt.plot(x, np.cos(x))\n",
    "plt.xticks(\n",
    "    [-2*np.pi, -np.pi, 0, np.pi/2, np.pi, 3*np.pi/2, 2*np.pi, 4*np.pi],\n",
    "    [\"$-2\\\\pi$\", \"$-\\\\pi$\", \"$0$\", \"$\\\\pi/2$\", \"$\\\\pi$\",\n",
    "     \"$3\\\\pi/2$\", \"$2\\\\pi$\", \"$4\\\\pi$\"]\n",
    ")\n",
    "plt.show()"
   ]
  },
  {
   "cell_type": "code",
   "execution_count": null,
   "id": "ead6a4be-eef8-4d11-be33-977b7ffa59d6",
   "metadata": {},
   "outputs": [],
   "source": [
    "print(x)"
   ]
  },
  {
   "cell_type": "code",
   "execution_count": null,
   "id": "da4126da-9819-4ef1-9b33-b516a82c0711",
   "metadata": {},
   "outputs": [],
   "source": [
    "len(x)"
   ]
  },
  {
   "cell_type": "code",
   "execution_count": null,
   "id": "2fd5b382-a75e-40c9-a246-88ebd3993548",
   "metadata": {},
   "outputs": [],
   "source": [
    "6.28318531 / 3.1415"
   ]
  },
  {
   "cell_type": "code",
   "execution_count": null,
   "id": "793ef6d5-73f0-4922-8fe9-ef0588935cfa",
   "metadata": {},
   "outputs": [],
   "source": [
    "6.28318531 / np.pi"
   ]
  },
  {
   "cell_type": "markdown",
   "id": "444cd7ce-1e5b-449b-97f4-f5614eadbce2",
   "metadata": {},
   "source": [
    "Identities worth memorising:\n",
    "\n",
    "$$ \\sin(x) = \\cos(\\frac{\\pi}{2} - x) $$\n",
    "$$ \\cos(-x) = \\cos(x) $$\n",
    "$ \\cos^2(x) + \\sin^2(x) = 1 $, where $ \\cos^2(x) = (\\cos(x))^2 $\n",
    "\n",
    "$$ \\cos(x + y) = \\cos(x)\\cos(y) - \\sin(x)\\sin(y)$$\n",
    "$$ \\cos(x - y) = \\cos(x)\\cos(y) + \\sin(x)\\sin(y)$$"
   ]
  },
  {
   "cell_type": "code",
   "execution_count": null,
   "id": "ed13f6b9-ba82-45f5-89e1-6633c900cdc4",
   "metadata": {},
   "outputs": [],
   "source": [
    "np.array([-2, -1, 0, 1, 2, 3])**2"
   ]
  },
  {
   "cell_type": "code",
   "execution_count": null,
   "id": "c9ab2911-74bd-467d-961a-55c26376f69b",
   "metadata": {},
   "outputs": [],
   "source": [
    "(np.array([-2, -1, 0, 1, 2, 3])+2)/5"
   ]
  },
  {
   "cell_type": "code",
   "execution_count": null,
   "id": "b9924bf1-03c7-4c17-8425-7408a096e117",
   "metadata": {},
   "outputs": [],
   "source": [
    "np.array([-2, -1, 0, 1, 2, 3])+2/5"
   ]
  },
  {
   "cell_type": "markdown",
   "id": "5a0c1264-f651-4dec-a2de-644d9faa68ed",
   "metadata": {},
   "source": [
    "pedmas:\n",
    "1. parenthesis\n",
    "2. exponent\n",
    "3. divide\n",
    "4. multiply\n",
    "5. add\n",
    "6. subtract"
   ]
  },
  {
   "cell_type": "markdown",
   "id": "8e607c7f-97b1-4272-a9c2-440d72258693",
   "metadata": {},
   "source": [
    "#### 5.3.2.1 Standardisation and Z-score"
   ]
  },
  {
   "cell_type": "code",
   "execution_count": null,
   "id": "1fe411df-e091-42cc-9bd5-e537a4f25414",
   "metadata": {},
   "outputs": [],
   "source": [
    "heights[-5:]"
   ]
  },
  {
   "cell_type": "code",
   "execution_count": null,
   "id": "45d5141c-f6bd-4c0e-a68c-facc517c37da",
   "metadata": {},
   "outputs": [],
   "source": [
    "np.mean(heights), np.std(heights)"
   ]
  },
  {
   "cell_type": "code",
   "execution_count": null,
   "id": "19542a14-77a7-4b09-ac75-5bf3f447150c",
   "metadata": {},
   "outputs": [],
   "source": [
    "heights_std = (heights - np.mean(heights)) / np.std(heights)\n",
    "heights_std[-5:]"
   ]
  },
  {
   "cell_type": "markdown",
   "id": "6e00c47d-b824-47d6-bea4-dad7394f296c",
   "metadata": {},
   "source": [
    "$$ z_{i} = \\frac{x_{i} - \\bar{x}}{s} $$"
   ]
  },
  {
   "cell_type": "code",
   "execution_count": null,
   "id": "46a39c8c-f3f7-42c1-ab68-892a907ce9cb",
   "metadata": {},
   "outputs": [],
   "source": [
    "np.mean(heights_std), np.std(heights_std)"
   ]
  },
  {
   "cell_type": "markdown",
   "id": "64837374-1763-4e4e-a3f3-052911e6ecb7",
   "metadata": {},
   "source": [
    "#### 5.3.2.2 Min-Max Scaling and Clipping"
   ]
  },
  {
   "cell_type": "code",
   "execution_count": null,
   "id": "59847bf6-3895-4d31-bd01-60aab7ab5edd",
   "metadata": {},
   "outputs": [],
   "source": [
    "x = np.array([-1.5, 0.5, 3.5, -1.33, 0.25, 0.8])\n",
    "(x - np.min(x))/(np.max(x) - np.min(x))"
   ]
  },
  {
   "cell_type": "markdown",
   "id": "3c040e66-23fd-4483-b6a4-fccb67e7f343",
   "metadata": {},
   "source": [
    "$$ \\frac{x_{i} - x_{min}}{x_{max} - x_{min}} $$"
   ]
  },
  {
   "cell_type": "code",
   "execution_count": null,
   "id": "eaf50ea7-9801-44ac-ade5-b5ce8a2b03fd",
   "metadata": {},
   "outputs": [],
   "source": [
    "np.clip(x, 0, 1)"
   ]
  },
  {
   "cell_type": "code",
   "execution_count": null,
   "id": "4b788796-bdff-420c-9096-23bebf7588e2",
   "metadata": {},
   "outputs": [],
   "source": [
    "np.max(x)"
   ]
  },
  {
   "cell_type": "code",
   "execution_count": null,
   "id": "cfd3e5d1-3b95-4919-b66d-13dd022ed882",
   "metadata": {},
   "outputs": [],
   "source": [
    "print(x)"
   ]
  },
  {
   "cell_type": "code",
   "execution_count": null,
   "id": "680217b4-44b5-4cdf-9ec8-ff42a2e6f36b",
   "metadata": {},
   "outputs": [],
   "source": [
    "np.maximum(0, x)"
   ]
  },
  {
   "cell_type": "code",
   "execution_count": null,
   "id": "4416ea49-32fa-461a-964b-c8f457f85ade",
   "metadata": {},
   "outputs": [],
   "source": [
    "np.minimum(1, x)"
   ]
  },
  {
   "cell_type": "code",
   "execution_count": null,
   "id": "48a3f067-1457-4bf9-90b1-f442f6f2b7ea",
   "metadata": {},
   "outputs": [],
   "source": [
    "np.minimum(1, np.maximum(0, x))"
   ]
  },
  {
   "cell_type": "code",
   "execution_count": null,
   "id": "f7b16595-8672-4fd3-8346-c4c99280213a",
   "metadata": {
    "tags": []
   },
   "outputs": [],
   "source": [
    "help(np.minimum)"
   ]
  },
  {
   "cell_type": "markdown",
   "id": "efcc3017-3d29-4bdb-8030-fa98d8017757",
   "metadata": {},
   "source": [
    "#### 5.3.2.3 Normalisation (l_2; Dividing by Magnitude)"
   ]
  },
  {
   "cell_type": "markdown",
   "id": "8a37585d-9c71-4cdc-a9eb-05662838697e",
   "metadata": {},
   "source": [
    "$$ ||(x_{1},\\ldots,x_{n})|| = \\sqrt{x_{1}^{2} + x_{2}^{2} + \\ldots + x_{n}^{2}} = \\sqrt{\\sum_{i=1}^{n} x_{i}^{2}} $$"
   ]
  },
  {
   "cell_type": "code",
   "execution_count": null,
   "id": "6e3c7283-b4bc-4b80-878b-4ad4d41c927e",
   "metadata": {},
   "outputs": [],
   "source": [
    "x = np.array([1, 5, -4, 2, 2.5])\n",
    "x/np.sqrt(np.sum(x**2))"
   ]
  },
  {
   "cell_type": "code",
   "execution_count": null,
   "id": "ff576d56-da61-43c6-b38b-2ab80de042f5",
   "metadata": {},
   "outputs": [],
   "source": [
    "len(x)"
   ]
  },
  {
   "cell_type": "code",
   "execution_count": null,
   "id": "6f261d26-9c40-42af-b526-b717b0d2c3a1",
   "metadata": {},
   "outputs": [],
   "source": [
    "x / np.sqrt(len(x))"
   ]
  },
  {
   "cell_type": "markdown",
   "id": "31c265c6-4fe9-4b9a-a894-78662550d490",
   "metadata": {},
   "source": [
    "#### 5.3.2.4 Normalisation (l_1; Dividing by Sum)"
   ]
  },
  {
   "cell_type": "code",
   "execution_count": null,
   "id": "3b969152-1360-4dc8-89c0-6c7d4a07dbd0",
   "metadata": {},
   "outputs": [],
   "source": [
    "x /np.sum(np.abs(x))"
   ]
  },
  {
   "cell_type": "code",
   "execution_count": null,
   "id": "b2ca1a96-d989-49c1-a088-36d0bd4409f0",
   "metadata": {},
   "outputs": [],
   "source": [
    "c, b = np.histogram(heights, [-np.inf, 150, 160, 170, np.inf])\n",
    "print(c) "
   ]
  },
  {
   "cell_type": "code",
   "execution_count": null,
   "id": "a4599801-0f7c-469d-94a9-5e991af3fe3a",
   "metadata": {},
   "outputs": [],
   "source": [
    "p = c/np.sum(c)\n",
    "print(p)"
   ]
  },
  {
   "cell_type": "markdown",
   "id": "683365d6-6b6f-4a53-add6-09cb6e7449ad",
   "metadata": {},
   "source": [
    "### 5.3.3 Vector-Vector Case"
   ]
  },
  {
   "cell_type": "code",
   "execution_count": null,
   "id": "881f93d0-3395-4980-8e64-8e50d93505b0",
   "metadata": {},
   "outputs": [],
   "source": [
    "np.array([2, 3, 4, 5]) * np.array([10, 100, 1000, 10000])"
   ]
  },
  {
   "cell_type": "code",
   "execution_count": null,
   "id": "570185c1-507c-4ddb-a575-0b8d11c688c9",
   "metadata": {},
   "outputs": [],
   "source": [
    " p = np.array([0.1, 0.3, 0.25, 0.15, 0.12, 0.08]) \n",
    "-np.sum(p*np.log(p))"
   ]
  },
  {
   "cell_type": "code",
   "execution_count": null,
   "id": "94e10361-fe36-4e0b-8fc5-7f668c9409c6",
   "metadata": {},
   "outputs": [],
   "source": [
    "x = np.linspace(-np.pi, 1.5*np.pi, 1001)  # many points in the said interval\n",
    "yf = np.sin(x)\n",
    "yg = x - x**3/6 + x**5/120 - x**7/5040\n",
    "plt.plot(x, yf, 'k-', label=\"f(x)\")  # black solid line\n",
    "plt.plot(x, yg, 'r:', label=\"g(x)\")  # red dotted line\n",
    "plt.legend()\n",
    "plt.show()"
   ]
  },
  {
   "cell_type": "code",
   "execution_count": null,
   "id": "84035b67-96e3-489c-a004-f4927161aa7b",
   "metadata": {},
   "outputs": [],
   "source": [
    "weights = np.loadtxt(\"https://raw.githubusercontent.com/gagolews/\" +\n",
    "                     \"teaching-data/master/marek/nhanes_adult_female_weight_2020.txt\")"
   ]
  },
  {
   "cell_type": "code",
   "execution_count": null,
   "id": "47cf02ba-be6c-40f4-851c-cfc806dadcad",
   "metadata": {},
   "outputs": [],
   "source": [
    "fbmi = weights/(heights)\n",
    "print(fbmi)"
   ]
  },
  {
   "cell_type": "code",
   "execution_count": null,
   "id": "4ea6f1c0-a94c-449c-b19d-f1b7a6dbd219",
   "metadata": {},
   "outputs": [],
   "source": [
    "min(fbmi)"
   ]
  },
  {
   "cell_type": "code",
   "execution_count": null,
   "id": "8be3e8c7-c321-46d0-8060-93b0818df92c",
   "metadata": {},
   "outputs": [],
   "source": [
    "max(fbmi)"
   ]
  },
  {
   "cell_type": "code",
   "execution_count": null,
   "id": "87476f53-246f-4c27-a7c9-acca009bdf5c",
   "metadata": {},
   "outputs": [],
   "source": [
    "sns.boxplot(data=fbmi, orient=\"h\", color=\"lightgray\")\n",
    "plt.plot(np.mean(fbmi), 0, \"wX\")\n",
    "plt.show()"
   ]
  },
  {
   "cell_type": "code",
   "execution_count": null,
   "id": "153831f6-eedb-4d09-a8fb-0fe6f961e022",
   "metadata": {},
   "outputs": [],
   "source": [
    "x = [10, 20, 30, 40, 50]\n",
    "x[1:2]"
   ]
  },
  {
   "cell_type": "code",
   "execution_count": null,
   "id": "c7fd4ac0-6b40-43ca-abb1-baa81272df8f",
   "metadata": {},
   "outputs": [],
   "source": [
    "x[0]"
   ]
  },
  {
   "cell_type": "code",
   "execution_count": null,
   "id": "c51f0a5a-52db-40df-968d-d18bc9130ee4",
   "metadata": {},
   "outputs": [],
   "source": [
    "type(x[1:2])"
   ]
  },
  {
   "cell_type": "markdown",
   "id": "4680bebf-fe06-473f-9658-1c5bfd6fb702",
   "metadata": {},
   "source": [
    "### 5.4.1 Interger Indexing"
   ]
  },
  {
   "cell_type": "code",
   "execution_count": null,
   "id": "6ce5b9dd-5f6e-4ab3-845d-17fbb928edc7",
   "metadata": {},
   "outputs": [],
   "source": [
    "x = np.array([10, 20, 30, 40, 50])\n",
    "x[-1] # last\n"
   ]
  },
  {
   "cell_type": "code",
   "execution_count": null,
   "id": "ce5df873-83b8-46bc-bccb-c15cfb9ed0d7",
   "metadata": {},
   "outputs": [],
   "source": [
    "x[ [3] ]"
   ]
  },
  {
   "cell_type": "code",
   "execution_count": null,
   "id": "64fa2473-58bc-43fe-98ad-4b44649b36b0",
   "metadata": {},
   "outputs": [],
   "source": [
    "x[ [3, 2, 1, 0, 4] ]"
   ]
  },
  {
   "cell_type": "code",
   "execution_count": null,
   "id": "7acf1022-b9f6-4d13-8faf-eaef124f3ee8",
   "metadata": {},
   "outputs": [],
   "source": [
    "x[ [] ]"
   ]
  },
  {
   "cell_type": "markdown",
   "id": "196f150c-ca73-49fb-bd82-27bf929f4843",
   "metadata": {},
   "source": [
    "### 5.4.2 Logical Indexing"
   ]
  },
  {
   "cell_type": "code",
   "execution_count": null,
   "id": "b2163797-a3ee-4699-9f97-1cd11e9a9c4c",
   "metadata": {},
   "outputs": [],
   "source": [
    "x[ [True, False, True, True, False] ]"
   ]
  },
  {
   "cell_type": "code",
   "execution_count": null,
   "id": "5121ba53-add1-4102-bec7-866e1ce0ee15",
   "metadata": {},
   "outputs": [],
   "source": [
    "x >= 30"
   ]
  },
  {
   "cell_type": "code",
   "execution_count": null,
   "id": "a8f87589-e7cb-40aa-90f9-3e6f8dc558aa",
   "metadata": {},
   "outputs": [],
   "source": [
    "x[ x >= 30 ]"
   ]
  },
  {
   "cell_type": "code",
   "execution_count": null,
   "id": "b4294c30-c804-47d2-ae58-6ee0cf5be965",
   "metadata": {},
   "outputs": [],
   "source": [
    "y = (x/10) % 2"
   ]
  },
  {
   "cell_type": "code",
   "execution_count": null,
   "id": "376fc95f-994e-4a6b-b7b3-1d2a2995ce58",
   "metadata": {},
   "outputs": [],
   "source": [
    "y"
   ]
  },
  {
   "cell_type": "code",
   "execution_count": null,
   "id": "d286800e-0b38-4e41-9b56-97c5fc4120ca",
   "metadata": {},
   "outputs": [],
   "source": [
    "x [y == 0]"
   ]
  },
  {
   "cell_type": "code",
   "execution_count": null,
   "id": "799bc9cf-9216-4920-b015-93936f7b5c59",
   "metadata": {},
   "outputs": [],
   "source": [
    "x[ (20 <= x) & (x <= 34) ]"
   ]
  },
  {
   "cell_type": "code",
   "execution_count": null,
   "id": "49e7f7b2-7362-4a48-8e0c-40891b224f19",
   "metadata": {},
   "outputs": [],
   "source": [
    "g = (heights >= 150) & (heights <= 170)"
   ]
  },
  {
   "cell_type": "code",
   "execution_count": null,
   "id": "d91bed16-6ce2-43ee-983c-887e17c2d13a",
   "metadata": {},
   "outputs": [],
   "source": [
    "gb = fbmi[g]"
   ]
  },
  {
   "cell_type": "code",
   "execution_count": null,
   "id": "68851b53-9174-4435-a952-88e9c2b4efc8",
   "metadata": {},
   "outputs": [],
   "source": [
    "len(gb)"
   ]
  },
  {
   "cell_type": "code",
   "execution_count": null,
   "id": "c0d6fa7d-8a77-416f-9734-f202501a463b",
   "metadata": {},
   "outputs": [],
   "source": [
    "len(heights)"
   ]
  },
  {
   "cell_type": "markdown",
   "id": "c4815da4-ddde-401f-9a9b-9578539b8bc9",
   "metadata": {},
   "source": [
    "### 5.4.3 Slicing"
   ]
  },
  {
   "cell_type": "code",
   "execution_count": null,
   "id": "e39a2c41-a162-4cf9-b7b4-da4999ebdccd",
   "metadata": {},
   "outputs": [],
   "source": [
    "x[::-1]"
   ]
  },
  {
   "cell_type": "code",
   "execution_count": null,
   "id": "b9511185-b1d0-47a8-a2da-7bf414f665b5",
   "metadata": {},
   "outputs": [],
   "source": [
    "x"
   ]
  },
  {
   "cell_type": "code",
   "execution_count": null,
   "id": "8b7714e0-c890-4207-8c4f-a9430928e5bd",
   "metadata": {},
   "outputs": [],
   "source": [
    "x[3:]"
   ]
  },
  {
   "cell_type": "code",
   "execution_count": null,
   "id": "6cd796b8-d08f-4f9d-a6cd-26e3aad8174a",
   "metadata": {},
   "outputs": [],
   "source": [
    "x[1:4]"
   ]
  },
  {
   "cell_type": "code",
   "execution_count": null,
   "id": "58d77c73-39b4-41ac-9739-851d863eeb1c",
   "metadata": {},
   "outputs": [],
   "source": [
    "y = np.array([6, 4, 8, 5, 1, 3, 2, 9, 7])"
   ]
  },
  {
   "cell_type": "code",
   "execution_count": null,
   "id": "c8e58724-89cd-4c72-8669-518c540a6ac2",
   "metadata": {},
   "outputs": [],
   "source": [
    "y[::2] *= 10"
   ]
  },
  {
   "cell_type": "code",
   "execution_count": null,
   "id": "c78cc7b9-2cd4-4ff1-ac9e-5be36b506104",
   "metadata": {},
   "outputs": [],
   "source": [
    "y"
   ]
  },
  {
   "cell_type": "code",
   "execution_count": null,
   "id": "aa7a397e-c5cc-42fe-bbf9-283b2731c701",
   "metadata": {},
   "outputs": [],
   "source": [
    "y[ [1, 3, 5, 7] ] *= 10"
   ]
  },
  {
   "cell_type": "code",
   "execution_count": null,
   "id": "1881bbf7-13dd-4a3e-a8ce-e02659732044",
   "metadata": {},
   "outputs": [],
   "source": [
    "y"
   ]
  },
  {
   "cell_type": "code",
   "execution_count": null,
   "id": "853c748a-3ec0-42c4-8baf-fedb862da8fe",
   "metadata": {},
   "outputs": [],
   "source": [
    "y[ [1, 3, 5, 7] ] //= 10"
   ]
  },
  {
   "cell_type": "code",
   "execution_count": null,
   "id": "cf8bf9bd-165a-4a21-8ca2-9ff955a68e71",
   "metadata": {},
   "outputs": [],
   "source": [
    "y"
   ]
  },
  {
   "cell_type": "markdown",
   "id": "466b5295-2812-42e3-a762-758046b371c0",
   "metadata": {},
   "source": [
    "## 5.5 Other Operations"
   ]
  },
  {
   "cell_type": "markdown",
   "id": "463f6051-8473-4e92-9d22-ac51d17f8a1a",
   "metadata": {},
   "source": [
    "### 5.5.1 Cumulative Sums and Iterated Differences"
   ]
  },
  {
   "cell_type": "code",
   "execution_count": null,
   "id": "f8798407-8546-4050-946e-7135b44e3b8e",
   "metadata": {},
   "outputs": [],
   "source": [
    "np.cumsum([5, 3, -4, 1, 1, 3])"
   ]
  },
  {
   "cell_type": "code",
   "execution_count": null,
   "id": "74882cc7-f4fb-4b70-a2fb-d3f811031dd5",
   "metadata": {},
   "outputs": [],
   "source": [
    "np.diff([5, 8, 4,5, 6, 9])"
   ]
  },
  {
   "cell_type": "markdown",
   "id": "639849d3-36d2-4c47-9e2a-25ef82a08635",
   "metadata": {},
   "source": [
    "### 5.5.2 Sorting"
   ]
  },
  {
   "cell_type": "code",
   "execution_count": null,
   "id": "c47ac29f-c2cf-48e1-a26c-81207375573e",
   "metadata": {},
   "outputs": [],
   "source": [
    "x = np.array([40, 10, 20, 40, 40, 30, 20, 40, 50, 10, 10, 70, 30, 40, 30])"
   ]
  },
  {
   "cell_type": "code",
   "execution_count": null,
   "id": "869efb26-0b7e-436d-bca8-cb5df47e835e",
   "metadata": {},
   "outputs": [],
   "source": [
    "np.sort(x)"
   ]
  },
  {
   "cell_type": "code",
   "execution_count": null,
   "id": "dfe363b7-c6ba-4c4a-a593-44142be3f7db",
   "metadata": {},
   "outputs": [],
   "source": [
    "np.random.permutation(x)"
   ]
  },
  {
   "cell_type": "markdown",
   "id": "1caacca4-a12c-45f3-a8a8-d2dd94150f80",
   "metadata": {},
   "source": [
    "### 5.5.3 Dealing with Tied Observations"
   ]
  },
  {
   "cell_type": "code",
   "execution_count": null,
   "id": "f0395880-8f33-4cbd-b9c4-2e68e050c65d",
   "metadata": {},
   "outputs": [],
   "source": [
    "x = np.array([40, 10, 20, 40, 40, 30, 20, 40, 50, 10, 10, 70, 30, 40, 30])"
   ]
  },
  {
   "cell_type": "code",
   "execution_count": null,
   "id": "824f0637-2e74-4e82-9372-9541770337d0",
   "metadata": {},
   "outputs": [],
   "source": [
    "np.unique(x)"
   ]
  },
  {
   "cell_type": "code",
   "execution_count": null,
   "id": "7ef7e731-73b5-435d-9608-26fb69419def",
   "metadata": {},
   "outputs": [],
   "source": [
    "x"
   ]
  },
  {
   "cell_type": "code",
   "execution_count": null,
   "id": "5cbe635a-15f9-41bb-81cc-6308f39dcba7",
   "metadata": {},
   "outputs": [],
   "source": [
    "np.unique(x, return_counts=True)"
   ]
  },
  {
   "cell_type": "code",
   "execution_count": null,
   "id": "1cb5763c-09e3-4889-8e38-9706570f3d44",
   "metadata": {},
   "outputs": [],
   "source": [
    "np.all(np.unique(x, return_counts=True)[1] == 1)"
   ]
  },
  {
   "cell_type": "code",
   "execution_count": null,
   "id": "0eaaa8a2-87dd-43a8-9cb2-04ce726532aa",
   "metadata": {
    "tags": []
   },
   "outputs": [],
   "source": [
    "help(np.unique)"
   ]
  },
  {
   "cell_type": "code",
   "execution_count": null,
   "id": "836851b0-9313-4212-af37-4f016134a5af",
   "metadata": {},
   "outputs": [],
   "source": [
    "np.unique(x, return_index=True)"
   ]
  },
  {
   "cell_type": "markdown",
   "id": "d1d36ffa-4d53-411a-a1ea-e4e2e007433c",
   "metadata": {},
   "source": [
    "### 5.5.4 Determining the Ordering Permutation and Ranking"
   ]
  },
  {
   "cell_type": "code",
   "execution_count": null,
   "id": "4e1014a2-687a-499f-9db4-ea5a79b49f0f",
   "metadata": {},
   "outputs": [],
   "source": [
    "x = np.array([40, 10, 20, 40, 40, 30, 20, 40, 50, 10, 10, 70, 30, 40, 30])"
   ]
  },
  {
   "cell_type": "code",
   "execution_count": null,
   "id": "04a8457f-cc74-4b5f-b862-f7561ed50d82",
   "metadata": {},
   "outputs": [],
   "source": [
    "np.argsort(x)"
   ]
  },
  {
   "cell_type": "code",
   "execution_count": null,
   "id": "84927740-cbd8-41af-a6f1-c48f2013b734",
   "metadata": {},
   "outputs": [],
   "source": [
    "x[np.argsort(x)]"
   ]
  },
  {
   "cell_type": "code",
   "execution_count": null,
   "id": "d9341db1-5abf-4f1b-9ddf-33863bbe06d9",
   "metadata": {},
   "outputs": [],
   "source": [
    "x[1]"
   ]
  },
  {
   "cell_type": "code",
   "execution_count": null,
   "id": "67f9e28c-6ef0-4732-ab26-6ab423d5b12b",
   "metadata": {},
   "outputs": [],
   "source": [
    "x[9]"
   ]
  },
  {
   "cell_type": "code",
   "execution_count": null,
   "id": "9b762896-617c-4790-8828-566ba878d03d",
   "metadata": {},
   "outputs": [],
   "source": [
    "x[10]"
   ]
  },
  {
   "cell_type": "code",
   "execution_count": null,
   "id": "526dc5f4-4061-41a9-8ed8-c0ac882d4dc4",
   "metadata": {},
   "outputs": [],
   "source": [
    "x = np.array([10, 40, 50, 20, 30, 10])"
   ]
  },
  {
   "cell_type": "code",
   "execution_count": null,
   "id": "26091cb4-5ed6-46dc-8c3d-c8efc7c18050",
   "metadata": {},
   "outputs": [],
   "source": [
    "x"
   ]
  },
  {
   "cell_type": "code",
   "execution_count": null,
   "id": "3faf57d2-8e06-47b8-abd8-9e9b2ededf4c",
   "metadata": {},
   "outputs": [],
   "source": [
    "scipy.stats.rankdata(x)"
   ]
  },
  {
   "cell_type": "code",
   "execution_count": null,
   "id": "d740b668-4257-4d35-99d9-93d7d8e2862f",
   "metadata": {},
   "outputs": [],
   "source": [
    "scipy.stats.rankdata(x, method = \"max\")"
   ]
  },
  {
   "cell_type": "code",
   "execution_count": null,
   "id": "0233ca30-45e0-4a0b-b192-427131009e16",
   "metadata": {},
   "outputs": [],
   "source": [
    "scipy.stats.rankdata(x, method = \"ordinal\")"
   ]
  },
  {
   "cell_type": "code",
   "execution_count": null,
   "id": "f29a5aa1-953e-4497-bedf-08bf789c7618",
   "metadata": {
    "tags": []
   },
   "outputs": [],
   "source": [
    "help(scipy.stats.rankdata)"
   ]
  },
  {
   "cell_type": "markdown",
   "id": "5039b986-54ee-4c69-b7a7-e043e9d38121",
   "metadata": {},
   "source": [
    "### 5.5.5 Searching for Certain Indexes (Argmin, Argmax)"
   ]
  },
  {
   "cell_type": "code",
   "execution_count": null,
   "id": "9fff35c2-fd34-447e-b7ae-8ae1a5198f41",
   "metadata": {},
   "outputs": [],
   "source": []
  }
 ],
 "metadata": {
  "kernelspec": {
   "display_name": "Python 3 (ipykernel)",
   "language": "python",
   "name": "python3"
  },
  "language_info": {
   "codemirror_mode": {
    "name": "ipython",
    "version": 3
   },
   "file_extension": ".py",
   "mimetype": "text/x-python",
   "name": "python",
   "nbconvert_exporter": "python",
   "pygments_lexer": "ipython3",
   "version": "3.9.7"
  }
 },
 "nbformat": 4,
 "nbformat_minor": 5
}
