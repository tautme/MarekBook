{
 "cells": [
  {
   "cell_type": "markdown",
   "id": "09aebec5-2ecf-418e-be3b-6161a0761928",
   "metadata": {},
   "source": [
    "### 1.4 Initializing Each Session and Getting Example Data (!)"
   ]
  },
  {
   "cell_type": "code",
   "execution_count": null,
   "id": "9e4c5e6f-c9e8-4fa3-ae54-d2cd74cf2b72",
   "metadata": {},
   "outputs": [],
   "source": [
    "# import key packages - required:\n",
    "import numpy as np\n",
    "import scipy.stats\n",
    "import pandas as pd\n",
    "import matplotlib.pyplot as plt\n",
    "import seaborn as sns\n",
    "\n",
    "# further settings - optional:\n",
    "pd.set_option(\"display.notebook_repr_html\", False)  # disable \"rich\" output\n",
    "\n",
    "import os\n",
    "os.environ[\"COLUMNS\"] = \"74\"  # output width, in characters\n",
    "np.set_printoptions(linewidth=74)\n",
    "pd.set_option(\"display.width\", 74)\n",
    "\n",
    "\n",
    "plt.style.use(\"seaborn\")  # overall plot style\n",
    "\n",
    "_colours = [  # the \"R4\" palette\n",
    "    \"#000000\", \"#DF536B\", \"#61D04F\", \"#2297E6\",\n",
    "    \"#28E2E5\", \"#CD0BBC\", \"#F5C710\", \"#999999\"\n",
    "]\n",
    "\n",
    "_linestyles = [\n",
    "    \"solid\", \"dashed\", \"dashdot\", \"dotted\"\n",
    "]\n",
    "\n",
    "plt.rcParams[\"axes.prop_cycle\"] = plt.cycler(\n",
    "    # each plotted line will have a different plotting style\n",
    "    color=_colours, linestyle=_linestyles*2\n",
    ")\n",
    "plt.rcParams[\"patch.facecolor\"] = _colours[0]\n",
    "\n",
    "np.random.seed(123)  # initialise the pseudorandom number generator"
   ]
  },
  {
   "cell_type": "code",
   "execution_count": null,
   "id": "00da05a6-b92b-4274-87e0-671458a39062",
   "metadata": {},
   "outputs": [],
   "source": [
    "import sys\n",
    "print(sys.version)\n",
    "## 3.10.4 (main, Jun 29 2022, 12:14:53) [GCC 11.2.0]"
   ]
  },
  {
   "cell_type": "code",
   "execution_count": null,
   "id": "4a8afd2f-68b4-4a05-8598-89e8ef4bd1c7",
   "metadata": {},
   "outputs": [],
   "source": [
    "print(np.__version__)"
   ]
  },
  {
   "cell_type": "code",
   "execution_count": null,
   "id": "6da569ec-6ca4-4da9-b44d-817550fdcd20",
   "metadata": {},
   "outputs": [],
   "source": [
    "True"
   ]
  },
  {
   "cell_type": "code",
   "execution_count": null,
   "id": "974fc6b5-a217-4311-b683-e4ca5d50662b",
   "metadata": {},
   "outputs": [],
   "source": [
    "print(10000000)"
   ]
  },
  {
   "cell_type": "code",
   "execution_count": null,
   "id": "e6bab796-f1de-4617-86a7-2be550298402",
   "metadata": {},
   "outputs": [],
   "source": [
    "print(1_000_000)"
   ]
  },
  {
   "cell_type": "code",
   "execution_count": null,
   "id": "ffce2726-1663-4f8f-87fa-6ff3960f0257",
   "metadata": {},
   "outputs": [],
   "source": [
    "height = 1.905 #6*12 +4\n",
    "print(height, \"meters\")\n",
    "weight = 86 #190\n",
    "print(weight, \"kilograms\")\n",
    "bmi = (weight / (height**2))\n",
    "print(\"my bmi is\", bmi, \"$/frac{kg}{meter^2}$\")"
   ]
  },
  {
   "cell_type": "code",
   "execution_count": null,
   "id": "42b4213d-0037-4841-9587-160bd1bda887",
   "metadata": {},
   "outputs": [],
   "source": [
    "x = 7/3"
   ]
  },
  {
   "cell_type": "code",
   "execution_count": null,
   "id": "42081147-9e64-4f19-9434-8999802428a0",
   "metadata": {},
   "outputs": [],
   "source": [
    "x *= 3\n",
    "print(x)"
   ]
  },
  {
   "cell_type": "code",
   "execution_count": null,
   "id": "5724c828-9938-4f13-ad4d-2c0a67ffabe5",
   "metadata": {},
   "outputs": [],
   "source": [
    "print('\"G\\'day, howya goin\\'\", he asked.\\n\"Fine, thanks,\" She said.\\n')"
   ]
  },
  {
   "cell_type": "markdown",
   "id": "434e076f-c08c-4473-85fd-f77afde78e50",
   "metadata": {},
   "source": [
    "EDIT 2.1.3 end of line, new line doesn't work \\\\"
   ]
  },
  {
   "cell_type": "code",
   "execution_count": null,
   "id": "d48462dc-8d02-4e45-86c4-ec399c01ec2c",
   "metadata": {},
   "outputs": [],
   "source": [
    "print(\"spam, spam, #, bacon, and spam\")\n",
    "## spam, spam, #, bacon, and spam\n",
    "print(\"Cześć! ¿Qué tal?\")\n",
    "## Cześć! ¿Qué tal?\n",
    "print('\"G\\'day, howya goin\\',\" he asked.\\n\"Fine, thanks,\" she responded.\\\\')\n",
    "## \"G'day, howya goin',\" he asked.\n",
    "## \"Fine, thanks,\" she responded.\\"
   ]
  },
  {
   "cell_type": "code",
   "execution_count": null,
   "id": "276ab6b2-97a7-4d74-99fa-cfac50f3c670",
   "metadata": {},
   "outputs": [],
   "source": [
    "\"\"\"\n",
    "spam\\\\spam\n",
    "tasty\\t\"spam\"\n",
    "lovely\\t'spam'\n",
    "\"\"\"\n",
    "## '\\nspam\\\\spam\\ntasty\\t\"spam\"\\nlovely\\t\\'spam\\'\\n'"
   ]
  },
  {
   "cell_type": "code",
   "execution_count": null,
   "id": "2ef89c42-7703-4f11-a19a-9e096f92793f",
   "metadata": {},
   "outputs": [],
   "source": [
    "print(\n",
    "\"\"\"\n",
    "spam\\\\spam\n",
    "tasty\\t\"spam\"\n",
    "lovely\\t'spam'\n",
    "\"\"\"\n",
    "## '\\nspam\\\\spam\\ntasty\\t\"spam\"\\nlovely\\t\\'spam\\'\\n'\n",
    ")"
   ]
  },
  {
   "cell_type": "code",
   "execution_count": null,
   "id": "765b0279-4bd0-49b1-82c9-d161eec364b3",
   "metadata": {},
   "outputs": [],
   "source": [
    "x = 2\n",
    "f\"x is {x}\""
   ]
  },
  {
   "cell_type": "code",
   "execution_count": null,
   "id": "8c6ad303-6fab-452d-ba5b-92e0885a3b2e",
   "metadata": {},
   "outputs": [],
   "source": [
    "f\"x is z\""
   ]
  },
  {
   "cell_type": "code",
   "execution_count": null,
   "id": "e5514de7-d6d7-437d-a40e-596e9e7ec4da",
   "metadata": {},
   "outputs": [],
   "source": [
    "π = 3.14\n",
    "e = 2.71828182845904523536\n",
    "print(f\"\"\"\n",
    "π = {π:10.8f}\n",
    "e = {e:10.8f}\n",
    "\"\"\")\n",
    "## \n",
    "## π = 3.14159265\n",
    "## e = 2.71828183"
   ]
  },
  {
   "cell_type": "code",
   "execution_count": null,
   "id": "cd2da7d6-c18d-4f86-b0c6-b0171f926c3e",
   "metadata": {},
   "outputs": [],
   "source": [
    "print(e)"
   ]
  },
  {
   "cell_type": "code",
   "execution_count": null,
   "id": "c3bf9552-a44d-4016-85e9-9787c90a00c8",
   "metadata": {},
   "outputs": [],
   "source": [
    "e = 2.718281828459045\n",
    "round(e, 4)\n",
    "## 2.72"
   ]
  },
  {
   "cell_type": "code",
   "execution_count": null,
   "id": "105dd80d-fcad-4caf-a430-1e4f4c4a205e",
   "metadata": {},
   "outputs": [],
   "source": [
    "help(\"round\")"
   ]
  },
  {
   "cell_type": "code",
   "execution_count": null,
   "id": "02db05be-2951-4463-b5df-daaaceddfb20",
   "metadata": {},
   "outputs": [],
   "source": [
    "print(\n",
    "    round(e, 2),  # two arguments matched positionally\n",
    "    round(e, ndigits=2),  # positional and keyword argument\n",
    "    round(number=e, ndigits=2),  # two keyword arguments\n",
    "    round(ndigits=2, number=e)  # the order does not matter for keyword args\n",
    ")\n",
    "## 2.72 2.72 2.72 2.72"
   ]
  },
  {
   "cell_type": "code",
   "execution_count": null,
   "id": "8aa08e20-9f65-45de-8ce3-1669f60afa57",
   "metadata": {},
   "outputs": [],
   "source": [
    "import math   # the math module must be imported prior its first use\n",
    "print(math.log(2.718281828459045))  # the natural logarithm (base e)\n",
    "## 1.0\n",
    "print(math.floor(-7.33))  # the floor function\n",
    "## -8\n",
    "print(math.sin(math.pi))  # sin(pi) equals 0 (with some numeric error)\n",
    "## 1.2246467991473532e-16"
   ]
  },
  {
   "cell_type": "code",
   "execution_count": null,
   "id": "39777818-9394-4ab0-8879-ffc8c3826865",
   "metadata": {},
   "outputs": [],
   "source": [
    "np.random.rand()  # a pseudorandom value in [0.0, 1.0)\n",
    "## 0.6964691855978616"
   ]
  },
  {
   "cell_type": "code",
   "execution_count": null,
   "id": "4a431d85-c8bd-4c49-a06c-6bf2c63d1b28",
   "metadata": {},
   "outputs": [],
   "source": [
    "help(\"rand\")"
   ]
  },
  {
   "cell_type": "code",
   "execution_count": null,
   "id": "6fb621ad-0b80-4670-848d-3664e945324c",
   "metadata": {},
   "outputs": [],
   "source": [
    "x = 1+2j\n",
    "type(x)\n",
    "## <class 'complex'>\n",
    "print(x)"
   ]
  },
  {
   "cell_type": "code",
   "execution_count": null,
   "id": "e7a5bed5-a83c-429d-8aa2-8efe4c9c8ccf",
   "metadata": {
    "tags": []
   },
   "outputs": [],
   "source": [
    "#help(\"complex\")"
   ]
  },
  {
   "cell_type": "code",
   "execution_count": null,
   "id": "8f9138b0-de02-45be-bb5c-1fdf257e13b4",
   "metadata": {},
   "outputs": [],
   "source": [
    "print(x.real)  # access slot `real` of object `x` of class `complex`\n",
    "## 1.0\n",
    "print(x.imag)\n",
    "## 2.0"
   ]
  },
  {
   "cell_type": "code",
   "execution_count": null,
   "id": "05b28e03-d088-4505-8d61-0b142d850134",
   "metadata": {},
   "outputs": [],
   "source": [
    "x.conjugate()  # equivalently: complex.conjugate(x)\n",
    "## (1-2j)"
   ]
  },
  {
   "cell_type": "markdown",
   "id": "1c602a49-3375-4a6e-b1df-5b41515c1df3",
   "metadata": {},
   "source": [
    "### Controlling Program Flow"
   ]
  },
  {
   "cell_type": "markdown",
   "id": "92de0c22-583f-4e3a-9f48-77ce2d21022b",
   "metadata": {},
   "source": [
    "#### Relational and Logical Operators"
   ]
  },
  {
   "cell_type": "code",
   "execution_count": null,
   "id": "aaa7eaf1-4e6a-4337-abb2-d759835ad6f7",
   "metadata": {},
   "outputs": [],
   "source": [
    "1 == 1.0  # is equal to?\n",
    "## True\n",
    "2 != 3  # is not equal to?\n",
    "## True\n",
    "\"spam\" < \"egg\" # is less than? (with respect to the lexicographic order)\n",
    "## False"
   ]
  },
  {
   "cell_type": "code",
   "execution_count": null,
   "id": "763fbf73-bcac-4613-af3f-386065d9a14d",
   "metadata": {},
   "outputs": [],
   "source": [
    "3 <= math.pi and math.pi <= 4"
   ]
  },
  {
   "cell_type": "code",
   "execution_count": null,
   "id": "191356fe-a7d7-4d3b-afda-994df9c622fd",
   "metadata": {},
   "outputs": [],
   "source": [
    "not (1 > 2 and 2 < 3) and not 100 <= 3"
   ]
  },
  {
   "cell_type": "code",
   "execution_count": null,
   "id": "e4b376c6-c037-41d6-9278-1c1e02281dce",
   "metadata": {},
   "outputs": [],
   "source": [
    "100 > 3"
   ]
  },
  {
   "cell_type": "code",
   "execution_count": null,
   "id": "6726a711-0978-45f4-bcb2-1f091c309a7e",
   "metadata": {},
   "outputs": [],
   "source": [
    "not(100 < 3)"
   ]
  },
  {
   "cell_type": "markdown",
   "id": "ad04b8fa-d1fe-42d6-bb4b-5e45a92b6f72",
   "metadata": {},
   "source": [
    "#### The `if` Statement"
   ]
  },
  {
   "cell_type": "code",
   "execution_count": null,
   "id": "7ad3c703-3ea8-4118-b0bf-f93203a775ad",
   "metadata": {},
   "outputs": [],
   "source": [
    "x = np.random.rand()"
   ]
  },
  {
   "cell_type": "code",
   "execution_count": null,
   "id": "4f5b7ea8-904b-4d8e-9f1a-511e918cef02",
   "metadata": {},
   "outputs": [],
   "source": [
    "if x < 0.5: print(\"spam!\")"
   ]
  },
  {
   "cell_type": "code",
   "execution_count": null,
   "id": "cc26ca17-6da6-454f-a0fd-c4ca8a9da473",
   "metadata": {},
   "outputs": [],
   "source": [
    "print(x)"
   ]
  },
  {
   "cell_type": "code",
   "execution_count": null,
   "id": "4f560550-e4d6-413b-b7a6-2eb7ee41b720",
   "metadata": {},
   "outputs": [],
   "source": [
    "if x < 0.25:    print(\"spam!\")\n",
    "elif x < 0.5:   print(\"ham!\")\n",
    "elif x < 0.75:  print(\"bacon!\")\n",
    "else:           print(\"eggs!\")"
   ]
  },
  {
   "cell_type": "code",
   "execution_count": null,
   "id": "88e47479-d980-4727-9744-f5560becb307",
   "metadata": {},
   "outputs": [],
   "source": [
    "p = [1,2,3,4,5]\n",
    "print(p)"
   ]
  },
  {
   "cell_type": "code",
   "execution_count": null,
   "id": "65f96e20-ba72-4c6e-8bca-0134f4a873c4",
   "metadata": {},
   "outputs": [],
   "source": [
    "for n in p:\n",
    "    print(-n+6)"
   ]
  },
  {
   "cell_type": "code",
   "execution_count": null,
   "id": "27373998-391d-47dc-bbc3-fc0947c9a16b",
   "metadata": {},
   "outputs": [],
   "source": [
    "#p = [5,6,7,8,9]\n",
    "#print(p)"
   ]
  },
  {
   "cell_type": "code",
   "execution_count": null,
   "id": "8c7cdac3-3282-4355-9531-498e2f14f347",
   "metadata": {},
   "outputs": [],
   "source": [
    "if x >= 0.25 and x <= 0.75:\n",
    "    print(\"spam!\")\n",
    "    print(\"I love it!\")\n",
    "else:\n",
    "    print(\"I'd rather eat spam!\")\n",
    "print(\"more spam!\")"
   ]
  },
  {
   "cell_type": "code",
   "execution_count": null,
   "id": "0d98bf8b-fa52-45d2-af18-7cf825205b31",
   "metadata": {},
   "outputs": [],
   "source": [
    "if x < 0.5:\n",
    "    print(\"spam!\")\n",
    "   print(\"ham!\")"
   ]
  },
  {
   "cell_type": "code",
   "execution_count": null,
   "id": "5d6db56d-fc5c-4a56-b1fc-9e34ea2a8d0c",
   "metadata": {},
   "outputs": [],
   "source": [
    "if bmi < 18.5:\n",
    "    print(\"underweight\")\n",
    "elif bmi < 25 and bmi > 18.5:\n",
    "    print(\"nOrMaL rAnGe\")\n",
    "elif bmi > 25:\n",
    "    print(\"Overweight\")"
   ]
  },
  {
   "cell_type": "code",
   "execution_count": null,
   "id": "49635f15-9899-4a0d-b751-3fa494eb2f94",
   "metadata": {},
   "outputs": [],
   "source": [
    "print(bmi)"
   ]
  },
  {
   "cell_type": "markdown",
   "id": "c04b6eea-d2f8-48e6-84af-f67f9f2d408e",
   "metadata": {},
   "source": [
    "#### The `while` loop"
   ]
  },
  {
   "cell_type": "code",
   "execution_count": null,
   "id": "46857602-ba5f-486b-a289-578203e1ebcb",
   "metadata": {},
   "outputs": [],
   "source": [
    "count = 0\n",
    "while np.random.rand() > 0.01:\n",
    "    count = count + 1\n",
    "print(count)"
   ]
  },
  {
   "cell_type": "code",
   "execution_count": null,
   "id": "f60a6a8e-3de8-4191-9756-66c604c38530",
   "metadata": {},
   "outputs": [],
   "source": [
    "x = 0\n",
    "n = 0\n",
    "while n <= 10:\n",
    "    n = n + 1\n",
    "    x = x + np.random.rand()\n",
    "print(x/10)"
   ]
  },
  {
   "cell_type": "code",
   "execution_count": null,
   "id": "0e03c70b-e067-4213-965e-c8aecf97e907",
   "metadata": {},
   "outputs": [],
   "source": [
    "print(n)"
   ]
  },
  {
   "cell_type": "code",
   "execution_count": null,
   "id": "53437748-b360-484a-85b1-698436ef554f",
   "metadata": {},
   "outputs": [],
   "source": [
    "print(x)"
   ]
  },
  {
   "cell_type": "markdown",
   "id": "aac949ef-8b41-4138-aa15-d48d84ce46dd",
   "metadata": {},
   "source": [
    "### Defining Own Functions"
   ]
  },
  {
   "cell_type": "code",
   "execution_count": null,
   "id": "be0d89db-80cc-454b-a4fb-7272c1b67078",
   "metadata": {},
   "outputs": [],
   "source": [
    "def min3(a, b, c):\n",
    "    \"\"\"\n",
    "    A function to determine the minimum of three given inputs.\n",
    "    \n",
    "    By the way, this is a docstring (documentations string);\n",
    "    call help(\"min3\") later.\n",
    "    \"\"\"\n",
    "    if a < b:\n",
    "        if a < c:\n",
    "            return a\n",
    "        else:\n",
    "            return c\n",
    "    else:\n",
    "        if b < c:\n",
    "            return b\n",
    "        else:\n",
    "            return c"
   ]
  },
  {
   "cell_type": "code",
   "execution_count": null,
   "id": "5422dc92-7b64-4b8f-b2e6-d788ebe8d9f2",
   "metadata": {},
   "outputs": [],
   "source": []
  }
 ],
 "metadata": {
  "kernelspec": {
   "display_name": "Python 3 (ipykernel)",
   "language": "python",
   "name": "python3"
  },
  "language_info": {
   "codemirror_mode": {
    "name": "ipython",
    "version": 3
   },
   "file_extension": ".py",
   "mimetype": "text/x-python",
   "name": "python",
   "nbconvert_exporter": "python",
   "pygments_lexer": "ipython3",
   "version": "3.9.7"
  }
 },
 "nbformat": 4,
 "nbformat_minor": 5
}
