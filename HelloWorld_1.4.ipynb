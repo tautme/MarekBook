{
 "cells": [
  {
   "cell_type": "markdown",
   "id": "09aebec5-2ecf-418e-be3b-6161a0761928",
   "metadata": {},
   "source": [
    "### 1.4 Initializing Each Session and Getting Example Data (!)"
   ]
  },
  {
   "cell_type": "code",
   "execution_count": 2,
   "id": "9e4c5e6f-c9e8-4fa3-ae54-d2cd74cf2b72",
   "metadata": {},
   "outputs": [],
   "source": [
    "# import key packages - required:\n",
    "import numpy as np\n",
    "import scipy.stats\n",
    "import pandas as pd\n",
    "import matplotlib.pyplot as plt\n",
    "import seaborn as sns\n",
    "\n",
    "# further settings - optional:\n",
    "pd.set_option(\"display.notebook_repr_html\", False)  # disable \"rich\" output\n",
    "\n",
    "import os\n",
    "os.environ[\"COLUMNS\"] = \"74\"  # output width, in characters\n",
    "np.set_printoptions(linewidth=74)\n",
    "pd.set_option(\"display.width\", 74)\n",
    "\n",
    "\n",
    "plt.style.use(\"seaborn\")  # overall plot style\n",
    "\n",
    "_colours = [  # the \"R4\" palette\n",
    "    \"#000000\", \"#DF536B\", \"#61D04F\", \"#2297E6\",\n",
    "    \"#28E2E5\", \"#CD0BBC\", \"#F5C710\", \"#999999\"\n",
    "]\n",
    "\n",
    "_linestyles = [\n",
    "    \"solid\", \"dashed\", \"dashdot\", \"dotted\"\n",
    "]\n",
    "\n",
    "plt.rcParams[\"axes.prop_cycle\"] = plt.cycler(\n",
    "    # each plotted line will have a different plotting style\n",
    "    color=_colours, linestyle=_linestyles*2\n",
    ")\n",
    "plt.rcParams[\"patch.facecolor\"] = _colours[0]\n",
    "\n",
    "np.random.seed(123)  # initialise the pseudorandom number generator"
   ]
  },
  {
   "cell_type": "code",
   "execution_count": 3,
   "id": "00da05a6-b92b-4274-87e0-671458a39062",
   "metadata": {},
   "outputs": [
    {
     "name": "stdout",
     "output_type": "stream",
     "text": [
      "3.8.8 (default, Apr 13 2021, 12:59:45) \n",
      "[Clang 10.0.0 ]\n"
     ]
    }
   ],
   "source": [
    "import sys\n",
    "print(sys.version)\n",
    "## 3.10.4 (main, Jun 29 2022, 12:14:53) [GCC 11.2.0]"
   ]
  },
  {
   "cell_type": "code",
   "execution_count": 4,
   "id": "4a8afd2f-68b4-4a05-8598-89e8ef4bd1c7",
   "metadata": {},
   "outputs": [
    {
     "name": "stdout",
     "output_type": "stream",
     "text": [
      "1.20.1\n"
     ]
    }
   ],
   "source": [
    "print(np.__version__)"
   ]
  },
  {
   "cell_type": "code",
   "execution_count": 6,
   "id": "6da569ec-6ca4-4da9-b44d-817550fdcd20",
   "metadata": {},
   "outputs": [
    {
     "data": {
      "text/plain": [
       "True"
      ]
     },
     "execution_count": 6,
     "metadata": {},
     "output_type": "execute_result"
    }
   ],
   "source": [
    "True"
   ]
  },
  {
   "cell_type": "code",
   "execution_count": 7,
   "id": "974fc6b5-a217-4311-b683-e4ca5d50662b",
   "metadata": {},
   "outputs": [
    {
     "name": "stdout",
     "output_type": "stream",
     "text": [
      "10000000\n"
     ]
    }
   ],
   "source": [
    "print(10000000)"
   ]
  },
  {
   "cell_type": "code",
   "execution_count": 8,
   "id": "e6bab796-f1de-4617-86a7-2be550298402",
   "metadata": {},
   "outputs": [
    {
     "name": "stdout",
     "output_type": "stream",
     "text": [
      "1000000\n"
     ]
    }
   ],
   "source": [
    "print(1_000_000)"
   ]
  },
  {
   "cell_type": "code",
   "execution_count": 13,
   "id": "ffce2726-1663-4f8f-87fa-6ff3960f0257",
   "metadata": {},
   "outputs": [
    {
     "name": "stdout",
     "output_type": "stream",
     "text": [
      "76\n",
      "my bmi is  0.03289473684210526 $pounds/ft^2$\n"
     ]
    }
   ],
   "source": [
    "height = 6*12 +4\n",
    "print(height)\n",
    "weight = 190\n",
    "print(\"my bmi is \", weight/height**2, \"$pounds/ft^2$\")"
   ]
  },
  {
   "cell_type": "code",
   "execution_count": 14,
   "id": "42b4213d-0037-4841-9587-160bd1bda887",
   "metadata": {},
   "outputs": [],
   "source": [
    "x = 7/3"
   ]
  },
  {
   "cell_type": "code",
   "execution_count": 15,
   "id": "42081147-9e64-4f19-9434-8999802428a0",
   "metadata": {},
   "outputs": [
    {
     "name": "stdout",
     "output_type": "stream",
     "text": [
      "7.0\n"
     ]
    }
   ],
   "source": [
    "x *= 3\n",
    "print(x)"
   ]
  },
  {
   "cell_type": "code",
   "execution_count": 29,
   "id": "5724c828-9938-4f13-ad4d-2c0a67ffabe5",
   "metadata": {},
   "outputs": [
    {
     "name": "stdout",
     "output_type": "stream",
     "text": [
      "\"G'day, howya goin'\", he asked.\n",
      "\"Fine, thanks,\" She said.\n",
      " \n"
     ]
    }
   ],
   "source": [
    "print('\"G\\'day, howya goin\\'\", he asked.\\n\"Fine, thanks,\" She said.\\n')"
   ]
  },
  {
   "cell_type": "markdown",
   "id": "434e076f-c08c-4473-85fd-f77afde78e50",
   "metadata": {},
   "source": [
    "EDIT 2.1.3 end of line, new line doesn't work \\\\"
   ]
  },
  {
   "cell_type": "code",
   "execution_count": 30,
   "id": "d48462dc-8d02-4e45-86c4-ec399c01ec2c",
   "metadata": {},
   "outputs": [
    {
     "name": "stdout",
     "output_type": "stream",
     "text": [
      "spam, spam, #, bacon, and spam\n",
      "Cześć! ¿Qué tal?\n",
      "\"G'day, howya goin',\" he asked.\n",
      "\"Fine, thanks,\" she responded.\\\n"
     ]
    }
   ],
   "source": [
    "print(\"spam, spam, #, bacon, and spam\")\n",
    "## spam, spam, #, bacon, and spam\n",
    "print(\"Cześć! ¿Qué tal?\")\n",
    "## Cześć! ¿Qué tal?\n",
    "print('\"G\\'day, howya goin\\',\" he asked.\\n\"Fine, thanks,\" she responded.\\\\')\n",
    "## \"G'day, howya goin',\" he asked.\n",
    "## \"Fine, thanks,\" she responded.\\"
   ]
  },
  {
   "cell_type": "code",
   "execution_count": 31,
   "id": "276ab6b2-97a7-4d74-99fa-cfac50f3c670",
   "metadata": {},
   "outputs": [
    {
     "data": {
      "text/plain": [
       "'\\nspam\\\\spam\\ntasty\\t\"spam\"\\nlovely\\t\\'spam\\'\\n'"
      ]
     },
     "execution_count": 31,
     "metadata": {},
     "output_type": "execute_result"
    }
   ],
   "source": [
    "\"\"\"\n",
    "spam\\\\spam\n",
    "tasty\\t\"spam\"\n",
    "lovely\\t'spam'\n",
    "\"\"\"\n",
    "## '\\nspam\\\\spam\\ntasty\\t\"spam\"\\nlovely\\t\\'spam\\'\\n'"
   ]
  },
  {
   "cell_type": "code",
   "execution_count": 32,
   "id": "2ef89c42-7703-4f11-a19a-9e096f92793f",
   "metadata": {},
   "outputs": [
    {
     "name": "stdout",
     "output_type": "stream",
     "text": [
      "\n",
      "spam\\spam\n",
      "tasty\t\"spam\"\n",
      "lovely\t'spam'\n",
      "\n"
     ]
    }
   ],
   "source": [
    "print(\n",
    "\"\"\"\n",
    "spam\\\\spam\n",
    "tasty\\t\"spam\"\n",
    "lovely\\t'spam'\n",
    "\"\"\"\n",
    "## '\\nspam\\\\spam\\ntasty\\t\"spam\"\\nlovely\\t\\'spam\\'\\n'\n",
    ")"
   ]
  },
  {
   "cell_type": "code",
   "execution_count": 36,
   "id": "765b0279-4bd0-49b1-82c9-d161eec364b3",
   "metadata": {},
   "outputs": [
    {
     "data": {
      "text/plain": [
       "'x is 2'"
      ]
     },
     "execution_count": 36,
     "metadata": {},
     "output_type": "execute_result"
    }
   ],
   "source": [
    "x = 2\n",
    "f\"x is {x}\""
   ]
  },
  {
   "cell_type": "code",
   "execution_count": 35,
   "id": "8c6ad303-6fab-452d-ba5b-92e0885a3b2e",
   "metadata": {},
   "outputs": [
    {
     "data": {
      "text/plain": [
       "'x is z'"
      ]
     },
     "execution_count": 35,
     "metadata": {},
     "output_type": "execute_result"
    }
   ],
   "source": [
    "f\"x is z\""
   ]
  },
  {
   "cell_type": "code",
   "execution_count": 37,
   "id": "e5514de7-d6d7-437d-a40e-596e9e7ec4da",
   "metadata": {},
   "outputs": [
    {
     "name": "stdout",
     "output_type": "stream",
     "text": [
      "\n",
      "π = 3.14000000\n",
      "e = 2.71828183\n",
      "\n"
     ]
    }
   ],
   "source": [
    "π = 3.14\n",
    "e = 2.71828182845904523536\n",
    "print(f\"\"\"\n",
    "π = {π:10.8f}\n",
    "e = {e:10.8f}\n",
    "\"\"\")\n",
    "## \n",
    "## π = 3.14159265\n",
    "## e = 2.71828183"
   ]
  },
  {
   "cell_type": "code",
   "execution_count": 38,
   "id": "cd2da7d6-c18d-4f86-b0c6-b0171f926c3e",
   "metadata": {},
   "outputs": [
    {
     "name": "stdout",
     "output_type": "stream",
     "text": [
      "2.718281828459045\n"
     ]
    }
   ],
   "source": [
    "print(e)"
   ]
  },
  {
   "cell_type": "code",
   "execution_count": 41,
   "id": "c3bf9552-a44d-4016-85e9-9787c90a00c8",
   "metadata": {},
   "outputs": [
    {
     "data": {
      "text/plain": [
       "2.7183"
      ]
     },
     "execution_count": 41,
     "metadata": {},
     "output_type": "execute_result"
    }
   ],
   "source": [
    "e = 2.718281828459045\n",
    "round(e, 4)\n",
    "## 2.72"
   ]
  },
  {
   "cell_type": "code",
   "execution_count": 42,
   "id": "105dd80d-fcad-4caf-a430-1e4f4c4a205e",
   "metadata": {},
   "outputs": [
    {
     "name": "stdout",
     "output_type": "stream",
     "text": [
      "Help on built-in function round in module builtins:\n",
      "\n",
      "round(number, ndigits=None)\n",
      "    Round a number to a given precision in decimal digits.\n",
      "    \n",
      "    The return value is an integer if ndigits is omitted or None.  Otherwise\n",
      "    the return value has the same type as the number.  ndigits may be negative.\n",
      "\n"
     ]
    }
   ],
   "source": [
    "help(\"round\")"
   ]
  },
  {
   "cell_type": "code",
   "execution_count": 43,
   "id": "02db05be-2951-4463-b5df-daaaceddfb20",
   "metadata": {},
   "outputs": [
    {
     "name": "stdout",
     "output_type": "stream",
     "text": [
      "2.72 2.72 2.72 2.72\n"
     ]
    }
   ],
   "source": [
    "print(\n",
    "    round(e, 2),  # two arguments matched positionally\n",
    "    round(e, ndigits=2),  # positional and keyword argument\n",
    "    round(number=e, ndigits=2),  # two keyword arguments\n",
    "    round(ndigits=2, number=e)  # the order does not matter for keyword args\n",
    ")\n",
    "## 2.72 2.72 2.72 2.72"
   ]
  },
  {
   "cell_type": "code",
   "execution_count": 60,
   "id": "8aa08e20-9f65-45de-8ce3-1669f60afa57",
   "metadata": {},
   "outputs": [
    {
     "name": "stdout",
     "output_type": "stream",
     "text": [
      "1.0\n",
      "-8\n",
      "1.2246467991473532e-16\n"
     ]
    }
   ],
   "source": [
    "import math   # the math module must be imported prior its first use\n",
    "print(math.log(2.718281828459045))  # the natural logarithm (base e)\n",
    "## 1.0\n",
    "print(math.floor(-7.33))  # the floor function\n",
    "## -8\n",
    "print(math.sin(math.pi))  # sin(pi) equals 0 (with some numeric error)\n",
    "## 1.2246467991473532e-16"
   ]
  },
  {
   "cell_type": "code",
   "execution_count": 51,
   "id": "39777818-9394-4ab0-8879-ffc8c3826865",
   "metadata": {},
   "outputs": [
    {
     "data": {
      "text/plain": [
       "0.4936850976503062"
      ]
     },
     "execution_count": 51,
     "metadata": {},
     "output_type": "execute_result"
    }
   ],
   "source": [
    "np.random.rand()  # a pseudorandom value in [0.0, 1.0)\n",
    "## 0.6964691855978616"
   ]
  },
  {
   "cell_type": "code",
   "execution_count": 57,
   "id": "4a431d85-c8bd-4c49-a06c-6bf2c63d1b28",
   "metadata": {},
   "outputs": [
    {
     "name": "stdout",
     "output_type": "stream",
     "text": [
      "No Python documentation found for 'rand'.\n",
      "Use help() to get the interactive help utility.\n",
      "Use help(str) for help on the str class.\n",
      "\n"
     ]
    }
   ],
   "source": [
    "help(\"rand\")"
   ]
  },
  {
   "cell_type": "code",
   "execution_count": 54,
   "id": "6fb621ad-0b80-4670-848d-3664e945324c",
   "metadata": {},
   "outputs": [
    {
     "name": "stdout",
     "output_type": "stream",
     "text": [
      "(1+2j)\n"
     ]
    }
   ],
   "source": [
    "x = 1+2j\n",
    "type(x)\n",
    "## <class 'complex'>\n",
    "print(x)"
   ]
  },
  {
   "cell_type": "code",
   "execution_count": 53,
   "id": "e7a5bed5-a83c-429d-8aa2-8efe4c9c8ccf",
   "metadata": {
    "collapsed": true,
    "jupyter": {
     "outputs_hidden": true
    },
    "tags": []
   },
   "outputs": [
    {
     "name": "stdout",
     "output_type": "stream",
     "text": [
      "Help on class complex in module builtins:\n",
      "\n",
      "class complex(object)\n",
      " |  complex(real=0, imag=0)\n",
      " |  \n",
      " |  Create a complex number from a real part and an optional imaginary part.\n",
      " |  \n",
      " |  This is equivalent to (real + imag*1j) where imag defaults to 0.\n",
      " |  \n",
      " |  Methods defined here:\n",
      " |  \n",
      " |  __abs__(self, /)\n",
      " |      abs(self)\n",
      " |  \n",
      " |  __add__(self, value, /)\n",
      " |      Return self+value.\n",
      " |  \n",
      " |  __bool__(self, /)\n",
      " |      self != 0\n",
      " |  \n",
      " |  __divmod__(self, value, /)\n",
      " |      Return divmod(self, value).\n",
      " |  \n",
      " |  __eq__(self, value, /)\n",
      " |      Return self==value.\n",
      " |  \n",
      " |  __float__(self, /)\n",
      " |      float(self)\n",
      " |  \n",
      " |  __floordiv__(self, value, /)\n",
      " |      Return self//value.\n",
      " |  \n",
      " |  __format__(...)\n",
      " |      complex.__format__() -> str\n",
      " |      \n",
      " |      Convert to a string according to format_spec.\n",
      " |  \n",
      " |  __ge__(self, value, /)\n",
      " |      Return self>=value.\n",
      " |  \n",
      " |  __getattribute__(self, name, /)\n",
      " |      Return getattr(self, name).\n",
      " |  \n",
      " |  __getnewargs__(...)\n",
      " |  \n",
      " |  __gt__(self, value, /)\n",
      " |      Return self>value.\n",
      " |  \n",
      " |  __hash__(self, /)\n",
      " |      Return hash(self).\n",
      " |  \n",
      " |  __int__(self, /)\n",
      " |      int(self)\n",
      " |  \n",
      " |  __le__(self, value, /)\n",
      " |      Return self<=value.\n",
      " |  \n",
      " |  __lt__(self, value, /)\n",
      " |      Return self<value.\n",
      " |  \n",
      " |  __mod__(self, value, /)\n",
      " |      Return self%value.\n",
      " |  \n",
      " |  __mul__(self, value, /)\n",
      " |      Return self*value.\n",
      " |  \n",
      " |  __ne__(self, value, /)\n",
      " |      Return self!=value.\n",
      " |  \n",
      " |  __neg__(self, /)\n",
      " |      -self\n",
      " |  \n",
      " |  __pos__(self, /)\n",
      " |      +self\n",
      " |  \n",
      " |  __pow__(self, value, mod=None, /)\n",
      " |      Return pow(self, value, mod).\n",
      " |  \n",
      " |  __radd__(self, value, /)\n",
      " |      Return value+self.\n",
      " |  \n",
      " |  __rdivmod__(self, value, /)\n",
      " |      Return divmod(value, self).\n",
      " |  \n",
      " |  __repr__(self, /)\n",
      " |      Return repr(self).\n",
      " |  \n",
      " |  __rfloordiv__(self, value, /)\n",
      " |      Return value//self.\n",
      " |  \n",
      " |  __rmod__(self, value, /)\n",
      " |      Return value%self.\n",
      " |  \n",
      " |  __rmul__(self, value, /)\n",
      " |      Return value*self.\n",
      " |  \n",
      " |  __rpow__(self, value, mod=None, /)\n",
      " |      Return pow(value, self, mod).\n",
      " |  \n",
      " |  __rsub__(self, value, /)\n",
      " |      Return value-self.\n",
      " |  \n",
      " |  __rtruediv__(self, value, /)\n",
      " |      Return value/self.\n",
      " |  \n",
      " |  __sub__(self, value, /)\n",
      " |      Return self-value.\n",
      " |  \n",
      " |  __truediv__(self, value, /)\n",
      " |      Return self/value.\n",
      " |  \n",
      " |  conjugate(...)\n",
      " |      complex.conjugate() -> complex\n",
      " |      \n",
      " |      Return the complex conjugate of its argument. (3-4j).conjugate() == 3+4j.\n",
      " |  \n",
      " |  ----------------------------------------------------------------------\n",
      " |  Static methods defined here:\n",
      " |  \n",
      " |  __new__(*args, **kwargs) from builtins.type\n",
      " |      Create and return a new object.  See help(type) for accurate signature.\n",
      " |  \n",
      " |  ----------------------------------------------------------------------\n",
      " |  Data descriptors defined here:\n",
      " |  \n",
      " |  imag\n",
      " |      the imaginary part of a complex number\n",
      " |  \n",
      " |  real\n",
      " |      the real part of a complex number\n",
      "\n"
     ]
    }
   ],
   "source": [
    "help(\"complex\")"
   ]
  },
  {
   "cell_type": "code",
   "execution_count": null,
   "id": "8f9138b0-de02-45be-bb5c-1fdf257e13b4",
   "metadata": {},
   "outputs": [],
   "source": [
    "print(x.real)  # access slot `real` of object `x` of class `complex`\n",
    "## 1.0\n",
    "print(x.imag)\n",
    "## 2.0"
   ]
  },
  {
   "cell_type": "code",
   "execution_count": 55,
   "id": "05b28e03-d088-4505-8d61-0b142d850134",
   "metadata": {},
   "outputs": [
    {
     "data": {
      "text/plain": [
       "(1-2j)"
      ]
     },
     "execution_count": 55,
     "metadata": {},
     "output_type": "execute_result"
    }
   ],
   "source": [
    "x.conjugate()  # equivalently: complex.conjugate(x)\n",
    "## (1-2j)"
   ]
  },
  {
   "cell_type": "code",
   "execution_count": 58,
   "id": "aaa7eaf1-4e6a-4337-abb2-d759835ad6f7",
   "metadata": {},
   "outputs": [
    {
     "data": {
      "text/plain": [
       "False"
      ]
     },
     "execution_count": 58,
     "metadata": {},
     "output_type": "execute_result"
    }
   ],
   "source": [
    "1 == 1.0  # is equal to?\n",
    "## True\n",
    "2 != 3  # is not equal to?\n",
    "## True\n",
    "\"spam\" < \"egg\" # is less than? (with respect to the lexicographic order)\n",
    "## False"
   ]
  },
  {
   "cell_type": "code",
   "execution_count": 61,
   "id": "763fbf73-bcac-4613-af3f-386065d9a14d",
   "metadata": {},
   "outputs": [
    {
     "data": {
      "text/plain": [
       "True"
      ]
     },
     "execution_count": 61,
     "metadata": {},
     "output_type": "execute_result"
    }
   ],
   "source": [
    "3 <= math.pi and math.pi <= 4"
   ]
  },
  {
   "cell_type": "code",
   "execution_count": 62,
   "id": "191356fe-a7d7-4d3b-afda-994df9c622fd",
   "metadata": {},
   "outputs": [
    {
     "data": {
      "text/plain": [
       "True"
      ]
     },
     "execution_count": 62,
     "metadata": {},
     "output_type": "execute_result"
    }
   ],
   "source": [
    "not (1 > 2 and 2 < 3) and not 100 <= 3"
   ]
  },
  {
   "cell_type": "code",
   "execution_count": null,
   "id": "e4b376c6-c037-41d6-9278-1c1e02281dce",
   "metadata": {},
   "outputs": [],
   "source": []
  }
 ],
 "metadata": {
  "kernelspec": {
   "display_name": "Python 3",
   "language": "python",
   "name": "python3"
  },
  "language_info": {
   "codemirror_mode": {
    "name": "ipython",
    "version": 3
   },
   "file_extension": ".py",
   "mimetype": "text/x-python",
   "name": "python",
   "nbconvert_exporter": "python",
   "pygments_lexer": "ipython3",
   "version": "3.8.8"
  }
 },
 "nbformat": 4,
 "nbformat_minor": 5
}
