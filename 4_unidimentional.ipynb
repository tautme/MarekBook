{
 "cells": [
  {
   "cell_type": "code",
   "execution_count": null,
   "id": "ecd49b2e-18a0-41cc-89f4-8b1adc70dd75",
   "metadata": {},
   "outputs": [],
   "source": [
    "import numpy as np\n",
    "heights = np.loadtxt(\"https://raw.githubusercontent.com/gagolews/\" +\n",
    "    \"teaching-data/master/marek/nhanes_adult_female_height_2020.txt\")"
   ]
  },
  {
   "cell_type": "code",
   "execution_count": null,
   "id": "a2114027-c57a-4f8a-b252-cf6ced9e8ad8",
   "metadata": {},
   "outputs": [],
   "source": [
    "heights[:6]"
   ]
  },
  {
   "cell_type": "code",
   "execution_count": null,
   "id": "d9f26480-44e9-4629-b583-0216c8ed53cb",
   "metadata": {},
   "outputs": [],
   "source": [
    "x = np.array([10, 20, 30, 40, 50, 60])\n",
    "x"
   ]
  },
  {
   "cell_type": "code",
   "execution_count": null,
   "id": "027db9ce-a2cf-430e-bb5f-b9a5d3582285",
   "metadata": {},
   "outputs": [],
   "source": [
    "x = np.array((10, 20, 30, 40, 50, 60))\n",
    "x"
   ]
  },
  {
   "cell_type": "code",
   "execution_count": null,
   "id": "6fcef1dd-1bad-49aa-9a90-10a622be03d4",
   "metadata": {},
   "outputs": [],
   "source": [
    "len(x)"
   ]
  },
  {
   "cell_type": "code",
   "execution_count": null,
   "id": "fa9afebe-5851-4fd3-bf09-e0d65504f776",
   "metadata": {},
   "outputs": [],
   "source": [
    "x.shape"
   ]
  },
  {
   "cell_type": "code",
   "execution_count": null,
   "id": "0b586570-1f5e-438e-8011-a176ea96c6f5",
   "metadata": {},
   "outputs": [],
   "source": [
    "x.dtype"
   ]
  },
  {
   "cell_type": "code",
   "execution_count": null,
   "id": "d79bb522-2f65-4f90-853f-b363e9302192",
   "metadata": {},
   "outputs": [],
   "source": [
    "x.astype(float)"
   ]
  },
  {
   "cell_type": "code",
   "execution_count": null,
   "id": "54dbfea9-64a5-42a2-aa85-267a0c84e2e0",
   "metadata": {},
   "outputs": [],
   "source": [
    "np.arange(0, 10, 2)"
   ]
  },
  {
   "cell_type": "code",
   "execution_count": null,
   "id": "39a37733-05d3-45df-afcf-3f3ffbc1766f",
   "metadata": {},
   "outputs": [],
   "source": [
    "np.linspace(0, 1, 5)"
   ]
  },
  {
   "cell_type": "code",
   "execution_count": null,
   "id": "494ac541-33d5-440c-b7bf-addc7582f36f",
   "metadata": {
    "tags": []
   },
   "outputs": [],
   "source": [
    "help(np.linspace)"
   ]
  },
  {
   "cell_type": "code",
   "execution_count": null,
   "id": "b25a7eb8-6e6f-4662-b899-08ed34d19bef",
   "metadata": {},
   "outputs": [],
   "source": [
    "np.repeat(5, 6)"
   ]
  },
  {
   "cell_type": "code",
   "execution_count": null,
   "id": "479e5824-5a8d-4089-922a-5712dbcd848a",
   "metadata": {},
   "outputs": [],
   "source": [
    "np.repeat([1, 2], 3)"
   ]
  },
  {
   "cell_type": "code",
   "execution_count": null,
   "id": "d2c5c461-a55b-4aa0-95e1-8ddbae7e48fe",
   "metadata": {},
   "outputs": [],
   "source": [
    "x = np.repeat([1, 2], [3, 5])\n",
    "np.repeat([1, 2], [3, 5])"
   ]
  },
  {
   "cell_type": "code",
   "execution_count": null,
   "id": "55c08568-3249-4ab6-b83a-e876f7fd828f",
   "metadata": {},
   "outputs": [],
   "source": [
    "type(x)"
   ]
  },
  {
   "cell_type": "code",
   "execution_count": null,
   "id": "8bbb5f81-66fc-413e-b1f1-8fec77a29fe7",
   "metadata": {},
   "outputs": [],
   "source": [
    "np.tile([1, 2], 3)"
   ]
  },
  {
   "cell_type": "code",
   "execution_count": null,
   "id": "ae64e11b-1616-44e5-9282-f8cf5f943b4a",
   "metadata": {},
   "outputs": [],
   "source": [
    "np.zeros(4)"
   ]
  },
  {
   "cell_type": "code",
   "execution_count": null,
   "id": "c741d6d9-a346-4b40-8181-51f91015cfe6",
   "metadata": {},
   "outputs": [],
   "source": [
    "np.ones(4)"
   ]
  },
  {
   "cell_type": "code",
   "execution_count": null,
   "id": "7b964224-d763-452c-ba99-2304b1e55e82",
   "metadata": {},
   "outputs": [],
   "source": [
    "np.repeat(1, 4).astype(float)"
   ]
  },
  {
   "cell_type": "markdown",
   "id": "bf72d519-f75d-4ed8-b79e-b54dad2c13d3",
   "metadata": {},
   "source": [
    "https://datawranglingpy.gagolewski.com/chapter/210-vector.html#numpy-r"
   ]
  },
  {
   "cell_type": "code",
   "execution_count": null,
   "id": "92f26064-d4ea-47d9-8423-8e1514f27ab7",
   "metadata": {},
   "outputs": [],
   "source": []
  }
 ],
 "metadata": {
  "kernelspec": {
   "display_name": "Python 3 (ipykernel)",
   "language": "python",
   "name": "python3"
  },
  "language_info": {
   "codemirror_mode": {
    "name": "ipython",
    "version": 3
   },
   "file_extension": ".py",
   "mimetype": "text/x-python",
   "name": "python",
   "nbconvert_exporter": "python",
   "pygments_lexer": "ipython3",
   "version": "3.9.7"
  }
 },
 "nbformat": 4,
 "nbformat_minor": 5
}
