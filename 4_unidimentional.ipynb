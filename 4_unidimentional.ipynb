{
 "cells": [
  {
   "cell_type": "code",
   "execution_count": null,
   "id": "d60bd9ca-7872-4443-b47c-50755d3375b4",
   "metadata": {},
   "outputs": [],
   "source": [
    "import pandas as pd\n",
    "\n",
    "# further settings - optional:\n",
    "pd.set_option(\"display.notebook_repr_html\", False)  # disable \"rich\" output\n",
    "\n",
    "import os\n",
    "os.environ[\"COLUMNS\"] = \"74\"  # output width, in characters\n",
    "np.set_printoptions(linewidth=74)\n",
    "pd.set_option(\"display.width\", 74)\n",
    "\n",
    "\n",
    "plt.style.use(\"seaborn\")  # overall plot style\n",
    "\n",
    "_colours = [  # the \"R4\" palette\n",
    "    \"#000000\", \"#DF536B\", \"#61D04F\", \"#2297E6\",\n",
    "    \"#28E2E5\", \"#CD0BBC\", \"#F5C710\", \"#999999\"\n",
    "]\n",
    "\n",
    "_linestyles = [\n",
    "    \"solid\", \"dashed\", \"dashdot\", \"dotted\"\n",
    "]\n",
    "\n",
    "plt.rcParams[\"axes.prop_cycle\"] = plt.cycler(\n",
    "    # each plotted line will have a different plotting style\n",
    "    color=_colours, linestyle=_linestyles*2\n",
    ")\n",
    "plt.rcParams[\"patch.facecolor\"] = _colours[0]\n",
    "\n",
    "np.random.seed(123)  # initialise the pseudorandom number generator"
   ]
  },
  {
   "cell_type": "code",
   "execution_count": null,
   "id": "ecd49b2e-18a0-41cc-89f4-8b1adc70dd75",
   "metadata": {},
   "outputs": [],
   "source": [
    "import numpy as np\n",
    "heights = np.loadtxt(\"https://raw.githubusercontent.com/gagolews/\" +\n",
    "    \"teaching-data/master/marek/nhanes_adult_female_height_2020.txt\")"
   ]
  },
  {
   "cell_type": "code",
   "execution_count": null,
   "id": "a2114027-c57a-4f8a-b252-cf6ced9e8ad8",
   "metadata": {},
   "outputs": [],
   "source": [
    "heights[:6]"
   ]
  },
  {
   "cell_type": "code",
   "execution_count": null,
   "id": "d9f26480-44e9-4629-b583-0216c8ed53cb",
   "metadata": {},
   "outputs": [],
   "source": [
    "x = np.array([10, 20, 30, 40, 50, 60])\n",
    "x"
   ]
  },
  {
   "cell_type": "code",
   "execution_count": null,
   "id": "027db9ce-a2cf-430e-bb5f-b9a5d3582285",
   "metadata": {},
   "outputs": [],
   "source": [
    "x = np.array((10, 20, 30, 40, 50, 60))\n",
    "x"
   ]
  },
  {
   "cell_type": "code",
   "execution_count": null,
   "id": "6fcef1dd-1bad-49aa-9a90-10a622be03d4",
   "metadata": {},
   "outputs": [],
   "source": [
    "len(x)"
   ]
  },
  {
   "cell_type": "code",
   "execution_count": null,
   "id": "fa9afebe-5851-4fd3-bf09-e0d65504f776",
   "metadata": {},
   "outputs": [],
   "source": [
    "x.shape"
   ]
  },
  {
   "cell_type": "code",
   "execution_count": null,
   "id": "0b586570-1f5e-438e-8011-a176ea96c6f5",
   "metadata": {},
   "outputs": [],
   "source": [
    "x.dtype"
   ]
  },
  {
   "cell_type": "code",
   "execution_count": null,
   "id": "d79bb522-2f65-4f90-853f-b363e9302192",
   "metadata": {},
   "outputs": [],
   "source": [
    "x.astype(float)"
   ]
  },
  {
   "cell_type": "code",
   "execution_count": null,
   "id": "54dbfea9-64a5-42a2-aa85-267a0c84e2e0",
   "metadata": {},
   "outputs": [],
   "source": [
    "np.arange(0, 10, 2)"
   ]
  },
  {
   "cell_type": "code",
   "execution_count": null,
   "id": "39a37733-05d3-45df-afcf-3f3ffbc1766f",
   "metadata": {},
   "outputs": [],
   "source": [
    "np.linspace(0, 1, 5)"
   ]
  },
  {
   "cell_type": "code",
   "execution_count": null,
   "id": "494ac541-33d5-440c-b7bf-addc7582f36f",
   "metadata": {
    "tags": []
   },
   "outputs": [],
   "source": [
    "help(np.linspace)"
   ]
  },
  {
   "cell_type": "code",
   "execution_count": null,
   "id": "b25a7eb8-6e6f-4662-b899-08ed34d19bef",
   "metadata": {},
   "outputs": [],
   "source": [
    "np.repeat(5, 6)"
   ]
  },
  {
   "cell_type": "code",
   "execution_count": null,
   "id": "479e5824-5a8d-4089-922a-5712dbcd848a",
   "metadata": {},
   "outputs": [],
   "source": [
    "np.repeat([1, 2], 3)"
   ]
  },
  {
   "cell_type": "code",
   "execution_count": null,
   "id": "d2c5c461-a55b-4aa0-95e1-8ddbae7e48fe",
   "metadata": {},
   "outputs": [],
   "source": [
    "x = np.repeat([1, 2], [3, 5])\n",
    "np.repeat([1, 2], [3, 5])"
   ]
  },
  {
   "cell_type": "code",
   "execution_count": null,
   "id": "55c08568-3249-4ab6-b83a-e876f7fd828f",
   "metadata": {},
   "outputs": [],
   "source": [
    "type(x)"
   ]
  },
  {
   "cell_type": "code",
   "execution_count": null,
   "id": "8bbb5f81-66fc-413e-b1f1-8fec77a29fe7",
   "metadata": {},
   "outputs": [],
   "source": [
    "np.tile([1, 2], 3)"
   ]
  },
  {
   "cell_type": "code",
   "execution_count": null,
   "id": "ae64e11b-1616-44e5-9282-f8cf5f943b4a",
   "metadata": {},
   "outputs": [],
   "source": [
    "np.zeros(4)"
   ]
  },
  {
   "cell_type": "code",
   "execution_count": null,
   "id": "c741d6d9-a346-4b40-8181-51f91015cfe6",
   "metadata": {},
   "outputs": [],
   "source": [
    "np.ones(4)"
   ]
  },
  {
   "cell_type": "code",
   "execution_count": null,
   "id": "7b964224-d763-452c-ba99-2304b1e55e82",
   "metadata": {},
   "outputs": [],
   "source": [
    "np.repeat(1, 4).astype(float)"
   ]
  },
  {
   "cell_type": "markdown",
   "id": "bf72d519-f75d-4ed8-b79e-b54dad2c13d3",
   "metadata": {},
   "source": [
    "https://datawranglingpy.gagolewski.com/chapter/210-vector.html#numpy-r"
   ]
  },
  {
   "cell_type": "markdown",
   "id": "21abc0f9-fd14-46a5-ae78-856928dbb180",
   "metadata": {},
   "source": [
    "**4.1.4. numpy.r_(*)**"
   ]
  },
  {
   "cell_type": "code",
   "execution_count": null,
   "id": "3054867a-f3b5-4a49-a281-872446ca864d",
   "metadata": {},
   "outputs": [],
   "source": [
    "import numpy as np"
   ]
  },
  {
   "cell_type": "code",
   "execution_count": null,
   "id": "76048ba6-bb4b-41a2-9e20-1a3af98c5757",
   "metadata": {},
   "outputs": [],
   "source": [
    "np.r_[1, 2, 3, np.nan, 5, np.inf]"
   ]
  },
  {
   "cell_type": "code",
   "execution_count": null,
   "id": "c9ca2c6f-4402-4211-9830-1aa4b91191f2",
   "metadata": {},
   "outputs": [],
   "source": [
    "np.r_[0:10:2]"
   ]
  },
  {
   "cell_type": "code",
   "execution_count": null,
   "id": "1e22aeae-a001-4160-a1d0-8c93cbc10508",
   "metadata": {},
   "outputs": [],
   "source": [
    "np.r_[0:1:5j]"
   ]
  },
  {
   "cell_type": "code",
   "execution_count": null,
   "id": "42e7e847-f873-48ed-970f-e72192e70712",
   "metadata": {},
   "outputs": [],
   "source": [
    "np.r_[1, 2, [3]*2, 0:3, 0:3:3j]"
   ]
  },
  {
   "cell_type": "code",
   "execution_count": null,
   "id": "732ba14c-f774-4279-b4b4-4fbf04f778cd",
   "metadata": {},
   "outputs": [],
   "source": [
    "np.random.rand(5)"
   ]
  },
  {
   "cell_type": "code",
   "execution_count": null,
   "id": "7678ab91-61a0-4d2e-b2ff-68ec97532122",
   "metadata": {},
   "outputs": [],
   "source": [
    "np.random.choice(np.arange(1, 10), 20)"
   ]
  },
  {
   "cell_type": "code",
   "execution_count": null,
   "id": "79901036-3581-4081-ab91-dcd19d6f645b",
   "metadata": {},
   "outputs": [],
   "source": [
    "plcu = np.loadtxt(\"https://raw.githubusercontent.com/gagolews/teaching-data/master/marek/population_largest_cities_unnamed.txt\")"
   ]
  },
  {
   "cell_type": "code",
   "execution_count": null,
   "id": "8b3ab7ba-c744-435e-8468-5cd17ea6c787",
   "metadata": {},
   "outputs": [],
   "source": [
    "type(plcu)"
   ]
  },
  {
   "cell_type": "code",
   "execution_count": null,
   "id": "fcbdd61b-5693-4333-bb88-f5a32bdfc7f3",
   "metadata": {},
   "outputs": [],
   "source": [
    "plcu[0:10]"
   ]
  },
  {
   "cell_type": "code",
   "execution_count": null,
   "id": "2101b9c3-5b50-4d36-a2a6-65a88d8017af",
   "metadata": {},
   "outputs": [],
   "source": [
    "len(plcu)"
   ]
  },
  {
   "cell_type": "code",
   "execution_count": null,
   "id": "9d805c52-5788-47f4-ab86-77c7820c034a",
   "metadata": {},
   "outputs": [],
   "source": [
    "plcu.shape"
   ]
  },
  {
   "cell_type": "markdown",
   "id": "cb4a4b40-21d6-428b-8468-02a89c863372",
   "metadata": {},
   "source": [
    "**4.2. Mathematical Notation**"
   ]
  },
  {
   "cell_type": "code",
   "execution_count": null,
   "id": "485f6eb0-cd86-4abe-a2db-2e26982337c0",
   "metadata": {},
   "outputs": [],
   "source": [
    "x = np.array([5, 4, 2, 1, 3])  # just an example\n",
    "x_sorted = np.sort(x)\n",
    "x_sorted[0], x_sorted[-1]  # the minimum and the maximum"
   ]
  },
  {
   "cell_type": "markdown",
   "id": "c1b03cc1-d250-4c27-9904-44c57f44abb0",
   "metadata": {},
   "source": [
    "$ x = (x_1, x_2, ..., x_i, ..., x_n)$"
   ]
  },
  {
   "cell_type": "markdown",
   "id": "125ed47c-2277-460e-a101-0d210608f97e",
   "metadata": {},
   "source": [
    "$x_i$ is `x[i-1]` because the first element is at index 0"
   ]
  },
  {
   "cell_type": "markdown",
   "id": "4ac0d818-f6ad-4dda-b989-7e5099889699",
   "metadata": {},
   "source": [
    "let $x \\in \\mathbb{R}^n$"
   ]
  },
  {
   "cell_type": "markdown",
   "id": "c75138ca-6f93-407e-9dae-1de4107ee3e0",
   "metadata": {},
   "source": [
    "The $\\in$ symbol stands for \"is in\" or \"is a member of\""
   ]
  },
  {
   "cell_type": "markdown",
   "id": "3e55ee00-7604-4334-93af-c79c23e16c34",
   "metadata": {},
   "source": [
    "$\\mathbb{R}$ denotes a set of real numbers"
   ]
  },
  {
   "cell_type": "markdown",
   "id": "b741a2eb-4491-4232-ac4a-0d835e663ca4",
   "metadata": {},
   "source": [
    "$\\mathbb{R}^n$ is a set of real-valued sequences of length $n$"
   ]
  },
  {
   "cell_type": "markdown",
   "id": "58cf9406-688d-4979-8dae-23a0977e2a52",
   "metadata": {},
   "source": [
    "**4.3. Inspecting the Data Distribution with Histograms**"
   ]
  },
  {
   "cell_type": "code",
   "execution_count": null,
   "id": "58c2f8c8-e251-45a3-b5d3-1dc0467fe46e",
   "metadata": {},
   "outputs": [],
   "source": [
    "import matplotlib.pyplot as plt\n",
    "import seaborn as sns"
   ]
  },
  {
   "cell_type": "code",
   "execution_count": null,
   "id": "f0a6ddde-0b59-4d7a-8c83-88a80b375f57",
   "metadata": {},
   "outputs": [],
   "source": [
    "sns.histplot(heights, bins = 11, color = \"lightgray\")\n",
    "plt.show()"
   ]
  },
  {
   "cell_type": "code",
   "execution_count": null,
   "id": "67e27083-460c-4e65-91f9-7db61780e2b1",
   "metadata": {
    "tags": []
   },
   "outputs": [],
   "source": [
    "income = np.loadtxt(\"https://raw.githubusercontent.com/gagolews/\" +\n",
    "    \"teaching-data/master/marek/uk_income_simulated_2020.txt\")\n",
    "sns.histplot(income, stat=\"percent\", bins=20, color=\"lightgray\")\n",
    "plt.show()"
   ]
  },
  {
   "cell_type": "code",
   "execution_count": null,
   "id": "48976c1b-4652-4417-a5a1-ec3b281b04f2",
   "metadata": {
    "tags": []
   },
   "outputs": [],
   "source": [
    "nhanes = np.loadtxt(\"https://raw.githubusercontent.com/gagolews/teaching-data/master/marek/nhanes_adult_female_weight_2020.txt\")\n",
    "sns.histplot(nhanes, bins = 25, color = \"lightgray\")\n",
    "plt.show()"
   ]
  },
  {
   "cell_type": "code",
   "execution_count": null,
   "id": "64db36fc-50d0-45cc-9760-dc823b04eae5",
   "metadata": {},
   "outputs": [],
   "source": [
    "len(income)"
   ]
  },
  {
   "cell_type": "code",
   "execution_count": null,
   "id": "a4560a1c-44f1-4c82-8b95-c10a9515103c",
   "metadata": {
    "tags": []
   },
   "outputs": [],
   "source": [
    "plt.subplot(1, 2, 1)  # 1 row, 2 columns, 1st plot\n",
    "sns.histplot(income, bins=5, color=\"lightgray\")\n",
    "plt.subplot(1, 2, 2)  # 1 row, 2 columns, 2nd plot\n",
    "sns.histplot(income, bins=200, color=\"lightgray\")\n",
    "plt.ylabel(None)\n",
    "plt.show()"
   ]
  },
  {
   "cell_type": "code",
   "execution_count": null,
   "id": "f50eab15-b992-4e9c-9e39-50497a6404e5",
   "metadata": {},
   "outputs": [],
   "source": [
    "counts, bins = np.histogram(income, 20)\n",
    "counts"
   ]
  },
  {
   "cell_type": "code",
   "execution_count": null,
   "id": "1e5cf633-a3cd-40ad-adab-7eba4e5efb05",
   "metadata": {},
   "outputs": [],
   "source": [
    "bins"
   ]
  },
  {
   "cell_type": "code",
   "execution_count": null,
   "id": "4edd0723-d058-4286-8b79-af0b7f0408cb",
   "metadata": {},
   "outputs": [],
   "source": [
    "bins[1] = 15000\n",
    "bins[3] = 40000\n",
    "bins[4] = 50000\n",
    "bins[5] = 62000"
   ]
  },
  {
   "cell_type": "code",
   "execution_count": null,
   "id": "529a790a-8f7e-4db2-b904-ff262fda0fb5",
   "metadata": {},
   "outputs": [],
   "source": [
    "sns.histplot(income, stat=\"percent\", bins=bins, color=\"lightgray\")\n",
    "plt.show()"
   ]
  },
  {
   "cell_type": "code",
   "execution_count": null,
   "id": "d52a7152-2460-45fd-9892-b256662e35e4",
   "metadata": {
    "tags": []
   },
   "outputs": [],
   "source": [
    "help(sns.histplot)"
   ]
  },
  {
   "cell_type": "code",
   "execution_count": null,
   "id": "461e0671-cda0-498f-8715-0537908d535c",
   "metadata": {
    "tags": []
   },
   "outputs": [],
   "source": [
    "help(np.histogram_bin_edges)"
   ]
  },
  {
   "cell_type": "code",
   "execution_count": null,
   "id": "10e1c385-9461-4795-9b9a-2f3510486fe4",
   "metadata": {},
   "outputs": [],
   "source": [
    "#bins = np.histogram_bin_edges(income, bins = \"fd\")\n",
    "bins = np.histogram_bin_edges(income, \n",
    "                              bins = \"sturges\"\n",
    "                             )"
   ]
  },
  {
   "cell_type": "code",
   "execution_count": null,
   "id": "6c8c03ec-0a32-44ae-9580-c09f277e54e0",
   "metadata": {},
   "outputs": [],
   "source": [
    "sns.histplot(income, stat=\"percent\", bins=bins, color=\"lightgray\")\n",
    "plt.show()"
   ]
  },
  {
   "cell_type": "markdown",
   "id": "9dee69f9-b789-4287-8411-0a6c5fdd5e07",
   "metadata": {},
   "source": [
    "4.3.4. peds: A Bimodal Distribution (Already Binned)"
   ]
  },
  {
   "cell_type": "code",
   "execution_count": null,
   "id": "6e7f315c-aa63-4136-95ad-9fbff446e78c",
   "metadata": {},
   "outputs": [],
   "source": [
    "peds = np.loadtxt(\"https://raw.githubusercontent.com/gagolews/\" +\n",
    "    \"teaching-data/master/marek/southern_cross_station_peds_2019_dec.txt\")\n",
    "peds"
   ]
  },
  {
   "cell_type": "code",
   "execution_count": null,
   "id": "03e2a59a-0e90-455e-9fcf-befda3e7680d",
   "metadata": {},
   "outputs": [],
   "source": [
    "len(peds)"
   ]
  },
  {
   "cell_type": "code",
   "execution_count": null,
   "id": "1b4b29ba-03c8-4267-87c9-a3ab8e1e7084",
   "metadata": {},
   "outputs": [],
   "source": [
    "plt.bar(np.arange(0, 24), width=1, height=peds,\n",
    "    color=\"lightgray\", edgecolor=\"black\", alpha=0.8)\n",
    "plt.show()"
   ]
  },
  {
   "cell_type": "code",
   "execution_count": null,
   "id": "564b8c79-6955-4fc8-91d4-441dcdabf8ab",
   "metadata": {},
   "outputs": [],
   "source": [
    "matura = np.loadtxt(\"https://raw.githubusercontent.com/gagolews/\" +\n",
    "    \"teaching-data/master/marek/matura_2019_polish.txt\")\n",
    "plt.bar(np.arange(0, 71), width=1, height=matura,\n",
    "    color=\"lightgray\", edgecolor=\"black\", alpha=0.8)\n",
    "plt.show()"
   ]
  },
  {
   "cell_type": "code",
   "execution_count": null,
   "id": "b0701645-d0e3-4647-9902-535728c0c85b",
   "metadata": {},
   "outputs": [],
   "source": [
    "marathon = np.loadtxt(\"https://raw.githubusercontent.com/gagolews/\" +\n",
    "    \"teaching-data/master/marek/37_pzu_warsaw_marathon_mins.txt\")"
   ]
  },
  {
   "cell_type": "code",
   "execution_count": null,
   "id": "9abc5be0-4c3c-4de1-b6f5-89f52473d6cb",
   "metadata": {},
   "outputs": [],
   "source": [
    "len(marathon)"
   ]
  },
  {
   "cell_type": "code",
   "execution_count": null,
   "id": "8e9a51fe-7098-4511-95f1-7778de4149a8",
   "metadata": {},
   "outputs": [],
   "source": [
    "marathon.shape"
   ]
  },
  {
   "cell_type": "code",
   "execution_count": null,
   "id": "89cc729c-2753-400f-94d0-dd9f4bd371b1",
   "metadata": {},
   "outputs": [],
   "source": [
    "marathon[:5]"
   ]
  },
  {
   "cell_type": "code",
   "execution_count": null,
   "id": "ea49cf06-7ff7-416b-8b86-8e673fd9fb75",
   "metadata": {},
   "outputs": [],
   "source": [
    "type(marathon)"
   ]
  },
  {
   "cell_type": "code",
   "execution_count": null,
   "id": "582d6cbd-5668-45a0-9648-ee4f0bc9120f",
   "metadata": {},
   "outputs": [],
   "source": [
    "sns.histplot(marathon[marathon < 180], color=\"lightgray\")\n",
    "plt.show()"
   ]
  },
  {
   "cell_type": "code",
   "execution_count": null,
   "id": "051a0dd5-a85b-4fc3-8027-df9dc655f7b6",
   "metadata": {},
   "outputs": [],
   "source": [
    "sns.histplot(marathon, color=\"lightgray\")\n",
    "plt.show()"
   ]
  },
  {
   "cell_type": "code",
   "execution_count": null,
   "id": "15e745f5-247e-4852-ae7c-cd837e8ffa26",
   "metadata": {},
   "outputs": [],
   "source": [
    "cities = np.loadtxt(\"https://raw.githubusercontent.com/gagolews/\" +\n",
    "    \"teaching-data/master/other/us_cities_2000.txt\")"
   ]
  },
  {
   "cell_type": "code",
   "execution_count": null,
   "id": "d9547fa1-8c8c-478a-9005-709f85759bba",
   "metadata": {},
   "outputs": [],
   "source": [
    "large_cities = cities[cities >= 10000]"
   ]
  },
  {
   "cell_type": "code",
   "execution_count": null,
   "id": "a89b204f-e1db-4b4c-ac7b-728f29a34b3e",
   "metadata": {},
   "outputs": [],
   "source": [
    "large_cities[-5:]"
   ]
  },
  {
   "cell_type": "code",
   "execution_count": null,
   "id": "e123a872-6523-4d5f-84ce-9396f94e6d6a",
   "metadata": {},
   "outputs": [],
   "source": [
    "sns.histplot(large_cities, bins=20, color=\"lightgray\")\n",
    "plt.show()"
   ]
  },
  {
   "cell_type": "code",
   "execution_count": null,
   "id": "3c2c9fa7-109d-4e50-89b0-862c140611d6",
   "metadata": {},
   "outputs": [],
   "source": [
    "sns.histplot(large_cities, bins=20, log_scale=True, color=\"lightgray\")\n",
    "plt.show()"
   ]
  },
  {
   "cell_type": "code",
   "execution_count": null,
   "id": "5a088668-d3a9-460c-9d45-c4f729a135a4",
   "metadata": {},
   "outputs": [],
   "source": [
    "sns.histplot(income, log_scale = True)\n",
    "plt.show()"
   ]
  },
  {
   "cell_type": "code",
   "execution_count": null,
   "id": "5f7fcba5-66d8-4d11-93fe-f9889745e8de",
   "metadata": {},
   "outputs": [],
   "source": [
    "count, bins = np.histogram(income)"
   ]
  },
  {
   "cell_type": "code",
   "execution_count": null,
   "id": "40c106e9-8992-4ed4-88b5-6c9f3072b1db",
   "metadata": {},
   "outputs": [],
   "source": [
    "income[:5]"
   ]
  },
  {
   "cell_type": "code",
   "execution_count": null,
   "id": "9f889eaa-2124-4da4-9287-c3d2a264a605",
   "metadata": {},
   "outputs": [],
   "source": [
    "bins = np.geomspace(income, income[:1], num = 4)"
   ]
  },
  {
   "cell_type": "code",
   "execution_count": null,
   "id": "6b623039-2687-43b7-b05f-f7b8935929a0",
   "metadata": {
    "tags": []
   },
   "outputs": [],
   "source": [
    "sns.histplot(income, bins=bins, color=\"lightgray\")\n",
    "plt.show()"
   ]
  },
  {
   "cell_type": "markdown",
   "id": "27acc8af-6890-4b82-9cc5-33547ed505e5",
   "metadata": {},
   "source": [
    "4.3.8. Cumulative Counts"
   ]
  },
  {
   "cell_type": "code",
   "execution_count": null,
   "id": "4a6e3b80-a9d8-4c33-842d-9cb700d7607e",
   "metadata": {},
   "outputs": [],
   "source": [
    "sns.histplot(heights, stat=\"percent\", cumulative=True, color=\"lightgray\")\n",
    "plt.show()"
   ]
  },
  {
   "cell_type": "code",
   "execution_count": null,
   "id": "cd77afb3-4f88-42dc-87db-bf658b675ce7",
   "metadata": {},
   "outputs": [],
   "source": [
    "n = len(heights)\n",
    "heights_sorted = np.sort(heights)\n",
    "plt.plot(heights_sorted, np.arange(1, n+1)/n, drawstyle=\"steps-post\")\n",
    "plt.xlabel(\"$t$\")  # LaTeX maths\n",
    "plt.ylabel(\"$\\\\hat{F}_n(t)$, i.e., Prob(height $\\\\leq$ t)\")\n",
    "plt.show()"
   ]
  },
  {
   "cell_type": "code",
   "execution_count": null,
   "id": "50ea6013-0e66-42be-b657-938e03d9a6ca",
   "metadata": {
    "tags": []
   },
   "outputs": [],
   "source": [
    "help(sns.ecdfplot)"
   ]
  },
  {
   "cell_type": "code",
   "execution_count": null,
   "id": "c3489001-786c-479f-8d38-dc85fdc918df",
   "metadata": {
    "tags": []
   },
   "outputs": [],
   "source": [
    "help(np.linspace)"
   ]
  },
  {
   "cell_type": "code",
   "execution_count": null,
   "id": "aace9241-fa60-4f23-a705-326456c4d371",
   "metadata": {},
   "outputs": [],
   "source": [
    "np.linspace(23, 44, num = 23)"
   ]
  },
  {
   "cell_type": "code",
   "execution_count": null,
   "id": "12ff3428-5d49-4ae5-8262-93a57e411906",
   "metadata": {
    "tags": []
   },
   "outputs": [],
   "source": [
    "help(np.arange)"
   ]
  },
  {
   "cell_type": "code",
   "execution_count": null,
   "id": "1e6ee4b9-446c-4d99-925a-54afff8aad10",
   "metadata": {},
   "outputs": [],
   "source": [
    "np.arange(23, 44, 0.9)"
   ]
  },
  {
   "cell_type": "markdown",
   "id": "d23b958c-42d6-4869-918d-95d90afc6908",
   "metadata": {},
   "source": [
    "How can I use the last output in the input for the next function?"
   ]
  },
  {
   "cell_type": "code",
   "execution_count": null,
   "id": "731b39cc-802e-4ca2-8856-a044fe984a8a",
   "metadata": {},
   "outputs": [],
   "source": [
    ".len()"
   ]
  },
  {
   "cell_type": "code",
   "execution_count": null,
   "id": "63cac50e-627f-4d0b-b9a3-1af2b9677cd1",
   "metadata": {},
   "outputs": [],
   "source": [
    "help(next)"
   ]
  },
  {
   "cell_type": "code",
   "execution_count": null,
   "id": "7b90b934-e4f7-4167-bb55-7c62e185bbfb",
   "metadata": {},
   "outputs": [],
   "source": []
  }
 ],
 "metadata": {
  "kernelspec": {
   "display_name": "Python 3 (ipykernel)",
   "language": "python",
   "name": "python3"
  },
  "language_info": {
   "codemirror_mode": {
    "name": "ipython",
    "version": 3
   },
   "file_extension": ".py",
   "mimetype": "text/x-python",
   "name": "python",
   "nbconvert_exporter": "python",
   "pygments_lexer": "ipython3",
   "version": "3.9.7"
  }
 },
 "nbformat": 4,
 "nbformat_minor": 5
}
